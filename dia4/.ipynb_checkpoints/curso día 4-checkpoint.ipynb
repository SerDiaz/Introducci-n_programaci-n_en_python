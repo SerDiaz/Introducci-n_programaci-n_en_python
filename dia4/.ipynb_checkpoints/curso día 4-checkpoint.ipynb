{
 "cells": [
  {
   "cell_type": "markdown",
   "metadata": {
    "id": "d5NwT_fm4JGL"
   },
   "source": [
    "En breve resumen hoy vamos a ver visualizaciones y cómo hacer un bot de Telegram.\n",
    "\n",
    "#Comenzamos"
   ]
  },
  {
   "cell_type": "markdown",
   "metadata": {
    "id": "XRU1xA5dXjpx"
   },
   "source": [
    "## Visualización\n"
   ]
  },
  {
   "cell_type": "markdown",
   "metadata": {
    "id": "Jj9HYxooXjpx"
   },
   "source": [
    "El objetivo principal de la visualización de datos es comunicar información o ideas complejas de forma clara, precisa y eficiente, de forma que ayude a los usuarios a analizar y razonar sobre datos y evidencias.\n",
    "\n",
    "La visualización de datos es a la vez un arte y una ciencia, como dice el refrán \"una imagen vale más que mil palabras\", o adaptada a nuestros tiempos \"una imagen vale más que mil líneas de datos\"."
   ]
  },
  {
   "cell_type": "markdown",
   "metadata": {
    "id": "IRNjNegHXjpx"
   },
   "source": [
    "De forma resumida, podríamos indicar que los cuatro puntos clave para hacer una visualización serían:\n",
    "\n",
    "- Tener un Dataset limpio: Disponer de un conjunto de datos limpio en el formato adecuado para la mayoría de herramientas de visualización.\n",
    "- Único mensaje comunicativo: Seleccionar un único mensaje, que destacaremos en cada gráfico. Según la audiencia, el tipo de gráfico y el nivel de precisión necesario.\n",
    "- Elegir la gráfica adecuada: La forma que adopta una gráfica va en función de lo que queremos transmitir: por ejemplo comparar, distribuir, etc.\n",
    "- Diseño y color: Destacar lo que interesa y lo que no, mediante el uso del color."
   ]
  },
  {
   "cell_type": "markdown",
   "metadata": {
    "id": "-Aeodq4c5C40"
   },
   "source": [
    "![visualizaciones.jpg](https://drive.google.com/uc?export=view&id=17k8eUIoBrbw-MM2p50i0m453ToN6Ikoy)"
   ]
  },
  {
   "cell_type": "markdown",
   "metadata": {
    "id": "gcoJf_EVXjpy"
   },
   "source": [
    "## Visualización  en Python"
   ]
  },
  {
   "cell_type": "markdown",
   "metadata": {
    "id": "WcQO9w4oXjpy"
   },
   "source": [
    "Para visualizar datos en Python tenemos diferentes librerías como Maplotlib, Plotly o Seaborn.\n",
    "\n",
    "Aquí nos vamos a centrar Matplotlib, seguramente la más típica de todas, la más usada con el que se pueden conseguir representaciones de calidad.\n",
    "\n",
    "La web de la cual se descargan los datos en esta ocasión es https://ourworldindata.org/coronavirus-data, son datos mundiales que nos muestran la evolución de la pandemia.\n",
    "\n",
    "Antes de nada vamos a volver a tratar con Pandas para analizar los datos que se nos da. En este caso los datos son del covid. Los cargamos con el siguiente código que nos generaba un Dataframe de Pandas y lo almacenamos en una variable que llamamos datos."
   ]
  },
  {
   "cell_type": "code",
   "execution_count": 38,
   "metadata": {
    "colab": {
     "base_uri": "https://localhost:8080/",
     "height": 609
    },
    "executionInfo": {
     "elapsed": 2392,
     "status": "ok",
     "timestamp": 1607804097876,
     "user": {
      "displayName": "Sergio Díaz González",
      "photoUrl": "https://lh3.googleusercontent.com/a-/AOh14GjH7Zktgr3uD34RSxgsa-w8hVqB4gj5e5lKtsu9=s64",
      "userId": "02816479088502848749"
     },
     "user_tz": 0
    },
    "id": "It3ZPFlTXjpy",
    "outputId": "e66c03c5-abef-45cf-8763-7850f38fe543",
    "scrolled": true
   },
   "outputs": [
    {
     "data": {
      "text/html": [
       "<div>\n",
       "<style scoped>\n",
       "    .dataframe tbody tr th:only-of-type {\n",
       "        vertical-align: middle;\n",
       "    }\n",
       "\n",
       "    .dataframe tbody tr th {\n",
       "        vertical-align: top;\n",
       "    }\n",
       "\n",
       "    .dataframe thead th {\n",
       "        text-align: right;\n",
       "    }\n",
       "</style>\n",
       "<table border=\"1\" class=\"dataframe\">\n",
       "  <thead>\n",
       "    <tr style=\"text-align: right;\">\n",
       "      <th></th>\n",
       "      <th>iso_code</th>\n",
       "      <th>continent</th>\n",
       "      <th>location</th>\n",
       "      <th>date</th>\n",
       "      <th>total_cases</th>\n",
       "      <th>new_cases</th>\n",
       "      <th>new_cases_smoothed</th>\n",
       "      <th>total_deaths</th>\n",
       "      <th>new_deaths</th>\n",
       "      <th>new_deaths_smoothed</th>\n",
       "      <th>total_cases_per_million</th>\n",
       "      <th>new_cases_per_million</th>\n",
       "      <th>new_cases_smoothed_per_million</th>\n",
       "      <th>total_deaths_per_million</th>\n",
       "      <th>new_deaths_per_million</th>\n",
       "      <th>new_deaths_smoothed_per_million</th>\n",
       "      <th>reproduction_rate</th>\n",
       "      <th>icu_patients</th>\n",
       "      <th>icu_patients_per_million</th>\n",
       "      <th>hosp_patients</th>\n",
       "      <th>hosp_patients_per_million</th>\n",
       "      <th>weekly_icu_admissions</th>\n",
       "      <th>weekly_icu_admissions_per_million</th>\n",
       "      <th>weekly_hosp_admissions</th>\n",
       "      <th>weekly_hosp_admissions_per_million</th>\n",
       "      <th>total_tests</th>\n",
       "      <th>new_tests</th>\n",
       "      <th>total_tests_per_thousand</th>\n",
       "      <th>new_tests_per_thousand</th>\n",
       "      <th>new_tests_smoothed</th>\n",
       "      <th>new_tests_smoothed_per_thousand</th>\n",
       "      <th>positive_rate</th>\n",
       "      <th>tests_per_case</th>\n",
       "      <th>tests_units</th>\n",
       "      <th>stringency_index</th>\n",
       "      <th>population</th>\n",
       "      <th>population_density</th>\n",
       "      <th>median_age</th>\n",
       "      <th>aged_65_older</th>\n",
       "      <th>aged_70_older</th>\n",
       "      <th>gdp_per_capita</th>\n",
       "      <th>extreme_poverty</th>\n",
       "      <th>cardiovasc_death_rate</th>\n",
       "      <th>diabetes_prevalence</th>\n",
       "      <th>female_smokers</th>\n",
       "      <th>male_smokers</th>\n",
       "      <th>handwashing_facilities</th>\n",
       "      <th>hospital_beds_per_thousand</th>\n",
       "      <th>life_expectancy</th>\n",
       "      <th>human_development_index</th>\n",
       "    </tr>\n",
       "  </thead>\n",
       "  <tbody>\n",
       "    <tr>\n",
       "      <th>0</th>\n",
       "      <td>AFG</td>\n",
       "      <td>Asia</td>\n",
       "      <td>Afghanistan</td>\n",
       "      <td>2020-01-23</td>\n",
       "      <td>NaN</td>\n",
       "      <td>0.0</td>\n",
       "      <td>NaN</td>\n",
       "      <td>NaN</td>\n",
       "      <td>0.0</td>\n",
       "      <td>NaN</td>\n",
       "      <td>NaN</td>\n",
       "      <td>0.0</td>\n",
       "      <td>NaN</td>\n",
       "      <td>NaN</td>\n",
       "      <td>0.0</td>\n",
       "      <td>NaN</td>\n",
       "      <td>NaN</td>\n",
       "      <td>NaN</td>\n",
       "      <td>NaN</td>\n",
       "      <td>NaN</td>\n",
       "      <td>NaN</td>\n",
       "      <td>NaN</td>\n",
       "      <td>NaN</td>\n",
       "      <td>NaN</td>\n",
       "      <td>NaN</td>\n",
       "      <td>NaN</td>\n",
       "      <td>NaN</td>\n",
       "      <td>NaN</td>\n",
       "      <td>NaN</td>\n",
       "      <td>NaN</td>\n",
       "      <td>NaN</td>\n",
       "      <td>NaN</td>\n",
       "      <td>NaN</td>\n",
       "      <td>NaN</td>\n",
       "      <td>0.0</td>\n",
       "      <td>38928341.0</td>\n",
       "      <td>54.422</td>\n",
       "      <td>18.6</td>\n",
       "      <td>2.581</td>\n",
       "      <td>1.337</td>\n",
       "      <td>1803.987</td>\n",
       "      <td>NaN</td>\n",
       "      <td>597.029</td>\n",
       "      <td>9.59</td>\n",
       "      <td>NaN</td>\n",
       "      <td>NaN</td>\n",
       "      <td>37.746</td>\n",
       "      <td>0.5</td>\n",
       "      <td>64.83</td>\n",
       "      <td>0.498</td>\n",
       "    </tr>\n",
       "    <tr>\n",
       "      <th>1</th>\n",
       "      <td>AFG</td>\n",
       "      <td>Asia</td>\n",
       "      <td>Afghanistan</td>\n",
       "      <td>2020-01-24</td>\n",
       "      <td>NaN</td>\n",
       "      <td>0.0</td>\n",
       "      <td>NaN</td>\n",
       "      <td>NaN</td>\n",
       "      <td>0.0</td>\n",
       "      <td>NaN</td>\n",
       "      <td>NaN</td>\n",
       "      <td>0.0</td>\n",
       "      <td>NaN</td>\n",
       "      <td>NaN</td>\n",
       "      <td>0.0</td>\n",
       "      <td>NaN</td>\n",
       "      <td>NaN</td>\n",
       "      <td>NaN</td>\n",
       "      <td>NaN</td>\n",
       "      <td>NaN</td>\n",
       "      <td>NaN</td>\n",
       "      <td>NaN</td>\n",
       "      <td>NaN</td>\n",
       "      <td>NaN</td>\n",
       "      <td>NaN</td>\n",
       "      <td>NaN</td>\n",
       "      <td>NaN</td>\n",
       "      <td>NaN</td>\n",
       "      <td>NaN</td>\n",
       "      <td>NaN</td>\n",
       "      <td>NaN</td>\n",
       "      <td>NaN</td>\n",
       "      <td>NaN</td>\n",
       "      <td>NaN</td>\n",
       "      <td>0.0</td>\n",
       "      <td>38928341.0</td>\n",
       "      <td>54.422</td>\n",
       "      <td>18.6</td>\n",
       "      <td>2.581</td>\n",
       "      <td>1.337</td>\n",
       "      <td>1803.987</td>\n",
       "      <td>NaN</td>\n",
       "      <td>597.029</td>\n",
       "      <td>9.59</td>\n",
       "      <td>NaN</td>\n",
       "      <td>NaN</td>\n",
       "      <td>37.746</td>\n",
       "      <td>0.5</td>\n",
       "      <td>64.83</td>\n",
       "      <td>0.498</td>\n",
       "    </tr>\n",
       "    <tr>\n",
       "      <th>2</th>\n",
       "      <td>AFG</td>\n",
       "      <td>Asia</td>\n",
       "      <td>Afghanistan</td>\n",
       "      <td>2020-01-25</td>\n",
       "      <td>NaN</td>\n",
       "      <td>0.0</td>\n",
       "      <td>NaN</td>\n",
       "      <td>NaN</td>\n",
       "      <td>0.0</td>\n",
       "      <td>NaN</td>\n",
       "      <td>NaN</td>\n",
       "      <td>0.0</td>\n",
       "      <td>NaN</td>\n",
       "      <td>NaN</td>\n",
       "      <td>0.0</td>\n",
       "      <td>NaN</td>\n",
       "      <td>NaN</td>\n",
       "      <td>NaN</td>\n",
       "      <td>NaN</td>\n",
       "      <td>NaN</td>\n",
       "      <td>NaN</td>\n",
       "      <td>NaN</td>\n",
       "      <td>NaN</td>\n",
       "      <td>NaN</td>\n",
       "      <td>NaN</td>\n",
       "      <td>NaN</td>\n",
       "      <td>NaN</td>\n",
       "      <td>NaN</td>\n",
       "      <td>NaN</td>\n",
       "      <td>NaN</td>\n",
       "      <td>NaN</td>\n",
       "      <td>NaN</td>\n",
       "      <td>NaN</td>\n",
       "      <td>NaN</td>\n",
       "      <td>0.0</td>\n",
       "      <td>38928341.0</td>\n",
       "      <td>54.422</td>\n",
       "      <td>18.6</td>\n",
       "      <td>2.581</td>\n",
       "      <td>1.337</td>\n",
       "      <td>1803.987</td>\n",
       "      <td>NaN</td>\n",
       "      <td>597.029</td>\n",
       "      <td>9.59</td>\n",
       "      <td>NaN</td>\n",
       "      <td>NaN</td>\n",
       "      <td>37.746</td>\n",
       "      <td>0.5</td>\n",
       "      <td>64.83</td>\n",
       "      <td>0.498</td>\n",
       "    </tr>\n",
       "    <tr>\n",
       "      <th>3</th>\n",
       "      <td>AFG</td>\n",
       "      <td>Asia</td>\n",
       "      <td>Afghanistan</td>\n",
       "      <td>2020-01-26</td>\n",
       "      <td>NaN</td>\n",
       "      <td>0.0</td>\n",
       "      <td>NaN</td>\n",
       "      <td>NaN</td>\n",
       "      <td>0.0</td>\n",
       "      <td>NaN</td>\n",
       "      <td>NaN</td>\n",
       "      <td>0.0</td>\n",
       "      <td>NaN</td>\n",
       "      <td>NaN</td>\n",
       "      <td>0.0</td>\n",
       "      <td>NaN</td>\n",
       "      <td>NaN</td>\n",
       "      <td>NaN</td>\n",
       "      <td>NaN</td>\n",
       "      <td>NaN</td>\n",
       "      <td>NaN</td>\n",
       "      <td>NaN</td>\n",
       "      <td>NaN</td>\n",
       "      <td>NaN</td>\n",
       "      <td>NaN</td>\n",
       "      <td>NaN</td>\n",
       "      <td>NaN</td>\n",
       "      <td>NaN</td>\n",
       "      <td>NaN</td>\n",
       "      <td>NaN</td>\n",
       "      <td>NaN</td>\n",
       "      <td>NaN</td>\n",
       "      <td>NaN</td>\n",
       "      <td>NaN</td>\n",
       "      <td>0.0</td>\n",
       "      <td>38928341.0</td>\n",
       "      <td>54.422</td>\n",
       "      <td>18.6</td>\n",
       "      <td>2.581</td>\n",
       "      <td>1.337</td>\n",
       "      <td>1803.987</td>\n",
       "      <td>NaN</td>\n",
       "      <td>597.029</td>\n",
       "      <td>9.59</td>\n",
       "      <td>NaN</td>\n",
       "      <td>NaN</td>\n",
       "      <td>37.746</td>\n",
       "      <td>0.5</td>\n",
       "      <td>64.83</td>\n",
       "      <td>0.498</td>\n",
       "    </tr>\n",
       "    <tr>\n",
       "      <th>4</th>\n",
       "      <td>AFG</td>\n",
       "      <td>Asia</td>\n",
       "      <td>Afghanistan</td>\n",
       "      <td>2020-01-27</td>\n",
       "      <td>NaN</td>\n",
       "      <td>0.0</td>\n",
       "      <td>NaN</td>\n",
       "      <td>NaN</td>\n",
       "      <td>0.0</td>\n",
       "      <td>NaN</td>\n",
       "      <td>NaN</td>\n",
       "      <td>0.0</td>\n",
       "      <td>NaN</td>\n",
       "      <td>NaN</td>\n",
       "      <td>0.0</td>\n",
       "      <td>NaN</td>\n",
       "      <td>NaN</td>\n",
       "      <td>NaN</td>\n",
       "      <td>NaN</td>\n",
       "      <td>NaN</td>\n",
       "      <td>NaN</td>\n",
       "      <td>NaN</td>\n",
       "      <td>NaN</td>\n",
       "      <td>NaN</td>\n",
       "      <td>NaN</td>\n",
       "      <td>NaN</td>\n",
       "      <td>NaN</td>\n",
       "      <td>NaN</td>\n",
       "      <td>NaN</td>\n",
       "      <td>NaN</td>\n",
       "      <td>NaN</td>\n",
       "      <td>NaN</td>\n",
       "      <td>NaN</td>\n",
       "      <td>NaN</td>\n",
       "      <td>0.0</td>\n",
       "      <td>38928341.0</td>\n",
       "      <td>54.422</td>\n",
       "      <td>18.6</td>\n",
       "      <td>2.581</td>\n",
       "      <td>1.337</td>\n",
       "      <td>1803.987</td>\n",
       "      <td>NaN</td>\n",
       "      <td>597.029</td>\n",
       "      <td>9.59</td>\n",
       "      <td>NaN</td>\n",
       "      <td>NaN</td>\n",
       "      <td>37.746</td>\n",
       "      <td>0.5</td>\n",
       "      <td>64.83</td>\n",
       "      <td>0.498</td>\n",
       "    </tr>\n",
       "    <tr>\n",
       "      <th>...</th>\n",
       "      <td>...</td>\n",
       "      <td>...</td>\n",
       "      <td>...</td>\n",
       "      <td>...</td>\n",
       "      <td>...</td>\n",
       "      <td>...</td>\n",
       "      <td>...</td>\n",
       "      <td>...</td>\n",
       "      <td>...</td>\n",
       "      <td>...</td>\n",
       "      <td>...</td>\n",
       "      <td>...</td>\n",
       "      <td>...</td>\n",
       "      <td>...</td>\n",
       "      <td>...</td>\n",
       "      <td>...</td>\n",
       "      <td>...</td>\n",
       "      <td>...</td>\n",
       "      <td>...</td>\n",
       "      <td>...</td>\n",
       "      <td>...</td>\n",
       "      <td>...</td>\n",
       "      <td>...</td>\n",
       "      <td>...</td>\n",
       "      <td>...</td>\n",
       "      <td>...</td>\n",
       "      <td>...</td>\n",
       "      <td>...</td>\n",
       "      <td>...</td>\n",
       "      <td>...</td>\n",
       "      <td>...</td>\n",
       "      <td>...</td>\n",
       "      <td>...</td>\n",
       "      <td>...</td>\n",
       "      <td>...</td>\n",
       "      <td>...</td>\n",
       "      <td>...</td>\n",
       "      <td>...</td>\n",
       "      <td>...</td>\n",
       "      <td>...</td>\n",
       "      <td>...</td>\n",
       "      <td>...</td>\n",
       "      <td>...</td>\n",
       "      <td>...</td>\n",
       "      <td>...</td>\n",
       "      <td>...</td>\n",
       "      <td>...</td>\n",
       "      <td>...</td>\n",
       "      <td>...</td>\n",
       "      <td>...</td>\n",
       "    </tr>\n",
       "    <tr>\n",
       "      <th>59916</th>\n",
       "      <td>NaN</td>\n",
       "      <td>NaN</td>\n",
       "      <td>International</td>\n",
       "      <td>2020-11-26</td>\n",
       "      <td>721.0</td>\n",
       "      <td>0.0</td>\n",
       "      <td>0.0</td>\n",
       "      <td>15.0</td>\n",
       "      <td>0.0</td>\n",
       "      <td>0.0</td>\n",
       "      <td>NaN</td>\n",
       "      <td>NaN</td>\n",
       "      <td>NaN</td>\n",
       "      <td>NaN</td>\n",
       "      <td>NaN</td>\n",
       "      <td>NaN</td>\n",
       "      <td>NaN</td>\n",
       "      <td>NaN</td>\n",
       "      <td>NaN</td>\n",
       "      <td>NaN</td>\n",
       "      <td>NaN</td>\n",
       "      <td>NaN</td>\n",
       "      <td>NaN</td>\n",
       "      <td>NaN</td>\n",
       "      <td>NaN</td>\n",
       "      <td>NaN</td>\n",
       "      <td>NaN</td>\n",
       "      <td>NaN</td>\n",
       "      <td>NaN</td>\n",
       "      <td>NaN</td>\n",
       "      <td>NaN</td>\n",
       "      <td>NaN</td>\n",
       "      <td>NaN</td>\n",
       "      <td>NaN</td>\n",
       "      <td>NaN</td>\n",
       "      <td>NaN</td>\n",
       "      <td>NaN</td>\n",
       "      <td>NaN</td>\n",
       "      <td>NaN</td>\n",
       "      <td>NaN</td>\n",
       "      <td>NaN</td>\n",
       "      <td>NaN</td>\n",
       "      <td>NaN</td>\n",
       "      <td>NaN</td>\n",
       "      <td>NaN</td>\n",
       "      <td>NaN</td>\n",
       "      <td>NaN</td>\n",
       "      <td>NaN</td>\n",
       "      <td>NaN</td>\n",
       "      <td>NaN</td>\n",
       "    </tr>\n",
       "    <tr>\n",
       "      <th>59917</th>\n",
       "      <td>NaN</td>\n",
       "      <td>NaN</td>\n",
       "      <td>International</td>\n",
       "      <td>2020-11-27</td>\n",
       "      <td>721.0</td>\n",
       "      <td>0.0</td>\n",
       "      <td>0.0</td>\n",
       "      <td>15.0</td>\n",
       "      <td>0.0</td>\n",
       "      <td>0.0</td>\n",
       "      <td>NaN</td>\n",
       "      <td>NaN</td>\n",
       "      <td>NaN</td>\n",
       "      <td>NaN</td>\n",
       "      <td>NaN</td>\n",
       "      <td>NaN</td>\n",
       "      <td>NaN</td>\n",
       "      <td>NaN</td>\n",
       "      <td>NaN</td>\n",
       "      <td>NaN</td>\n",
       "      <td>NaN</td>\n",
       "      <td>NaN</td>\n",
       "      <td>NaN</td>\n",
       "      <td>NaN</td>\n",
       "      <td>NaN</td>\n",
       "      <td>NaN</td>\n",
       "      <td>NaN</td>\n",
       "      <td>NaN</td>\n",
       "      <td>NaN</td>\n",
       "      <td>NaN</td>\n",
       "      <td>NaN</td>\n",
       "      <td>NaN</td>\n",
       "      <td>NaN</td>\n",
       "      <td>NaN</td>\n",
       "      <td>NaN</td>\n",
       "      <td>NaN</td>\n",
       "      <td>NaN</td>\n",
       "      <td>NaN</td>\n",
       "      <td>NaN</td>\n",
       "      <td>NaN</td>\n",
       "      <td>NaN</td>\n",
       "      <td>NaN</td>\n",
       "      <td>NaN</td>\n",
       "      <td>NaN</td>\n",
       "      <td>NaN</td>\n",
       "      <td>NaN</td>\n",
       "      <td>NaN</td>\n",
       "      <td>NaN</td>\n",
       "      <td>NaN</td>\n",
       "      <td>NaN</td>\n",
       "    </tr>\n",
       "    <tr>\n",
       "      <th>59918</th>\n",
       "      <td>NaN</td>\n",
       "      <td>NaN</td>\n",
       "      <td>International</td>\n",
       "      <td>2020-11-28</td>\n",
       "      <td>721.0</td>\n",
       "      <td>0.0</td>\n",
       "      <td>0.0</td>\n",
       "      <td>15.0</td>\n",
       "      <td>0.0</td>\n",
       "      <td>0.0</td>\n",
       "      <td>NaN</td>\n",
       "      <td>NaN</td>\n",
       "      <td>NaN</td>\n",
       "      <td>NaN</td>\n",
       "      <td>NaN</td>\n",
       "      <td>NaN</td>\n",
       "      <td>NaN</td>\n",
       "      <td>NaN</td>\n",
       "      <td>NaN</td>\n",
       "      <td>NaN</td>\n",
       "      <td>NaN</td>\n",
       "      <td>NaN</td>\n",
       "      <td>NaN</td>\n",
       "      <td>NaN</td>\n",
       "      <td>NaN</td>\n",
       "      <td>NaN</td>\n",
       "      <td>NaN</td>\n",
       "      <td>NaN</td>\n",
       "      <td>NaN</td>\n",
       "      <td>NaN</td>\n",
       "      <td>NaN</td>\n",
       "      <td>NaN</td>\n",
       "      <td>NaN</td>\n",
       "      <td>NaN</td>\n",
       "      <td>NaN</td>\n",
       "      <td>NaN</td>\n",
       "      <td>NaN</td>\n",
       "      <td>NaN</td>\n",
       "      <td>NaN</td>\n",
       "      <td>NaN</td>\n",
       "      <td>NaN</td>\n",
       "      <td>NaN</td>\n",
       "      <td>NaN</td>\n",
       "      <td>NaN</td>\n",
       "      <td>NaN</td>\n",
       "      <td>NaN</td>\n",
       "      <td>NaN</td>\n",
       "      <td>NaN</td>\n",
       "      <td>NaN</td>\n",
       "      <td>NaN</td>\n",
       "    </tr>\n",
       "    <tr>\n",
       "      <th>59919</th>\n",
       "      <td>NaN</td>\n",
       "      <td>NaN</td>\n",
       "      <td>International</td>\n",
       "      <td>2020-11-29</td>\n",
       "      <td>721.0</td>\n",
       "      <td>0.0</td>\n",
       "      <td>0.0</td>\n",
       "      <td>15.0</td>\n",
       "      <td>0.0</td>\n",
       "      <td>0.0</td>\n",
       "      <td>NaN</td>\n",
       "      <td>NaN</td>\n",
       "      <td>NaN</td>\n",
       "      <td>NaN</td>\n",
       "      <td>NaN</td>\n",
       "      <td>NaN</td>\n",
       "      <td>NaN</td>\n",
       "      <td>NaN</td>\n",
       "      <td>NaN</td>\n",
       "      <td>NaN</td>\n",
       "      <td>NaN</td>\n",
       "      <td>NaN</td>\n",
       "      <td>NaN</td>\n",
       "      <td>NaN</td>\n",
       "      <td>NaN</td>\n",
       "      <td>NaN</td>\n",
       "      <td>NaN</td>\n",
       "      <td>NaN</td>\n",
       "      <td>NaN</td>\n",
       "      <td>NaN</td>\n",
       "      <td>NaN</td>\n",
       "      <td>NaN</td>\n",
       "      <td>NaN</td>\n",
       "      <td>NaN</td>\n",
       "      <td>NaN</td>\n",
       "      <td>NaN</td>\n",
       "      <td>NaN</td>\n",
       "      <td>NaN</td>\n",
       "      <td>NaN</td>\n",
       "      <td>NaN</td>\n",
       "      <td>NaN</td>\n",
       "      <td>NaN</td>\n",
       "      <td>NaN</td>\n",
       "      <td>NaN</td>\n",
       "      <td>NaN</td>\n",
       "      <td>NaN</td>\n",
       "      <td>NaN</td>\n",
       "      <td>NaN</td>\n",
       "      <td>NaN</td>\n",
       "      <td>NaN</td>\n",
       "    </tr>\n",
       "    <tr>\n",
       "      <th>59920</th>\n",
       "      <td>NaN</td>\n",
       "      <td>NaN</td>\n",
       "      <td>International</td>\n",
       "      <td>2020-11-30</td>\n",
       "      <td>721.0</td>\n",
       "      <td>0.0</td>\n",
       "      <td>0.0</td>\n",
       "      <td>15.0</td>\n",
       "      <td>0.0</td>\n",
       "      <td>0.0</td>\n",
       "      <td>NaN</td>\n",
       "      <td>NaN</td>\n",
       "      <td>NaN</td>\n",
       "      <td>NaN</td>\n",
       "      <td>NaN</td>\n",
       "      <td>NaN</td>\n",
       "      <td>NaN</td>\n",
       "      <td>NaN</td>\n",
       "      <td>NaN</td>\n",
       "      <td>NaN</td>\n",
       "      <td>NaN</td>\n",
       "      <td>NaN</td>\n",
       "      <td>NaN</td>\n",
       "      <td>NaN</td>\n",
       "      <td>NaN</td>\n",
       "      <td>NaN</td>\n",
       "      <td>NaN</td>\n",
       "      <td>NaN</td>\n",
       "      <td>NaN</td>\n",
       "      <td>NaN</td>\n",
       "      <td>NaN</td>\n",
       "      <td>NaN</td>\n",
       "      <td>NaN</td>\n",
       "      <td>NaN</td>\n",
       "      <td>NaN</td>\n",
       "      <td>NaN</td>\n",
       "      <td>NaN</td>\n",
       "      <td>NaN</td>\n",
       "      <td>NaN</td>\n",
       "      <td>NaN</td>\n",
       "      <td>NaN</td>\n",
       "      <td>NaN</td>\n",
       "      <td>NaN</td>\n",
       "      <td>NaN</td>\n",
       "      <td>NaN</td>\n",
       "      <td>NaN</td>\n",
       "      <td>NaN</td>\n",
       "      <td>NaN</td>\n",
       "      <td>NaN</td>\n",
       "      <td>NaN</td>\n",
       "    </tr>\n",
       "  </tbody>\n",
       "</table>\n",
       "<p>59921 rows × 50 columns</p>\n",
       "</div>"
      ],
      "text/plain": [
       "      iso_code continent  ... life_expectancy human_development_index\n",
       "0          AFG      Asia  ...           64.83                   0.498\n",
       "1          AFG      Asia  ...           64.83                   0.498\n",
       "2          AFG      Asia  ...           64.83                   0.498\n",
       "3          AFG      Asia  ...           64.83                   0.498\n",
       "4          AFG      Asia  ...           64.83                   0.498\n",
       "...        ...       ...  ...             ...                     ...\n",
       "59916      NaN       NaN  ...             NaN                     NaN\n",
       "59917      NaN       NaN  ...             NaN                     NaN\n",
       "59918      NaN       NaN  ...             NaN                     NaN\n",
       "59919      NaN       NaN  ...             NaN                     NaN\n",
       "59920      NaN       NaN  ...             NaN                     NaN\n",
       "\n",
       "[59921 rows x 50 columns]"
      ]
     },
     "execution_count": 38,
     "metadata": {
      "tags": []
     },
     "output_type": "execute_result"
    }
   ],
   "source": [
    "import pandas as pd\n",
    "\n",
    "# Acuérdense que por defecto se va a separar por comas al leer el csv si no se le indica nada\n",
    "\n",
    "# datos = pd.read_csv('owid-covid-data.csv', sep=',') \n",
    "datos = pd.read_csv('https://raw.githubusercontent.com/SerDiaz/Introduccion_programacion_en_python/main/dia4/owid-covid-data.csv') \n",
    "\n",
    "datos"
   ]
  },
  {
   "cell_type": "markdown",
   "metadata": {
    "id": "m4Ms5EtuXjp0"
   },
   "source": [
    "Analizamos los datos un poquito antes de tratarlos. Vamos a ver las columnas que forman esos valores."
   ]
  },
  {
   "cell_type": "code",
   "execution_count": 39,
   "metadata": {
    "colab": {
     "base_uri": "https://localhost:8080/"
    },
    "executionInfo": {
     "elapsed": 2261,
     "status": "ok",
     "timestamp": 1607804097877,
     "user": {
      "displayName": "Sergio Díaz González",
      "photoUrl": "https://lh3.googleusercontent.com/a-/AOh14GjH7Zktgr3uD34RSxgsa-w8hVqB4gj5e5lKtsu9=s64",
      "userId": "02816479088502848749"
     },
     "user_tz": 0
    },
    "id": "_Y3tHeW9Xjp0",
    "outputId": "09fad796-020c-4bdd-f400-f229f1673e5d"
   },
   "outputs": [
    {
     "data": {
      "text/plain": [
       "array(['iso_code', 'continent', 'location', 'date', 'total_cases',\n",
       "       'new_cases', 'new_cases_smoothed', 'total_deaths', 'new_deaths',\n",
       "       'new_deaths_smoothed', 'total_cases_per_million',\n",
       "       'new_cases_per_million', 'new_cases_smoothed_per_million',\n",
       "       'total_deaths_per_million', 'new_deaths_per_million',\n",
       "       'new_deaths_smoothed_per_million', 'reproduction_rate',\n",
       "       'icu_patients', 'icu_patients_per_million', 'hosp_patients',\n",
       "       'hosp_patients_per_million', 'weekly_icu_admissions',\n",
       "       'weekly_icu_admissions_per_million', 'weekly_hosp_admissions',\n",
       "       'weekly_hosp_admissions_per_million', 'total_tests', 'new_tests',\n",
       "       'total_tests_per_thousand', 'new_tests_per_thousand',\n",
       "       'new_tests_smoothed', 'new_tests_smoothed_per_thousand',\n",
       "       'positive_rate', 'tests_per_case', 'tests_units',\n",
       "       'stringency_index', 'population', 'population_density',\n",
       "       'median_age', 'aged_65_older', 'aged_70_older', 'gdp_per_capita',\n",
       "       'extreme_poverty', 'cardiovasc_death_rate', 'diabetes_prevalence',\n",
       "       'female_smokers', 'male_smokers', 'handwashing_facilities',\n",
       "       'hospital_beds_per_thousand', 'life_expectancy',\n",
       "       'human_development_index'], dtype=object)"
      ]
     },
     "execution_count": 39,
     "metadata": {
      "tags": []
     },
     "output_type": "execute_result"
    }
   ],
   "source": [
    "datos.columns.values"
   ]
  },
  {
   "cell_type": "markdown",
   "metadata": {
    "id": "XMjvMBxXXjp1"
   },
   "source": [
    "Como primer ejemplo vamos a visualizar los datos de España. Para ello hacemos una condición donde solo obtengamos los datos cuando la \"location\" sea España. Con la sintaxis que vimos ayer."
   ]
  },
  {
   "cell_type": "code",
   "execution_count": 40,
   "metadata": {
    "colab": {
     "base_uri": "https://localhost:8080/",
     "height": 609
    },
    "executionInfo": {
     "elapsed": 2247,
     "status": "ok",
     "timestamp": 1607804097879,
     "user": {
      "displayName": "Sergio Díaz González",
      "photoUrl": "https://lh3.googleusercontent.com/a-/AOh14GjH7Zktgr3uD34RSxgsa-w8hVqB4gj5e5lKtsu9=s64",
      "userId": "02816479088502848749"
     },
     "user_tz": 0
    },
    "id": "-Pd4gj9KXjp1",
    "outputId": "7f5bd097-fab4-4566-e943-05ea4e58d3fc"
   },
   "outputs": [
    {
     "data": {
      "text/html": [
       "<div>\n",
       "<style scoped>\n",
       "    .dataframe tbody tr th:only-of-type {\n",
       "        vertical-align: middle;\n",
       "    }\n",
       "\n",
       "    .dataframe tbody tr th {\n",
       "        vertical-align: top;\n",
       "    }\n",
       "\n",
       "    .dataframe thead th {\n",
       "        text-align: right;\n",
       "    }\n",
       "</style>\n",
       "<table border=\"1\" class=\"dataframe\">\n",
       "  <thead>\n",
       "    <tr style=\"text-align: right;\">\n",
       "      <th></th>\n",
       "      <th>iso_code</th>\n",
       "      <th>continent</th>\n",
       "      <th>location</th>\n",
       "      <th>date</th>\n",
       "      <th>total_cases</th>\n",
       "      <th>new_cases</th>\n",
       "      <th>new_cases_smoothed</th>\n",
       "      <th>total_deaths</th>\n",
       "      <th>new_deaths</th>\n",
       "      <th>new_deaths_smoothed</th>\n",
       "      <th>total_cases_per_million</th>\n",
       "      <th>new_cases_per_million</th>\n",
       "      <th>new_cases_smoothed_per_million</th>\n",
       "      <th>total_deaths_per_million</th>\n",
       "      <th>new_deaths_per_million</th>\n",
       "      <th>new_deaths_smoothed_per_million</th>\n",
       "      <th>reproduction_rate</th>\n",
       "      <th>icu_patients</th>\n",
       "      <th>icu_patients_per_million</th>\n",
       "      <th>hosp_patients</th>\n",
       "      <th>hosp_patients_per_million</th>\n",
       "      <th>weekly_icu_admissions</th>\n",
       "      <th>weekly_icu_admissions_per_million</th>\n",
       "      <th>weekly_hosp_admissions</th>\n",
       "      <th>weekly_hosp_admissions_per_million</th>\n",
       "      <th>total_tests</th>\n",
       "      <th>new_tests</th>\n",
       "      <th>total_tests_per_thousand</th>\n",
       "      <th>new_tests_per_thousand</th>\n",
       "      <th>new_tests_smoothed</th>\n",
       "      <th>new_tests_smoothed_per_thousand</th>\n",
       "      <th>positive_rate</th>\n",
       "      <th>tests_per_case</th>\n",
       "      <th>tests_units</th>\n",
       "      <th>stringency_index</th>\n",
       "      <th>population</th>\n",
       "      <th>population_density</th>\n",
       "      <th>median_age</th>\n",
       "      <th>aged_65_older</th>\n",
       "      <th>aged_70_older</th>\n",
       "      <th>gdp_per_capita</th>\n",
       "      <th>extreme_poverty</th>\n",
       "      <th>cardiovasc_death_rate</th>\n",
       "      <th>diabetes_prevalence</th>\n",
       "      <th>female_smokers</th>\n",
       "      <th>male_smokers</th>\n",
       "      <th>handwashing_facilities</th>\n",
       "      <th>hospital_beds_per_thousand</th>\n",
       "      <th>life_expectancy</th>\n",
       "      <th>human_development_index</th>\n",
       "    </tr>\n",
       "  </thead>\n",
       "  <tbody>\n",
       "    <tr>\n",
       "      <th>16906</th>\n",
       "      <td>ESP</td>\n",
       "      <td>Europe</td>\n",
       "      <td>Spain</td>\n",
       "      <td>2020-01-23</td>\n",
       "      <td>NaN</td>\n",
       "      <td>0.0</td>\n",
       "      <td>NaN</td>\n",
       "      <td>NaN</td>\n",
       "      <td>0.0</td>\n",
       "      <td>NaN</td>\n",
       "      <td>NaN</td>\n",
       "      <td>0.000</td>\n",
       "      <td>NaN</td>\n",
       "      <td>NaN</td>\n",
       "      <td>0.000</td>\n",
       "      <td>NaN</td>\n",
       "      <td>NaN</td>\n",
       "      <td>NaN</td>\n",
       "      <td>NaN</td>\n",
       "      <td>NaN</td>\n",
       "      <td>NaN</td>\n",
       "      <td>NaN</td>\n",
       "      <td>NaN</td>\n",
       "      <td>NaN</td>\n",
       "      <td>NaN</td>\n",
       "      <td>NaN</td>\n",
       "      <td>NaN</td>\n",
       "      <td>NaN</td>\n",
       "      <td>NaN</td>\n",
       "      <td>NaN</td>\n",
       "      <td>NaN</td>\n",
       "      <td>NaN</td>\n",
       "      <td>NaN</td>\n",
       "      <td>NaN</td>\n",
       "      <td>0.0</td>\n",
       "      <td>46754783.0</td>\n",
       "      <td>93.105</td>\n",
       "      <td>45.5</td>\n",
       "      <td>19.436</td>\n",
       "      <td>13.799</td>\n",
       "      <td>34272.36</td>\n",
       "      <td>1.0</td>\n",
       "      <td>99.403</td>\n",
       "      <td>7.17</td>\n",
       "      <td>27.4</td>\n",
       "      <td>31.4</td>\n",
       "      <td>NaN</td>\n",
       "      <td>2.97</td>\n",
       "      <td>83.56</td>\n",
       "      <td>0.891</td>\n",
       "    </tr>\n",
       "    <tr>\n",
       "      <th>16907</th>\n",
       "      <td>ESP</td>\n",
       "      <td>Europe</td>\n",
       "      <td>Spain</td>\n",
       "      <td>2020-01-24</td>\n",
       "      <td>NaN</td>\n",
       "      <td>0.0</td>\n",
       "      <td>NaN</td>\n",
       "      <td>NaN</td>\n",
       "      <td>0.0</td>\n",
       "      <td>NaN</td>\n",
       "      <td>NaN</td>\n",
       "      <td>0.000</td>\n",
       "      <td>NaN</td>\n",
       "      <td>NaN</td>\n",
       "      <td>0.000</td>\n",
       "      <td>NaN</td>\n",
       "      <td>NaN</td>\n",
       "      <td>NaN</td>\n",
       "      <td>NaN</td>\n",
       "      <td>NaN</td>\n",
       "      <td>NaN</td>\n",
       "      <td>NaN</td>\n",
       "      <td>NaN</td>\n",
       "      <td>NaN</td>\n",
       "      <td>NaN</td>\n",
       "      <td>NaN</td>\n",
       "      <td>NaN</td>\n",
       "      <td>NaN</td>\n",
       "      <td>NaN</td>\n",
       "      <td>NaN</td>\n",
       "      <td>NaN</td>\n",
       "      <td>NaN</td>\n",
       "      <td>NaN</td>\n",
       "      <td>NaN</td>\n",
       "      <td>0.0</td>\n",
       "      <td>46754783.0</td>\n",
       "      <td>93.105</td>\n",
       "      <td>45.5</td>\n",
       "      <td>19.436</td>\n",
       "      <td>13.799</td>\n",
       "      <td>34272.36</td>\n",
       "      <td>1.0</td>\n",
       "      <td>99.403</td>\n",
       "      <td>7.17</td>\n",
       "      <td>27.4</td>\n",
       "      <td>31.4</td>\n",
       "      <td>NaN</td>\n",
       "      <td>2.97</td>\n",
       "      <td>83.56</td>\n",
       "      <td>0.891</td>\n",
       "    </tr>\n",
       "    <tr>\n",
       "      <th>16908</th>\n",
       "      <td>ESP</td>\n",
       "      <td>Europe</td>\n",
       "      <td>Spain</td>\n",
       "      <td>2020-01-25</td>\n",
       "      <td>NaN</td>\n",
       "      <td>0.0</td>\n",
       "      <td>NaN</td>\n",
       "      <td>NaN</td>\n",
       "      <td>0.0</td>\n",
       "      <td>NaN</td>\n",
       "      <td>NaN</td>\n",
       "      <td>0.000</td>\n",
       "      <td>NaN</td>\n",
       "      <td>NaN</td>\n",
       "      <td>0.000</td>\n",
       "      <td>NaN</td>\n",
       "      <td>NaN</td>\n",
       "      <td>NaN</td>\n",
       "      <td>NaN</td>\n",
       "      <td>NaN</td>\n",
       "      <td>NaN</td>\n",
       "      <td>NaN</td>\n",
       "      <td>NaN</td>\n",
       "      <td>NaN</td>\n",
       "      <td>NaN</td>\n",
       "      <td>NaN</td>\n",
       "      <td>NaN</td>\n",
       "      <td>NaN</td>\n",
       "      <td>NaN</td>\n",
       "      <td>NaN</td>\n",
       "      <td>NaN</td>\n",
       "      <td>NaN</td>\n",
       "      <td>NaN</td>\n",
       "      <td>NaN</td>\n",
       "      <td>0.0</td>\n",
       "      <td>46754783.0</td>\n",
       "      <td>93.105</td>\n",
       "      <td>45.5</td>\n",
       "      <td>19.436</td>\n",
       "      <td>13.799</td>\n",
       "      <td>34272.36</td>\n",
       "      <td>1.0</td>\n",
       "      <td>99.403</td>\n",
       "      <td>7.17</td>\n",
       "      <td>27.4</td>\n",
       "      <td>31.4</td>\n",
       "      <td>NaN</td>\n",
       "      <td>2.97</td>\n",
       "      <td>83.56</td>\n",
       "      <td>0.891</td>\n",
       "    </tr>\n",
       "    <tr>\n",
       "      <th>16909</th>\n",
       "      <td>ESP</td>\n",
       "      <td>Europe</td>\n",
       "      <td>Spain</td>\n",
       "      <td>2020-01-26</td>\n",
       "      <td>NaN</td>\n",
       "      <td>0.0</td>\n",
       "      <td>NaN</td>\n",
       "      <td>NaN</td>\n",
       "      <td>0.0</td>\n",
       "      <td>NaN</td>\n",
       "      <td>NaN</td>\n",
       "      <td>0.000</td>\n",
       "      <td>NaN</td>\n",
       "      <td>NaN</td>\n",
       "      <td>0.000</td>\n",
       "      <td>NaN</td>\n",
       "      <td>NaN</td>\n",
       "      <td>NaN</td>\n",
       "      <td>NaN</td>\n",
       "      <td>NaN</td>\n",
       "      <td>NaN</td>\n",
       "      <td>NaN</td>\n",
       "      <td>NaN</td>\n",
       "      <td>NaN</td>\n",
       "      <td>NaN</td>\n",
       "      <td>NaN</td>\n",
       "      <td>NaN</td>\n",
       "      <td>NaN</td>\n",
       "      <td>NaN</td>\n",
       "      <td>NaN</td>\n",
       "      <td>NaN</td>\n",
       "      <td>NaN</td>\n",
       "      <td>NaN</td>\n",
       "      <td>NaN</td>\n",
       "      <td>0.0</td>\n",
       "      <td>46754783.0</td>\n",
       "      <td>93.105</td>\n",
       "      <td>45.5</td>\n",
       "      <td>19.436</td>\n",
       "      <td>13.799</td>\n",
       "      <td>34272.36</td>\n",
       "      <td>1.0</td>\n",
       "      <td>99.403</td>\n",
       "      <td>7.17</td>\n",
       "      <td>27.4</td>\n",
       "      <td>31.4</td>\n",
       "      <td>NaN</td>\n",
       "      <td>2.97</td>\n",
       "      <td>83.56</td>\n",
       "      <td>0.891</td>\n",
       "    </tr>\n",
       "    <tr>\n",
       "      <th>16910</th>\n",
       "      <td>ESP</td>\n",
       "      <td>Europe</td>\n",
       "      <td>Spain</td>\n",
       "      <td>2020-01-27</td>\n",
       "      <td>NaN</td>\n",
       "      <td>0.0</td>\n",
       "      <td>NaN</td>\n",
       "      <td>NaN</td>\n",
       "      <td>0.0</td>\n",
       "      <td>NaN</td>\n",
       "      <td>NaN</td>\n",
       "      <td>0.000</td>\n",
       "      <td>NaN</td>\n",
       "      <td>NaN</td>\n",
       "      <td>0.000</td>\n",
       "      <td>NaN</td>\n",
       "      <td>NaN</td>\n",
       "      <td>NaN</td>\n",
       "      <td>NaN</td>\n",
       "      <td>NaN</td>\n",
       "      <td>NaN</td>\n",
       "      <td>NaN</td>\n",
       "      <td>NaN</td>\n",
       "      <td>NaN</td>\n",
       "      <td>NaN</td>\n",
       "      <td>NaN</td>\n",
       "      <td>NaN</td>\n",
       "      <td>NaN</td>\n",
       "      <td>NaN</td>\n",
       "      <td>NaN</td>\n",
       "      <td>NaN</td>\n",
       "      <td>NaN</td>\n",
       "      <td>NaN</td>\n",
       "      <td>NaN</td>\n",
       "      <td>0.0</td>\n",
       "      <td>46754783.0</td>\n",
       "      <td>93.105</td>\n",
       "      <td>45.5</td>\n",
       "      <td>19.436</td>\n",
       "      <td>13.799</td>\n",
       "      <td>34272.36</td>\n",
       "      <td>1.0</td>\n",
       "      <td>99.403</td>\n",
       "      <td>7.17</td>\n",
       "      <td>27.4</td>\n",
       "      <td>31.4</td>\n",
       "      <td>NaN</td>\n",
       "      <td>2.97</td>\n",
       "      <td>83.56</td>\n",
       "      <td>0.891</td>\n",
       "    </tr>\n",
       "    <tr>\n",
       "      <th>...</th>\n",
       "      <td>...</td>\n",
       "      <td>...</td>\n",
       "      <td>...</td>\n",
       "      <td>...</td>\n",
       "      <td>...</td>\n",
       "      <td>...</td>\n",
       "      <td>...</td>\n",
       "      <td>...</td>\n",
       "      <td>...</td>\n",
       "      <td>...</td>\n",
       "      <td>...</td>\n",
       "      <td>...</td>\n",
       "      <td>...</td>\n",
       "      <td>...</td>\n",
       "      <td>...</td>\n",
       "      <td>...</td>\n",
       "      <td>...</td>\n",
       "      <td>...</td>\n",
       "      <td>...</td>\n",
       "      <td>...</td>\n",
       "      <td>...</td>\n",
       "      <td>...</td>\n",
       "      <td>...</td>\n",
       "      <td>...</td>\n",
       "      <td>...</td>\n",
       "      <td>...</td>\n",
       "      <td>...</td>\n",
       "      <td>...</td>\n",
       "      <td>...</td>\n",
       "      <td>...</td>\n",
       "      <td>...</td>\n",
       "      <td>...</td>\n",
       "      <td>...</td>\n",
       "      <td>...</td>\n",
       "      <td>...</td>\n",
       "      <td>...</td>\n",
       "      <td>...</td>\n",
       "      <td>...</td>\n",
       "      <td>...</td>\n",
       "      <td>...</td>\n",
       "      <td>...</td>\n",
       "      <td>...</td>\n",
       "      <td>...</td>\n",
       "      <td>...</td>\n",
       "      <td>...</td>\n",
       "      <td>...</td>\n",
       "      <td>...</td>\n",
       "      <td>...</td>\n",
       "      <td>...</td>\n",
       "      <td>...</td>\n",
       "    </tr>\n",
       "    <tr>\n",
       "      <th>17214</th>\n",
       "      <td>ESP</td>\n",
       "      <td>Europe</td>\n",
       "      <td>Spain</td>\n",
       "      <td>2020-11-26</td>\n",
       "      <td>1617355.0</td>\n",
       "      <td>12289.0</td>\n",
       "      <td>10825.857</td>\n",
       "      <td>44374.0</td>\n",
       "      <td>337.0</td>\n",
       "      <td>297.571</td>\n",
       "      <td>34592.290</td>\n",
       "      <td>262.839</td>\n",
       "      <td>231.545</td>\n",
       "      <td>949.079</td>\n",
       "      <td>7.208</td>\n",
       "      <td>6.365</td>\n",
       "      <td>NaN</td>\n",
       "      <td>NaN</td>\n",
       "      <td>NaN</td>\n",
       "      <td>NaN</td>\n",
       "      <td>NaN</td>\n",
       "      <td>NaN</td>\n",
       "      <td>NaN</td>\n",
       "      <td>NaN</td>\n",
       "      <td>NaN</td>\n",
       "      <td>NaN</td>\n",
       "      <td>NaN</td>\n",
       "      <td>NaN</td>\n",
       "      <td>NaN</td>\n",
       "      <td>NaN</td>\n",
       "      <td>NaN</td>\n",
       "      <td>NaN</td>\n",
       "      <td>NaN</td>\n",
       "      <td>NaN</td>\n",
       "      <td>71.3</td>\n",
       "      <td>46754783.0</td>\n",
       "      <td>93.105</td>\n",
       "      <td>45.5</td>\n",
       "      <td>19.436</td>\n",
       "      <td>13.799</td>\n",
       "      <td>34272.36</td>\n",
       "      <td>1.0</td>\n",
       "      <td>99.403</td>\n",
       "      <td>7.17</td>\n",
       "      <td>27.4</td>\n",
       "      <td>31.4</td>\n",
       "      <td>NaN</td>\n",
       "      <td>2.97</td>\n",
       "      <td>83.56</td>\n",
       "      <td>0.891</td>\n",
       "    </tr>\n",
       "    <tr>\n",
       "      <th>17215</th>\n",
       "      <td>ESP</td>\n",
       "      <td>Europe</td>\n",
       "      <td>Spain</td>\n",
       "      <td>2020-11-27</td>\n",
       "      <td>1628208.0</td>\n",
       "      <td>10853.0</td>\n",
       "      <td>10211.143</td>\n",
       "      <td>44668.0</td>\n",
       "      <td>294.0</td>\n",
       "      <td>292.714</td>\n",
       "      <td>34824.416</td>\n",
       "      <td>232.126</td>\n",
       "      <td>218.398</td>\n",
       "      <td>955.367</td>\n",
       "      <td>6.288</td>\n",
       "      <td>6.261</td>\n",
       "      <td>NaN</td>\n",
       "      <td>NaN</td>\n",
       "      <td>NaN</td>\n",
       "      <td>NaN</td>\n",
       "      <td>NaN</td>\n",
       "      <td>NaN</td>\n",
       "      <td>NaN</td>\n",
       "      <td>NaN</td>\n",
       "      <td>NaN</td>\n",
       "      <td>NaN</td>\n",
       "      <td>NaN</td>\n",
       "      <td>NaN</td>\n",
       "      <td>NaN</td>\n",
       "      <td>NaN</td>\n",
       "      <td>NaN</td>\n",
       "      <td>NaN</td>\n",
       "      <td>NaN</td>\n",
       "      <td>NaN</td>\n",
       "      <td>71.3</td>\n",
       "      <td>46754783.0</td>\n",
       "      <td>93.105</td>\n",
       "      <td>45.5</td>\n",
       "      <td>19.436</td>\n",
       "      <td>13.799</td>\n",
       "      <td>34272.36</td>\n",
       "      <td>1.0</td>\n",
       "      <td>99.403</td>\n",
       "      <td>7.17</td>\n",
       "      <td>27.4</td>\n",
       "      <td>31.4</td>\n",
       "      <td>NaN</td>\n",
       "      <td>2.97</td>\n",
       "      <td>83.56</td>\n",
       "      <td>0.891</td>\n",
       "    </tr>\n",
       "    <tr>\n",
       "      <th>17216</th>\n",
       "      <td>ESP</td>\n",
       "      <td>Europe</td>\n",
       "      <td>Spain</td>\n",
       "      <td>2020-11-28</td>\n",
       "      <td>1628208.0</td>\n",
       "      <td>0.0</td>\n",
       "      <td>10211.143</td>\n",
       "      <td>44668.0</td>\n",
       "      <td>0.0</td>\n",
       "      <td>292.714</td>\n",
       "      <td>34824.416</td>\n",
       "      <td>0.000</td>\n",
       "      <td>218.398</td>\n",
       "      <td>955.367</td>\n",
       "      <td>0.000</td>\n",
       "      <td>6.261</td>\n",
       "      <td>NaN</td>\n",
       "      <td>NaN</td>\n",
       "      <td>NaN</td>\n",
       "      <td>NaN</td>\n",
       "      <td>NaN</td>\n",
       "      <td>NaN</td>\n",
       "      <td>NaN</td>\n",
       "      <td>NaN</td>\n",
       "      <td>NaN</td>\n",
       "      <td>NaN</td>\n",
       "      <td>NaN</td>\n",
       "      <td>NaN</td>\n",
       "      <td>NaN</td>\n",
       "      <td>NaN</td>\n",
       "      <td>NaN</td>\n",
       "      <td>NaN</td>\n",
       "      <td>NaN</td>\n",
       "      <td>NaN</td>\n",
       "      <td>71.3</td>\n",
       "      <td>46754783.0</td>\n",
       "      <td>93.105</td>\n",
       "      <td>45.5</td>\n",
       "      <td>19.436</td>\n",
       "      <td>13.799</td>\n",
       "      <td>34272.36</td>\n",
       "      <td>1.0</td>\n",
       "      <td>99.403</td>\n",
       "      <td>7.17</td>\n",
       "      <td>27.4</td>\n",
       "      <td>31.4</td>\n",
       "      <td>NaN</td>\n",
       "      <td>2.97</td>\n",
       "      <td>83.56</td>\n",
       "      <td>0.891</td>\n",
       "    </tr>\n",
       "    <tr>\n",
       "      <th>17217</th>\n",
       "      <td>ESP</td>\n",
       "      <td>Europe</td>\n",
       "      <td>Spain</td>\n",
       "      <td>2020-11-29</td>\n",
       "      <td>1628208.0</td>\n",
       "      <td>0.0</td>\n",
       "      <td>10211.143</td>\n",
       "      <td>44668.0</td>\n",
       "      <td>0.0</td>\n",
       "      <td>292.714</td>\n",
       "      <td>34824.416</td>\n",
       "      <td>0.000</td>\n",
       "      <td>218.398</td>\n",
       "      <td>955.367</td>\n",
       "      <td>0.000</td>\n",
       "      <td>6.261</td>\n",
       "      <td>NaN</td>\n",
       "      <td>NaN</td>\n",
       "      <td>NaN</td>\n",
       "      <td>NaN</td>\n",
       "      <td>NaN</td>\n",
       "      <td>NaN</td>\n",
       "      <td>NaN</td>\n",
       "      <td>NaN</td>\n",
       "      <td>NaN</td>\n",
       "      <td>NaN</td>\n",
       "      <td>NaN</td>\n",
       "      <td>NaN</td>\n",
       "      <td>NaN</td>\n",
       "      <td>NaN</td>\n",
       "      <td>NaN</td>\n",
       "      <td>NaN</td>\n",
       "      <td>NaN</td>\n",
       "      <td>NaN</td>\n",
       "      <td>71.3</td>\n",
       "      <td>46754783.0</td>\n",
       "      <td>93.105</td>\n",
       "      <td>45.5</td>\n",
       "      <td>19.436</td>\n",
       "      <td>13.799</td>\n",
       "      <td>34272.36</td>\n",
       "      <td>1.0</td>\n",
       "      <td>99.403</td>\n",
       "      <td>7.17</td>\n",
       "      <td>27.4</td>\n",
       "      <td>31.4</td>\n",
       "      <td>NaN</td>\n",
       "      <td>2.97</td>\n",
       "      <td>83.56</td>\n",
       "      <td>0.891</td>\n",
       "    </tr>\n",
       "    <tr>\n",
       "      <th>17218</th>\n",
       "      <td>ESP</td>\n",
       "      <td>Europe</td>\n",
       "      <td>Spain</td>\n",
       "      <td>2020-11-30</td>\n",
       "      <td>1648187.0</td>\n",
       "      <td>19979.0</td>\n",
       "      <td>9367.286</td>\n",
       "      <td>45069.0</td>\n",
       "      <td>401.0</td>\n",
       "      <td>276.857</td>\n",
       "      <td>35251.730</td>\n",
       "      <td>427.315</td>\n",
       "      <td>200.349</td>\n",
       "      <td>963.944</td>\n",
       "      <td>8.577</td>\n",
       "      <td>5.921</td>\n",
       "      <td>NaN</td>\n",
       "      <td>NaN</td>\n",
       "      <td>NaN</td>\n",
       "      <td>NaN</td>\n",
       "      <td>NaN</td>\n",
       "      <td>NaN</td>\n",
       "      <td>NaN</td>\n",
       "      <td>NaN</td>\n",
       "      <td>NaN</td>\n",
       "      <td>NaN</td>\n",
       "      <td>NaN</td>\n",
       "      <td>NaN</td>\n",
       "      <td>NaN</td>\n",
       "      <td>NaN</td>\n",
       "      <td>NaN</td>\n",
       "      <td>NaN</td>\n",
       "      <td>NaN</td>\n",
       "      <td>NaN</td>\n",
       "      <td>NaN</td>\n",
       "      <td>46754783.0</td>\n",
       "      <td>93.105</td>\n",
       "      <td>45.5</td>\n",
       "      <td>19.436</td>\n",
       "      <td>13.799</td>\n",
       "      <td>34272.36</td>\n",
       "      <td>1.0</td>\n",
       "      <td>99.403</td>\n",
       "      <td>7.17</td>\n",
       "      <td>27.4</td>\n",
       "      <td>31.4</td>\n",
       "      <td>NaN</td>\n",
       "      <td>2.97</td>\n",
       "      <td>83.56</td>\n",
       "      <td>0.891</td>\n",
       "    </tr>\n",
       "  </tbody>\n",
       "</table>\n",
       "<p>313 rows × 50 columns</p>\n",
       "</div>"
      ],
      "text/plain": [
       "      iso_code continent  ... life_expectancy human_development_index\n",
       "16906      ESP    Europe  ...           83.56                   0.891\n",
       "16907      ESP    Europe  ...           83.56                   0.891\n",
       "16908      ESP    Europe  ...           83.56                   0.891\n",
       "16909      ESP    Europe  ...           83.56                   0.891\n",
       "16910      ESP    Europe  ...           83.56                   0.891\n",
       "...        ...       ...  ...             ...                     ...\n",
       "17214      ESP    Europe  ...           83.56                   0.891\n",
       "17215      ESP    Europe  ...           83.56                   0.891\n",
       "17216      ESP    Europe  ...           83.56                   0.891\n",
       "17217      ESP    Europe  ...           83.56                   0.891\n",
       "17218      ESP    Europe  ...           83.56                   0.891\n",
       "\n",
       "[313 rows x 50 columns]"
      ]
     },
     "execution_count": 40,
     "metadata": {
      "tags": []
     },
     "output_type": "execute_result"
    }
   ],
   "source": [
    "datos_españa = datos[datos['location'] == 'Spain']\n",
    "datos_españa"
   ]
  },
  {
   "cell_type": "markdown",
   "metadata": {
    "id": "EzhlABLBXjp1"
   },
   "source": [
    "## Gráfica de línea"
   ]
  },
  {
   "cell_type": "markdown",
   "metadata": {
    "id": "4fPtSDP0Xjp1"
   },
   "source": [
    "Ahora vamos a hacer una gráfica sencilla de la evolución de los casos desde el inicio hasta hoy en día"
   ]
  },
  {
   "cell_type": "code",
   "execution_count": 41,
   "metadata": {
    "colab": {
     "base_uri": "https://localhost:8080/",
     "height": 310
    },
    "executionInfo": {
     "elapsed": 4879,
     "status": "ok",
     "timestamp": 1607804100530,
     "user": {
      "displayName": "Sergio Díaz González",
      "photoUrl": "https://lh3.googleusercontent.com/a-/AOh14GjH7Zktgr3uD34RSxgsa-w8hVqB4gj5e5lKtsu9=s64",
      "userId": "02816479088502848749"
     },
     "user_tz": 0
    },
    "id": "YYkY3GAHXjp1",
    "outputId": "c01ac833-7fdc-493f-f8d8-0900f5506d76"
   },
   "outputs": [
    {
     "data": {
      "image/png": "[encoded data removed]",
      "text/plain": [
       "<Figure size 432x288 with 1 Axes>"
      ]
     },
     "metadata": {
      "needs_background": "light",
      "tags": []
     },
     "output_type": "display_data"
    }
   ],
   "source": [
    "import matplotlib.pyplot as plt\n",
    "\n",
    "# Hacer el recuadro más grande\n",
    "x = datos_españa['date']\n",
    "y = datos_españa['total_cases']\n",
    "plt.plot(x, y)\n",
    "plt.show()\n"
   ]
  },
  {
   "cell_type": "markdown",
   "metadata": {
    "id": "O7bleSN4Xjp1"
   },
   "source": [
    "Aquí tenemos la evolución de los casos positivos en España, donde en el eje Y tenemos la cantidad de casos totales y en el eje X las fechas.\n",
    "\n",
    "Como vemos, el eje Y vienen dado por 1.50 pero por arriba se indica que elevado a la sexta (hablamos de millones). El eje X se muy mal. Vamos a ir arreglándolo. Por ejemplo vamos a empezar por hacerlo más grande. Eso lo hacemos con el metodo plt.figure() y le indicamos el nuevo tamaño.\n",
    "\n",
    "También vamos a hacer el grosor de la línea mayor con el parámetro **lw** . Es un parámetro de la función plot(). Y a su vez al figura le añadimos el parámetro **figsize** para hacerlo más grande."
   ]
  },
  {
   "cell_type": "code",
   "execution_count": 42,
   "metadata": {
    "colab": {
     "base_uri": "https://localhost:8080/",
     "height": 637
    },
    "executionInfo": {
     "elapsed": 7915,
     "status": "ok",
     "timestamp": 1607804103584,
     "user": {
      "displayName": "Sergio Díaz González",
      "photoUrl": "https://lh3.googleusercontent.com/a-/AOh14GjH7Zktgr3uD34RSxgsa-w8hVqB4gj5e5lKtsu9=s64",
      "userId": "02816479088502848749"
     },
     "user_tz": 0
    },
    "id": "1hRLHJo8Xjp1",
    "outputId": "3e8711bf-8edc-4e8e-bad4-fa9096e6ebea"
   },
   "outputs": [
    {
     "data": {
      "image/png": "[encoded data removed]",
      "text/plain": [
       "<Figure size 720x720 with 1 Axes>"
      ]
     },
     "metadata": {
      "needs_background": "light",
      "tags": []
     },
     "output_type": "display_data"
    }
   ],
   "source": [
    "import matplotlib.pyplot as plt\n",
    "\n",
    "# Hacer el recuadro más grande\n",
    "plt.figure(figsize=(10,10))\n",
    "x = datos_españa['date']\n",
    "y = datos_españa['total_cases']\n",
    "plt.plot(x, y, lw=3) # Hacemos el grosor de la línea mayor con lw\n",
    "plt.show()"
   ]
  },
  {
   "cell_type": "markdown",
   "metadata": {
    "id": "4XULuIRMXjp1"
   },
   "source": [
    "Seguimos viéndolo fatal las fechas en el Eje X. Los ejes se pueden modificar. Para ello creamos un objeto axes mediante el método **add_axes**. Este va a sustituir los ejes por defecto y nos permiten modificarlo.\n",
    "\n",
    "*ax = fig.add_axes()*\n",
    "\n",
    "Ahora sí, vamos primeramente a optar por indicar sólo 3 fechas en el eje X: el inicio, una fecha entre medio y el final. Para ello vamos a usar un método llamado **set_xticks()** al que hay que pasarle una lista de números. Por tanto le pasaremos:\n",
    "- La posición 0. La primera posición. \n",
    "- La última posición con *len(datos_españa)-1*. len() esto nos devolvía la cantidad de elementos que hay en la lista y menos 1 porque si hay 10 elementos en la lista los índices van de 0 a 9.\n",
    "- Y el elemento intermedio con (len(datos_españa)-1)/2. Siguiendo la lógica de antes, sólo que ahora queremos la mitad justa y por eso dividir entre 2)\n",
    "\n",
    "Por tando **ax.set_xticks([f_ini, f_med, f_fin])** , donde f_ini es la posición de la fecha inicio, la posición de la f_med es fecha media y f_fin la posición de la fecha final "
   ]
  },
  {
   "cell_type": "markdown",
   "metadata": {
    "id": "wbXFSZHBXjp1"
   },
   "source": [
    "** Acuerdate que para ver la **len()** es una función que se usa para ver los tamaños de las listas. Ejemplo, sabiendo que cada fila es un día, vamos a ver cuántos almacenados días en los datos:"
   ]
  },
  {
   "cell_type": "code",
   "execution_count": 43,
   "metadata": {
    "colab": {
     "base_uri": "https://localhost:8080/"
    },
    "executionInfo": {
     "elapsed": 7899,
     "status": "ok",
     "timestamp": 1607804103586,
     "user": {
      "displayName": "Sergio Díaz González",
      "photoUrl": "https://lh3.googleusercontent.com/a-/AOh14GjH7Zktgr3uD34RSxgsa-w8hVqB4gj5e5lKtsu9=s64",
      "userId": "02816479088502848749"
     },
     "user_tz": 0
    },
    "id": "y1oOty33Xjp1",
    "outputId": "feb08264-cbfc-4980-8d52-1b4c54126059"
   },
   "outputs": [
    {
     "data": {
      "text/plain": [
       "313"
      ]
     },
     "execution_count": 43,
     "metadata": {
      "tags": []
     },
     "output_type": "execute_result"
    }
   ],
   "source": [
    "len(datos_españa)"
   ]
  },
  {
   "cell_type": "markdown",
   "metadata": {
    "id": "R73jVe2MXjp1"
   },
   "source": [
    "Ahora sí, vamos a mostrar la gráfica"
   ]
  },
  {
   "cell_type": "code",
   "execution_count": 44,
   "metadata": {
    "colab": {
     "base_uri": "https://localhost:8080/",
     "height": 669
    },
    "executionInfo": {
     "elapsed": 7886,
     "status": "ok",
     "timestamp": 1607804103588,
     "user": {
      "displayName": "Sergio Díaz González",
      "photoUrl": "https://lh3.googleusercontent.com/a-/AOh14GjH7Zktgr3uD34RSxgsa-w8hVqB4gj5e5lKtsu9=s64",
      "userId": "02816479088502848749"
     },
     "user_tz": 0
    },
    "id": "YkSB-bdzXjp1",
    "outputId": "ce6729b4-0123-40fd-b941-ddcc97d35f34"
   },
   "outputs": [
    {
     "data": {
      "image/png": "[encoded data removed]",
      "text/plain": [
       "<Figure size 720x720 with 1 Axes>"
      ]
     },
     "metadata": {
      "needs_background": "light",
      "tags": []
     },
     "output_type": "display_data"
    }
   ],
   "source": [
    "# Librería matplotlib que vamos a utilizar para representar graficamente\n",
    "import matplotlib.pyplot as plt\n",
    "\n",
    "x = datos_españa['date']\n",
    "y = datos_españa['total_cases']\n",
    "\n",
    "fig = plt.figure(figsize=(10,10))\n",
    "ax = fig.add_axes([0.1, 0.1, 0.8, 0.8]) # Este parámetro son las dimensiones [left, bottom, width, height] \n",
    "                                        # de los nuevos ejes.\n",
    "\n",
    "# Vamos a indicar tres datos del eje x\n",
    "f_ini = 0\n",
    "f_med = (len(datos_españa)-1) /2\n",
    "f_fin = len(datos_españa)-1\n",
    "\n",
    "# Le añadimos los tres elementos que vamos a mostrar.\n",
    "ax.set_xticks([f_ini, f_med, f_fin])\n",
    "\n",
    "plt.plot(x, y, lw=3)\n",
    "\n",
    "# Guardar imágenes\n",
    "# plt.savefig(\"name.png\")\n",
    "plt.show() \n",
    "\n",
    "# Y si quisiéramos descargar la gráfica desde colab a nuestro ordenador\n",
    "# from google.colab import files\n",
    "# files.download(\"name.png\")\n",
    "\n"
   ]
  },
  {
   "cell_type": "markdown",
   "metadata": {
    "id": "SSOw2KM5Xjp1"
   },
   "source": [
    "Ya no tenemos problemas, pero vamos a colocarlo mejor, porque todavía nos quedan muchas cosas que podrían ser más claras. Primeramente empezaremos por incluir nombre a los ejes y la gráfica."
   ]
  },
  {
   "cell_type": "code",
   "execution_count": 45,
   "metadata": {
    "colab": {
     "base_uri": "https://localhost:8080/",
     "height": 711
    },
    "executionInfo": {
     "elapsed": 8657,
     "status": "ok",
     "timestamp": 1607804104378,
     "user": {
      "displayName": "Sergio Díaz González",
      "photoUrl": "https://lh3.googleusercontent.com/a-/AOh14GjH7Zktgr3uD34RSxgsa-w8hVqB4gj5e5lKtsu9=s64",
      "userId": "02816479088502848749"
     },
     "user_tz": 0
    },
    "id": "wmSIvcDZXjp1",
    "outputId": "cb93f712-e27c-4e5c-c537-4d7ab6a6e3b9"
   },
   "outputs": [
    {
     "data": {
      "image/png": "[encoded data removed]",
      "text/plain": [
       "<Figure size 720x720 with 1 Axes>"
      ]
     },
     "metadata": {
      "needs_background": "light",
      "tags": []
     },
     "output_type": "display_data"
    }
   ],
   "source": [
    "# Librería matplotlib que vamos a utilizar para representar graficamente\n",
    "import matplotlib.pyplot as plt\n",
    "\n",
    "x = datos_españa['date']\n",
    "y = datos_españa['total_cases']\n",
    "\n",
    "fig = plt.figure(figsize=(10,10))\n",
    "ax = fig.add_axes([0.1, 0.1, 0.8, 0.8]) # Este parámetro son las dimensiones [left, bottom, width, height] \n",
    "                                        # de los nuevos ejes.\n",
    "ax.set_xlabel('Fechas') # nombre eje x \n",
    "ax.set_ylabel('Cantidad de casos') # nombre eje y\n",
    "ax.set_title('Total de casos en España') # nombre gráfica\n",
    "\n",
    "# Vamos a indicar tres datos del eje x\n",
    "f_ini = 0\n",
    "f_med = (len(datos_españa)-1) /2\n",
    "f_fin = len(datos_españa)-1\n",
    "\n",
    "ax.set_xticks([f_ini, f_med, f_fin])\n",
    "\n",
    "plt.plot(x, y, lw=3)\n",
    "plt.show()"
   ]
  },
  {
   "cell_type": "markdown",
   "metadata": {
    "id": "9TL7lj0ZXjp1"
   },
   "source": [
    "Ahora por último a sustituir los valores de Y por texto para que se entienda mejor.\n",
    "\n",
    "Usamos de nuevo **set_yticks**, para indicar los rangos a visualizar, pero también usamos **set_yticklabels** para poner los nombres"
   ]
  },
  {
   "cell_type": "code",
   "execution_count": 46,
   "metadata": {
    "colab": {
     "base_uri": "https://localhost:8080/",
     "height": 711
    },
    "executionInfo": {
     "elapsed": 8645,
     "status": "ok",
     "timestamp": 1607804104380,
     "user": {
      "displayName": "Sergio Díaz González",
      "photoUrl": "https://lh3.googleusercontent.com/a-/AOh14GjH7Zktgr3uD34RSxgsa-w8hVqB4gj5e5lKtsu9=s64",
      "userId": "02816479088502848749"
     },
     "user_tz": 0
    },
    "id": "Ji9i6sPoXjp1",
    "outputId": "bcd28312-e414-4117-d26c-fdfa0a271055"
   },
   "outputs": [
    {
     "data": {
      "image/png": "[encoded data removed]",
      "text/plain": [
       "<Figure size 720x720 with 1 Axes>"
      ]
     },
     "metadata": {
      "needs_background": "light",
      "tags": []
     },
     "output_type": "display_data"
    }
   ],
   "source": [
    "# Librería matplotlib que vamos a utilizar para representar graficamente\n",
    "import matplotlib.pyplot as plt\n",
    "\n",
    "x = datos_españa['date']\n",
    "y = datos_españa['total_cases']\n",
    "\n",
    "fig = plt.figure(figsize=(10,10))\n",
    "ax = fig.add_axes([0.1, 0.1, 0.8, 0.8]) # main axes\n",
    "\n",
    "ax.set_xlabel('Fechas') # nombre eje x \n",
    "ax.set_ylabel('Cantidad de casos') # nombre eje y\n",
    "ax.set_title('Total de casos en España') # nombre gráfica\n",
    "\n",
    "# Vamos a indicar tres datos del eje x\n",
    "f_ini = 0\n",
    "f_med = (len(datos_españa)-1) /2\n",
    "f_fin = len(datos_españa)-1\n",
    "\n",
    "ax.set_xticks([f_ini, f_med, f_fin])\n",
    "ax.set_yticks([0,500000,1000000,1500000])\n",
    "ax.set_yticklabels(['0','500 mil','1 mill', '1.5 mill'])\n",
    "\n",
    "plt.plot(x, y, lw=3)\n",
    "plt.show() # or plt.savefig(\"name.png\")\n",
    "fig.savefig(\"total_es_3.png\") # Calidad resolucion"
   ]
  },
  {
   "cell_type": "markdown",
   "metadata": {
    "id": "gcjBbUdlKAny"
   },
   "source": [
    "¿Que por qué hemos puesto ese **fig.savefig(\"grafica_string.png\")** para almacenar la imagen?\n",
    "![c3_4.png](https://drive.google.com/uc?export=view&id=1dLgV8CZbllD2uZt61nRP-FIYlDNhr6f0)\n"
   ]
  },
  {
   "cell_type": "markdown",
   "metadata": {
    "id": "W59HRTaLXjp2"
   },
   "source": [
    "## Formato fecha"
   ]
  },
  {
   "cell_type": "markdown",
   "metadata": {
    "id": "YpdviyvtXjp2"
   },
   "source": [
    "Ahora en vez de visualizar las fechas así queremos ver en los ejes cada mes. Las fechas que aparecen están guardadas en formato str (texto). Acuérdate que para ver el tipo de datos usamos **type()**"
   ]
  },
  {
   "cell_type": "code",
   "execution_count": 47,
   "metadata": {
    "colab": {
     "base_uri": "https://localhost:8080/",
     "height": 35
    },
    "executionInfo": {
     "elapsed": 8631,
     "status": "ok",
     "timestamp": 1607804104381,
     "user": {
      "displayName": "Sergio Díaz González",
      "photoUrl": "https://lh3.googleusercontent.com/a-/AOh14GjH7Zktgr3uD34RSxgsa-w8hVqB4gj5e5lKtsu9=s64",
      "userId": "02816479088502848749"
     },
     "user_tz": 0
    },
    "id": "D6-4XiApXjp2",
    "outputId": "1020fe0e-4845-4276-efae-020983988cf1"
   },
   "outputs": [
    {
     "data": {
      "application/vnd.google.colaboratory.intrinsic+json": {
       "type": "string"
      },
      "text/plain": [
       "'2020-01-23'"
      ]
     },
     "execution_count": 47,
     "metadata": {
      "tags": []
     },
     "output_type": "execute_result"
    }
   ],
   "source": [
    "# Imprimimos el tipo del campo date, por ejemplo en la primera fila para ver qué es\n",
    "(datos_españa['date'].iloc[0])"
   ]
  },
  {
   "cell_type": "markdown",
   "metadata": {
    "id": "qd0qBjCaXjp2"
   },
   "source": [
    "Vamos a transformar eso a un formato fecha. Python no tiene incorporado ninguna librería de fechas directamente, pero hay muchísimas. La más típica en python en *datetime*. Pandas ya incluye directamente un método que te transforma a fecha sin necesidad de importar esa librería, **to_datetime**. En este caso la librería a lo que está transformando es *timestamp* que es otra librería de tiempo similar a datetime que usa Pandas.\n",
    "\n",
    "Vamos a cambiar el formato fecha de todo dataframe. Luego volvemos a crear el dataframe \"datos_españa\" como antes.\n",
    "\n",
    "Para transformar el tiempo hay que tener en cuenta el formato. Según vimos arriba cada fecha sigue algo como año-mes-día, más concretamente, un YYYY-MM-DD, se lo tenemos que indicar para que sepa que hay guiones que separan los elementos de la fecha y además como viene representado el año, los meses y el día. Para ello usamos el **format='%Y-%m-%d'** que veremos abajo, donde %Y representa YYYY, %m MM y %d DD."
   ]
  },
  {
   "cell_type": "code",
   "execution_count": 48,
   "metadata": {
    "colab": {
     "base_uri": "https://localhost:8080/"
    },
    "executionInfo": {
     "elapsed": 8620,
     "status": "ok",
     "timestamp": 1607804104382,
     "user": {
      "displayName": "Sergio Díaz González",
      "photoUrl": "https://lh3.googleusercontent.com/a-/AOh14GjH7Zktgr3uD34RSxgsa-w8hVqB4gj5e5lKtsu9=s64",
      "userId": "02816479088502848749"
     },
     "user_tz": 0
    },
    "id": "miB35IOJXjp2",
    "outputId": "1b7eec94-a877-4367-93c3-d5b792348bdd"
   },
   "outputs": [
    {
     "data": {
      "text/plain": [
       "pandas._libs.tslibs.timestamps.Timestamp"
      ]
     },
     "execution_count": 48,
     "metadata": {
      "tags": []
     },
     "output_type": "execute_result"
    }
   ],
   "source": [
    "datos['date'] =  pd.to_datetime(datos['date'], format='%Y-%m-%d') # Transformamos formato datos\n",
    "datos_españa = datos[datos['location'] == 'Spain'] # Reasignamos de nuevos los datos de España, ahora con el formato\n",
    "                                                   # del tiempo como datetime\n",
    "\n",
    "# Imprimos y observamos que ya el dtype es diferente\n",
    "type(datos_españa['date'].iloc[0])"
   ]
  },
  {
   "cell_type": "markdown",
   "metadata": {
    "id": "dMrRiQMqXjp2"
   },
   "source": [
    "Lo que nos interesa para representar por el primer día por mes es obtener los datos de la fecha por separado. Para ello ver siguiente bloque."
   ]
  },
  {
   "cell_type": "code",
   "execution_count": 49,
   "metadata": {
    "colab": {
     "base_uri": "https://localhost:8080/"
    },
    "executionInfo": {
     "elapsed": 9226,
     "status": "ok",
     "timestamp": 1607804104997,
     "user": {
      "displayName": "Sergio Díaz González",
      "photoUrl": "https://lh3.googleusercontent.com/a-/AOh14GjH7Zktgr3uD34RSxgsa-w8hVqB4gj5e5lKtsu9=s64",
      "userId": "02816479088502848749"
     },
     "user_tz": 0
    },
    "id": "pWJTIGhJXjp2",
    "outputId": "a6d84a6c-7be1-4388-de4f-eb274c9c44f1"
   },
   "outputs": [
    {
     "name": "stdout",
     "output_type": "stream",
     "text": [
      "El año de la primera fila es 2020\n",
      "El mes de la primera fila es 1\n",
      "El día de la primera fila es 23\n"
     ]
    }
   ],
   "source": [
    "print('El año de la primera fila es',datos_españa['date'].iloc[0].year)\n",
    "print('El mes de la primera fila es',datos_españa['date'].iloc[0].month)\n",
    "print('El día de la primera fila es',datos_españa['date'].iloc[0].day)"
   ]
  },
  {
   "cell_type": "markdown",
   "metadata": {
    "id": "1A2bbSh4Xjp2"
   },
   "source": [
    "Vemos que solo tenemos que añadir un \".year\", \".month\" o \".day\" para obtener el elemento en concreto. También podría ser \".hour\", \".minute\", \".second\", si se diese el caso, aunque ahora valdra cero cualquiera de ellos.\n",
    "\n",
    "Mas de datetime:\n",
    "\n",
    "- https://docs.python.org/es/3/library/datetime.html\n",
    "- https://pandas.pydata.org/pandas-docs/version/0.23.4/generated/pandas.Timestamp.html\n",
    "\n",
    "Bien, una vez dicho que son fechas, al datetime ya no hay que indicarle más. Ya sabrá tratar las fechas de forma correcta para que se visualice bien. Cogiendo el código de antes.\n",
    "\n",
    "Ahora además vamos a cambiar el tamaño de las letras para que se vean más grandes con **mpl.rcParams['font.size']**"
   ]
  },
  {
   "cell_type": "code",
   "execution_count": 50,
   "metadata": {
    "colab": {
     "base_uri": "https://localhost:8080/",
     "height": 668
    },
    "executionInfo": {
     "elapsed": 9218,
     "status": "ok",
     "timestamp": 1607804104999,
     "user": {
      "displayName": "Sergio Díaz González",
      "photoUrl": "https://lh3.googleusercontent.com/a-/AOh14GjH7Zktgr3uD34RSxgsa-w8hVqB4gj5e5lKtsu9=s64",
      "userId": "02816479088502848749"
     },
     "user_tz": 0
    },
    "id": "8CbIMeG1Xjp2",
    "outputId": "42b1c5f4-0656-4ae8-eece-a4906648419b"
   },
   "outputs": [
    {
     "data": {
      "image/png": "[encoded data removed]",
      "text/plain": [
       "<Figure size 432x288 with 1 Axes>"
      ]
     },
     "metadata": {
      "needs_background": "light",
      "tags": []
     },
     "output_type": "display_data"
    }
   ],
   "source": [
    "# Librería matplotlib que vamos a utilizar para representar graficamente\n",
    "import matplotlib.pyplot as plt\n",
    "import matplotlib as mpl\n",
    "\n",
    "mpl.rcParams['font.size'] = 15.0\n",
    "\n",
    "x = datos_españa['date']\n",
    "y = datos_españa['total_cases']\n",
    "\n",
    "fig = plt.figure()\n",
    "ax = fig.add_axes([1, 1, 2, 2]) # main axes\n",
    "\n",
    "ax.set_xlabel('Fechas') # nombre eje x \n",
    "ax.set_ylabel('Cantidad de casos') # nombre eje y\n",
    "ax.set_title('Total de casos en España') # nombre gráfica\n",
    "\n",
    "ax.set_yticks([0,500000,1000000,1500000])\n",
    "ax.set_yticklabels(['0','500 mil','1 mill', '1.5 mill'])\n",
    "\n",
    "plt.plot(x, y, lw=3)\n",
    "plt.show()"
   ]
  },
  {
   "cell_type": "markdown",
   "metadata": {
    "id": "hynovzpQXjp2"
   },
   "source": [
    "Podemos poner alias tamnbién en el eje X. "
   ]
  },
  {
   "cell_type": "code",
   "execution_count": 51,
   "metadata": {
    "colab": {
     "base_uri": "https://localhost:8080/",
     "height": 711
    },
    "executionInfo": {
     "elapsed": 9207,
     "status": "ok",
     "timestamp": 1607804105000,
     "user": {
      "displayName": "Sergio Díaz González",
      "photoUrl": "https://lh3.googleusercontent.com/a-/AOh14GjH7Zktgr3uD34RSxgsa-w8hVqB4gj5e5lKtsu9=s64",
      "userId": "02816479088502848749"
     },
     "user_tz": 0
    },
    "id": "kzVfye5AXjp2",
    "outputId": "eb5c7b27-b374-4be8-caa9-27951baa0b3e"
   },
   "outputs": [
    {
     "data": {
      "image/png": "[encoded data removed]",
      "text/plain": [
       "<Figure size 432x288 with 1 Axes>"
      ]
     },
     "metadata": {
      "needs_background": "light",
      "tags": []
     },
     "output_type": "display_data"
    }
   ],
   "source": [
    "# Librería matplotlib que vamos a utilizar para representar graficamente\n",
    "import matplotlib.pyplot as plt\n",
    "import matplotlib as mpl\n",
    "mpl.rcParams['font.size'] = 30.0\n",
    "\n",
    "x = datos_españa['date']\n",
    "y = datos_españa['total_cases']\n",
    "\n",
    "fig = plt.figure()\n",
    "ax = fig.add_axes([1, 1, 2, 2]) # main axes\n",
    "\n",
    "ax.set_xlabel('Fechas') # nombre eje x \n",
    "ax.set_ylabel('Cantidad de casos') # nombre eje y\n",
    "ax.set_title('Total de casos en España') # nombre gráfica\n",
    "\n",
    "ax.set_xticklabels(['feb','mar','abr','may','jun',\n",
    "                    'jul','ago','sep','oct','nov', 'dic'])\n",
    "\n",
    "ax.set_yticks([0,500000,1000000,1500000])\n",
    "ax.set_yticklabels(['0','500 mil','1 mill', '1.5 mill'])\n",
    "\n",
    "plt.plot(x, y, lw=3)\n",
    "plt.show()\n",
    "fig.savefig(\"total_es_mes.png\")"
   ]
  },
  {
   "cell_type": "markdown",
   "metadata": {
    "id": "POxnbqNHXjp2"
   },
   "source": [
    "### Ejercicio 1 \n",
    "Visualizar la evolución no de los casos totales sino de los casos nuevos."
   ]
  },
  {
   "cell_type": "code",
   "execution_count": 52,
   "metadata": {
    "executionInfo": {
     "elapsed": 9204,
     "status": "ok",
     "timestamp": 1607804105001,
     "user": {
      "displayName": "Sergio Díaz González",
      "photoUrl": "https://lh3.googleusercontent.com/a-/AOh14GjH7Zktgr3uD34RSxgsa-w8hVqB4gj5e5lKtsu9=s64",
      "userId": "02816479088502848749"
     },
     "user_tz": 0
    },
    "id": "0WV0afPxeEgR"
   },
   "outputs": [],
   "source": [
    "# Resolver"
   ]
  },
  {
   "cell_type": "markdown",
   "metadata": {
    "id": "3qsw4oCvXjp2"
   },
   "source": [
    "## Más de una línea"
   ]
  },
  {
   "cell_type": "markdown",
   "metadata": {
    "id": "ta-dWHxZXjp2"
   },
   "source": [
    "Ahora vamos a comparar los datos de España con los de otros países. Por ejemplo, Italia, Alemania, Francia y Reino Unido. Tenemos que añadir un **plt.plot()** por cada país."
   ]
  },
  {
   "cell_type": "code",
   "execution_count": 53,
   "metadata": {
    "executionInfo": {
     "elapsed": 9203,
     "status": "ok",
     "timestamp": 1607804105002,
     "user": {
      "displayName": "Sergio Díaz González",
      "photoUrl": "https://lh3.googleusercontent.com/a-/AOh14GjH7Zktgr3uD34RSxgsa-w8hVqB4gj5e5lKtsu9=s64",
      "userId": "02816479088502848749"
     },
     "user_tz": 0
    },
    "id": "4ZrOzd8wXjp2"
   },
   "outputs": [],
   "source": [
    "datos_italia = datos[datos['location'] == 'Italy']\n",
    "datos_alemania = datos[datos['location'] == 'Germany']\n",
    "datos_francia = datos[datos['location'] == 'France']\n",
    "datos_reinoUnido = datos[datos['location'] == 'United Kingdom']"
   ]
  },
  {
   "cell_type": "code",
   "execution_count": 54,
   "metadata": {
    "colab": {
     "base_uri": "https://localhost:8080/",
     "height": 1000
    },
    "executionInfo": {
     "elapsed": 9987,
     "status": "ok",
     "timestamp": 1607804105796,
     "user": {
      "displayName": "Sergio Díaz González",
      "photoUrl": "https://lh3.googleusercontent.com/a-/AOh14GjH7Zktgr3uD34RSxgsa-w8hVqB4gj5e5lKtsu9=s64",
      "userId": "02816479088502848749"
     },
     "user_tz": 0
    },
    "id": "BycfpJpTXjp2",
    "outputId": "67522a4d-59f1-495c-91a3-2416d47239e3"
   },
   "outputs": [
    {
     "data": {
      "text/plain": [
       "<Figure size 432x288 with 0 Axes>"
      ]
     },
     "metadata": {
      "tags": []
     },
     "output_type": "display_data"
    },
    {
     "data": {
      "image/png": "[encoded data removed]",
      "text/plain": [
       "<Figure size 720x720 with 1 Axes>"
      ]
     },
     "metadata": {
      "needs_background": "light",
      "tags": []
     },
     "output_type": "display_data"
    }
   ],
   "source": [
    "# Librería matplotlib que vamos a utilizar para representar graficamente\n",
    "import matplotlib.pyplot as plt\n",
    "import matplotlib as mpl\n",
    "\n",
    "mpl.rcParams['font.size'] = 30.0\n",
    "\n",
    "x_es = datos_españa['date']\n",
    "x_it = datos_italia['date']\n",
    "x_ger = datos_alemania['date']\n",
    "x_fr = datos_francia['date']\n",
    "x_uk = datos_reinoUnido['date']\n",
    "\n",
    "y_es = datos_españa['total_cases']\n",
    "y_it = datos_italia['total_cases']\n",
    "y_ger = datos_alemania['total_cases']\n",
    "y_fr = datos_francia['total_cases']\n",
    "y_uk = datos_reinoUnido['total_cases']\n",
    "\n",
    "fig = plt.figure()\n",
    "fig = plt.figure(figsize=(10,10))\n",
    "\n",
    "ax = fig.add_axes([1, 1, 2, 2]) # main axes\n",
    "\n",
    "ax.set_xlabel('Fechas') # nombre eje x \n",
    "ax.set_ylabel('Cantidad de casos') # nombre eje y\n",
    "ax.set_title('Total de casos') # nombre gráfica\n",
    "\n",
    "ax.set_xticklabels(['feb','mar','abr','may','jun',\n",
    "                    'jul','ago','sep','oct','nov', 'dic'])\n",
    "\n",
    "ax.set_yticks([0,500000,1000000,1500000, 2000000])\n",
    "ax.set_yticklabels(['0','500 mil','1 mill', '1.5 mill', '2 mill'])\n",
    "\n",
    "plt.plot(x_es, y_es, lw=3)\n",
    "plt.plot(x_ger, y_ger, lw=3)\n",
    "plt.plot(x_it, y_it, lw=3)\n",
    "plt.plot(x_fr, y_fr, lw=3)\n",
    "plt.plot(x_uk, y_uk, lw=3)\n",
    "\n",
    "plt.show()"
   ]
  },
  {
   "cell_type": "markdown",
   "metadata": {
    "id": "YrYAo_VZXjp2"
   },
   "source": [
    "El problema aquí es que no entendemos de qué país es cada línea. Añadimos el argumento \"label\" a cada **plot()** y por último el **plt.legend()** para que se visualice la leyenda con los diferentes países."
   ]
  },
  {
   "cell_type": "code",
   "execution_count": 55,
   "metadata": {
    "colab": {
     "base_uri": "https://localhost:8080/",
     "height": 940
    },
    "executionInfo": {
     "elapsed": 10714,
     "status": "ok",
     "timestamp": 1607804106534,
     "user": {
      "displayName": "Sergio Díaz González",
      "photoUrl": "https://lh3.googleusercontent.com/a-/AOh14GjH7Zktgr3uD34RSxgsa-w8hVqB4gj5e5lKtsu9=s64",
      "userId": "02816479088502848749"
     },
     "user_tz": 0
    },
    "id": "RttTTrkJXjp2",
    "outputId": "b506aa29-b389-4160-89e7-f79b13a47aba"
   },
   "outputs": [
    {
     "data": {
      "image/png": "[encoded data removed]",
      "text/plain": [
       "<Figure size 864x1008 with 1 Axes>"
      ]
     },
     "metadata": {
      "needs_background": "light",
      "tags": []
     },
     "output_type": "display_data"
    }
   ],
   "source": [
    "# Librería matplotlib que vamos a utilizar para representar graficamente\n",
    "import matplotlib.pyplot as plt\n",
    "import matplotlib as mpl\n",
    "\n",
    "mpl.rcParams['font.size'] = 30.0\n",
    "\n",
    "x_es = datos_españa['date']\n",
    "x_it = datos_italia['date']\n",
    "x_ger = datos_alemania['date']\n",
    "x_fr = datos_francia['date']\n",
    "x_uk = datos_reinoUnido['date']\n",
    "\n",
    "y_es = datos_españa['total_cases']\n",
    "y_it = datos_italia['total_cases']\n",
    "y_ger = datos_alemania['total_cases']\n",
    "y_fr = datos_francia['total_cases']\n",
    "y_uk = datos_reinoUnido['total_cases']\n",
    "\n",
    "fig = plt.figure(figsize=(12,14))\n",
    "ax = fig.add_axes([.1, .1, 0.8, 0.8]) # main axes\n",
    "\n",
    "ax.set_xlabel('Fechas') # nombre eje x \n",
    "ax.set_ylabel('Cantidad de casos') # nombre eje y\n",
    "ax.set_title('Total de casos') # nombre gráfica\n",
    "\n",
    "ax.set_xticklabels(['feb','mar','abr','may','jun',\n",
    "                    'jul','ago','sep','oct','nov', 'dic'])\n",
    "\n",
    "ax.set_yticks([0,500000,1000000,1500000, 2000000])\n",
    "ax.set_yticklabels(['0','500 mil','1 mill', '1.5 mill', '2 mill'])\n",
    "\n",
    "plt.plot(x_es, y_es, lw=3,label = \"España\")\n",
    "plt.plot(x_ger, y_ger, lw=3,label = \"Alemania\")\n",
    "plt.plot(x_it, y_it, lw=3,label = \"Italia\")\n",
    "plt.plot(x_fr, y_fr, lw=3,label = \"Francia\")\n",
    "plt.plot(x_uk, y_uk, lw=3,label = \"Reino Unido\")\n",
    "plt.legend()\n",
    "\n",
    "plt.show()\n",
    "fig.savefig(\"total_paises.png\") # Calidad resolucion"
   ]
  },
  {
   "cell_type": "markdown",
   "metadata": {
    "id": "Y_Z33OqKXjp2"
   },
   "source": [
    "### Ejercicio 2 \n",
    "Ahora hacer lo mismo pero para los casos nuevos y no los totales, con todos los países"
   ]
  },
  {
   "cell_type": "code",
   "execution_count": 56,
   "metadata": {
    "executionInfo": {
     "elapsed": 10712,
     "status": "ok",
     "timestamp": 1607804106535,
     "user": {
      "displayName": "Sergio Díaz González",
      "photoUrl": "https://lh3.googleusercontent.com/a-/AOh14GjH7Zktgr3uD34RSxgsa-w8hVqB4gj5e5lKtsu9=s64",
      "userId": "02816479088502848749"
     },
     "user_tz": 0
    },
    "id": "WSFdF7Y5eKTb"
   },
   "outputs": [],
   "source": [
    "# Resolver"
   ]
  },
  {
   "cell_type": "markdown",
   "metadata": {
    "id": "UuN4Zt7LXjp2"
   },
   "source": [
    "## Gráfica de barras\n"
   ]
  },
  {
   "cell_type": "markdown",
   "metadata": {
    "id": "u2H_gcpvXjp3"
   },
   "source": [
    "Podemos hacer una gráfica de barras de la siguiente manera, con **plt.bar()** en lugar de **plt.plot()** como habíamos hecho hasta ahora"
   ]
  },
  {
   "cell_type": "code",
   "execution_count": 57,
   "metadata": {
    "colab": {
     "base_uri": "https://localhost:8080/",
     "height": 711
    },
    "executionInfo": {
     "elapsed": 11617,
     "status": "ok",
     "timestamp": 1607804107451,
     "user": {
      "displayName": "Sergio Díaz González",
      "photoUrl": "https://lh3.googleusercontent.com/a-/AOh14GjH7Zktgr3uD34RSxgsa-w8hVqB4gj5e5lKtsu9=s64",
      "userId": "02816479088502848749"
     },
     "user_tz": 0
    },
    "id": "rG8VA0KZXjp3",
    "outputId": "2c8c6aae-eb9d-4634-a979-b5bad9d464a6"
   },
   "outputs": [
    {
     "data": {
      "image/png": "[encoded data removed]",
      "text/plain": [
       "<Figure size 432x288 with 1 Axes>"
      ]
     },
     "metadata": {
      "needs_background": "light",
      "tags": []
     },
     "output_type": "display_data"
    }
   ],
   "source": [
    "# Librería matplotlib que vamos a utilizar para representar graficamente\n",
    "import matplotlib.pyplot as plt\n",
    "import matplotlib as mpl\n",
    "\n",
    "mpl.rcParams['font.size'] = 30.0\n",
    "\n",
    "x = datos_españa['date']\n",
    "y = datos_españa['new_cases']\n",
    "\n",
    "fig = plt.figure()\n",
    "ax = fig.add_axes([1, 1, 2, 2]) # main axes\n",
    "\n",
    "ax.set_xlabel('Cantidad') # nombre eje x \n",
    "ax.set_ylabel('Frecuencia') # nombre eje y\n",
    "ax.set_title('Frecuencia de nuevos casos en España') # nombre gráfica\n",
    "\n",
    "ax.set_xticklabels(['feb','mar','abr','may','jun',\n",
    "                    'jul','ago','sep','oct','nov', 'dic'])\n",
    "\n",
    "plt.bar(x, y)\n",
    "plt.show()"
   ]
  },
  {
   "cell_type": "markdown",
   "metadata": {
    "id": "jPMnjyufXjp3"
   },
   "source": [
    "Vemos que hay un valor negativo. No es extraño que al descargar datos de alguna fuente pueda tener errores, y esos hay que filtrarlos. Podemos buscar alguna forma que no afecte mucho a la gráfica, como la media entre el dato directamente posterior y el anterior. Aquí para no complicarnos mucho simplemente vamos a igualarlo a cero cualquier valor negativo y volver a imprimir todo. \n",
    "\n",
    "Para esta tarea volvemos a usar loc. Se puede hacer una condición que sólo te cojas las filas donde \"new_cases\" sea cero y sustituirlo. Para hacerlo más visible dividimos el proceso, pero es lo mismo que si lo escribimos todo en una línea."
   ]
  },
  {
   "cell_type": "code",
   "execution_count": 58,
   "metadata": {
    "colab": {
     "base_uri": "https://localhost:8080/"
    },
    "executionInfo": {
     "elapsed": 11608,
     "status": "ok",
     "timestamp": 1607804107453,
     "user": {
      "displayName": "Sergio Díaz González",
      "photoUrl": "https://lh3.googleusercontent.com/a-/AOh14GjH7Zktgr3uD34RSxgsa-w8hVqB4gj5e5lKtsu9=s64",
      "userId": "02816479088502848749"
     },
     "user_tz": 0
    },
    "id": "-FCwzgfPXjp3",
    "outputId": "129a4501-1ddd-4162-ce05-2a614e6c2fd4"
   },
   "outputs": [
    {
     "name": "stderr",
     "output_type": "stream",
     "text": [
      "/usr/local/lib/python3.6/dist-packages/pandas/core/indexing.py:1763: SettingWithCopyWarning:\n",
      "\n",
      "\n",
      "A value is trying to be set on a copy of a slice from a DataFrame.\n",
      "Try using .loc[row_indexer,col_indexer] = value instead\n",
      "\n",
      "See the caveats in the documentation: https://pandas.pydata.org/pandas-docs/stable/user_guide/indexing.html#returning-a-view-versus-a-copy\n",
      "\n"
     ]
    }
   ],
   "source": [
    "condicion = datos_españa.new_cases < 0\n",
    "columna = \"new_cases\"\n",
    "valor_nuevo = 0\n",
    "\n",
    "datos_españa.loc[condicion, columna] = valor_nuevo"
   ]
  },
  {
   "cell_type": "code",
   "execution_count": 59,
   "metadata": {
    "colab": {
     "base_uri": "https://localhost:8080/",
     "height": 941
    },
    "executionInfo": {
     "elapsed": 12581,
     "status": "ok",
     "timestamp": 1607804108436,
     "user": {
      "displayName": "Sergio Díaz González",
      "photoUrl": "https://lh3.googleusercontent.com/a-/AOh14GjH7Zktgr3uD34RSxgsa-w8hVqB4gj5e5lKtsu9=s64",
      "userId": "02816479088502848749"
     },
     "user_tz": 0
    },
    "id": "JwhAsqM2Xjp3",
    "outputId": "3fffae13-b06b-4276-82ec-bbe987b22253"
   },
   "outputs": [
    {
     "data": {
      "image/png": "[encoded data removed]",
      "text/plain": [
       "<Figure size 864x1008 with 1 Axes>"
      ]
     },
     "metadata": {
      "needs_background": "light",
      "tags": []
     },
     "output_type": "display_data"
    }
   ],
   "source": [
    "# Librería matplotlib que vamos a utilizar para representar graficamente\n",
    "import matplotlib.pyplot as plt\n",
    "import matplotlib as mpl\n",
    "\n",
    "mpl.rcParams['font.size'] = 30.0\n",
    "\n",
    "x = datos_españa['date']\n",
    "y = datos_españa['new_cases']\n",
    "\n",
    "fig = plt.figure(figsize=(12,14))\n",
    "ax = fig.add_axes([0.1, 0.1, 0.8, 0.8]) # main axes\n",
    "\n",
    "ax.set_xlabel('Cantidad') # nombre eje x \n",
    "ax.set_ylabel('Frecuencia') # nombre eje y\n",
    "ax.set_title('Frecuencia de nuevos casos en España') # nombre gráfica\n",
    "\n",
    "ax.set_xticklabels(['feb','mar','abr','may','jun',\n",
    "                    'jul','ago','sep','oct','nov', 'dic'])\n",
    "\n",
    "plt.bar(x, y)\n",
    "plt.show()\n",
    "fig.savefig(\"nuevos_casos_barra.png\") # Calidad resolucion"
   ]
  },
  {
   "cell_type": "markdown",
   "metadata": {
    "id": "VlB5d5Q5Xjp3"
   },
   "source": [
    "### Ejercicio 3\n",
    "Ahora hacer lo mismo pero para los casos nuevos con una gráfica de barras pero con Estados Unidos"
   ]
  },
  {
   "cell_type": "code",
   "execution_count": 60,
   "metadata": {
    "executionInfo": {
     "elapsed": 12579,
     "status": "ok",
     "timestamp": 1607804108437,
     "user": {
      "displayName": "Sergio Díaz González",
      "photoUrl": "https://lh3.googleusercontent.com/a-/AOh14GjH7Zktgr3uD34RSxgsa-w8hVqB4gj5e5lKtsu9=s64",
      "userId": "02816479088502848749"
     },
     "user_tz": 0
    },
    "id": "to3eN0eaeUuU"
   },
   "outputs": [],
   "source": [
    "# Resolver"
   ]
  },
  {
   "cell_type": "markdown",
   "metadata": {
    "id": "gH9ieImqXjp3"
   },
   "source": [
    "## Gráfica de queso"
   ]
  },
  {
   "cell_type": "markdown",
   "metadata": {
    "id": "NKfdK_bZXjp3"
   },
   "source": [
    "Ahora vamos a mostrar el número de casos totales por continentes respecto al total. En la fila cuya location es world podemos obtener el total. Para ello vamos a usar el método de Pandas **group_by**.\n",
    "\n",
    "Como queremos los casos totales a día de hoy podemos simplemente seleccionar el último día de todos los datos. Aunque también se podría usar el valor máximo de los datos que debería concidir para el total de casos."
   ]
  },
  {
   "cell_type": "code",
   "execution_count": 61,
   "metadata": {
    "colab": {
     "base_uri": "https://localhost:8080/"
    },
    "executionInfo": {
     "elapsed": 12570,
     "status": "ok",
     "timestamp": 1607804108438,
     "user": {
      "displayName": "Sergio Díaz González",
      "photoUrl": "https://lh3.googleusercontent.com/a-/AOh14GjH7Zktgr3uD34RSxgsa-w8hVqB4gj5e5lKtsu9=s64",
      "userId": "02816479088502848749"
     },
     "user_tz": 0
    },
    "id": "ZcDke-YKXjp3",
    "outputId": "225247b0-5eec-40f1-cc17-43e435d961c0"
   },
   "outputs": [
    {
     "data": {
      "text/plain": [
       "312     2020-11-30\n",
       "625     2020-11-30\n",
       "938     2020-11-30\n",
       "1251    2020-11-30\n",
       "1564    2020-11-30\n",
       "           ...    \n",
       "58667   2020-11-30\n",
       "58980   2020-11-30\n",
       "59293   2020-11-30\n",
       "59607   2020-11-30\n",
       "59920   2020-11-30\n",
       "Name: date, Length: 191, dtype: datetime64[ns]"
      ]
     },
     "execution_count": 61,
     "metadata": {
      "tags": []
     },
     "output_type": "execute_result"
    }
   ],
   "source": [
    "cond_dia = datos['date'].dt.day == 30\n",
    "cond_mes = datos['date'].dt.month == 11\n",
    "cond_año = datos['date'].dt.year == 2020\n",
    "datos_ayer = datos[(cond_dia) & (cond_mes) & (cond_año)]\n",
    "datos_ayer['date']"
   ]
  },
  {
   "cell_type": "code",
   "execution_count": 63,
   "metadata": {
    "colab": {
     "base_uri": "https://localhost:8080/",
     "height": 320
    },
    "executionInfo": {
     "elapsed": 1166,
     "status": "ok",
     "timestamp": 1607804111554,
     "user": {
      "displayName": "Sergio Díaz González",
      "photoUrl": "https://lh3.googleusercontent.com/a-/AOh14GjH7Zktgr3uD34RSxgsa-w8hVqB4gj5e5lKtsu9=s64",
      "userId": "02816479088502848749"
     },
     "user_tz": 0
    },
    "id": "ReixVFzhNIUz",
    "outputId": "165b39e7-bdd9-45b3-e95c-79dccfdb01f7"
   },
   "outputs": [
    {
     "data": {
      "text/html": [
       "<div>\n",
       "<style scoped>\n",
       "    .dataframe tbody tr th:only-of-type {\n",
       "        vertical-align: middle;\n",
       "    }\n",
       "\n",
       "    .dataframe tbody tr th {\n",
       "        vertical-align: top;\n",
       "    }\n",
       "\n",
       "    .dataframe thead th {\n",
       "        text-align: right;\n",
       "    }\n",
       "</style>\n",
       "<table border=\"1\" class=\"dataframe\">\n",
       "  <thead>\n",
       "    <tr style=\"text-align: right;\">\n",
       "      <th></th>\n",
       "      <th>total_cases</th>\n",
       "      <th>new_cases</th>\n",
       "      <th>new_cases_smoothed</th>\n",
       "      <th>total_deaths</th>\n",
       "      <th>new_deaths</th>\n",
       "      <th>new_deaths_smoothed</th>\n",
       "      <th>total_cases_per_million</th>\n",
       "      <th>new_cases_per_million</th>\n",
       "      <th>new_cases_smoothed_per_million</th>\n",
       "      <th>total_deaths_per_million</th>\n",
       "      <th>new_deaths_per_million</th>\n",
       "      <th>new_deaths_smoothed_per_million</th>\n",
       "      <th>reproduction_rate</th>\n",
       "      <th>icu_patients</th>\n",
       "      <th>icu_patients_per_million</th>\n",
       "      <th>hosp_patients</th>\n",
       "      <th>hosp_patients_per_million</th>\n",
       "      <th>weekly_icu_admissions</th>\n",
       "      <th>weekly_icu_admissions_per_million</th>\n",
       "      <th>weekly_hosp_admissions</th>\n",
       "      <th>weekly_hosp_admissions_per_million</th>\n",
       "      <th>total_tests</th>\n",
       "      <th>new_tests</th>\n",
       "      <th>total_tests_per_thousand</th>\n",
       "      <th>new_tests_per_thousand</th>\n",
       "      <th>new_tests_smoothed</th>\n",
       "      <th>new_tests_smoothed_per_thousand</th>\n",
       "      <th>positive_rate</th>\n",
       "      <th>tests_per_case</th>\n",
       "      <th>stringency_index</th>\n",
       "      <th>population</th>\n",
       "      <th>population_density</th>\n",
       "      <th>median_age</th>\n",
       "      <th>aged_65_older</th>\n",
       "      <th>aged_70_older</th>\n",
       "      <th>gdp_per_capita</th>\n",
       "      <th>extreme_poverty</th>\n",
       "      <th>cardiovasc_death_rate</th>\n",
       "      <th>diabetes_prevalence</th>\n",
       "      <th>female_smokers</th>\n",
       "      <th>male_smokers</th>\n",
       "      <th>handwashing_facilities</th>\n",
       "      <th>hospital_beds_per_thousand</th>\n",
       "      <th>life_expectancy</th>\n",
       "      <th>human_development_index</th>\n",
       "    </tr>\n",
       "    <tr>\n",
       "      <th>continent</th>\n",
       "      <th></th>\n",
       "      <th></th>\n",
       "      <th></th>\n",
       "      <th></th>\n",
       "      <th></th>\n",
       "      <th></th>\n",
       "      <th></th>\n",
       "      <th></th>\n",
       "      <th></th>\n",
       "      <th></th>\n",
       "      <th></th>\n",
       "      <th></th>\n",
       "      <th></th>\n",
       "      <th></th>\n",
       "      <th></th>\n",
       "      <th></th>\n",
       "      <th></th>\n",
       "      <th></th>\n",
       "      <th></th>\n",
       "      <th></th>\n",
       "      <th></th>\n",
       "      <th></th>\n",
       "      <th></th>\n",
       "      <th></th>\n",
       "      <th></th>\n",
       "      <th></th>\n",
       "      <th></th>\n",
       "      <th></th>\n",
       "      <th></th>\n",
       "      <th></th>\n",
       "      <th></th>\n",
       "      <th></th>\n",
       "      <th></th>\n",
       "      <th></th>\n",
       "      <th></th>\n",
       "      <th></th>\n",
       "      <th></th>\n",
       "      <th></th>\n",
       "      <th></th>\n",
       "      <th></th>\n",
       "      <th></th>\n",
       "      <th></th>\n",
       "      <th></th>\n",
       "      <th></th>\n",
       "      <th></th>\n",
       "    </tr>\n",
       "  </thead>\n",
       "  <tbody>\n",
       "    <tr>\n",
       "      <th>Africa</th>\n",
       "      <td>2174098.0</td>\n",
       "      <td>10521.0</td>\n",
       "      <td>13441.858</td>\n",
       "      <td>51993.0</td>\n",
       "      <td>269.0</td>\n",
       "      <td>286.431</td>\n",
       "      <td>125834.155</td>\n",
       "      <td>711.849</td>\n",
       "      <td>719.415</td>\n",
       "      <td>2151.575</td>\n",
       "      <td>13.936</td>\n",
       "      <td>12.431</td>\n",
       "      <td>0.0</td>\n",
       "      <td>0.0</td>\n",
       "      <td>0.0</td>\n",
       "      <td>0.0</td>\n",
       "      <td>0.0</td>\n",
       "      <td>0.0</td>\n",
       "      <td>0.0</td>\n",
       "      <td>0.0</td>\n",
       "      <td>0.0</td>\n",
       "      <td>3067587.0</td>\n",
       "      <td>17555.0</td>\n",
       "      <td>126.375</td>\n",
       "      <td>1.212</td>\n",
       "      <td>18655.0</td>\n",
       "      <td>0.759</td>\n",
       "      <td>0.307</td>\n",
       "      <td>389.1</td>\n",
       "      <td>691.20</td>\n",
       "      <td>1.339424e+09</td>\n",
       "      <td>5485.100</td>\n",
       "      <td>1166.6</td>\n",
       "      <td>198.141</td>\n",
       "      <td>119.214</td>\n",
       "      <td>288523.368</td>\n",
       "      <td>1398.1</td>\n",
       "      <td>15514.061</td>\n",
       "      <td>303.99</td>\n",
       "      <td>93.1</td>\n",
       "      <td>987.3</td>\n",
       "      <td>1106.832</td>\n",
       "      <td>60.220</td>\n",
       "      <td>3532.41</td>\n",
       "      <td>28.827</td>\n",
       "    </tr>\n",
       "    <tr>\n",
       "      <th>Asia</th>\n",
       "      <td>16749066.0</td>\n",
       "      <td>115440.0</td>\n",
       "      <td>124150.430</td>\n",
       "      <td>291704.0</td>\n",
       "      <td>1623.0</td>\n",
       "      <td>1704.005</td>\n",
       "      <td>495397.785</td>\n",
       "      <td>3780.281</td>\n",
       "      <td>4263.323</td>\n",
       "      <td>5081.662</td>\n",
       "      <td>44.462</td>\n",
       "      <td>48.946</td>\n",
       "      <td>0.0</td>\n",
       "      <td>0.0</td>\n",
       "      <td>0.0</td>\n",
       "      <td>0.0</td>\n",
       "      <td>0.0</td>\n",
       "      <td>0.0</td>\n",
       "      <td>0.0</td>\n",
       "      <td>0.0</td>\n",
       "      <td>0.0</td>\n",
       "      <td>212930693.0</td>\n",
       "      <td>1364702.0</td>\n",
       "      <td>4146.392</td>\n",
       "      <td>23.299</td>\n",
       "      <td>1692549.0</td>\n",
       "      <td>28.294</td>\n",
       "      <td>1.440</td>\n",
       "      <td>410.9</td>\n",
       "      <td>1010.66</td>\n",
       "      <td>4.599891e+09</td>\n",
       "      <td>19582.162</td>\n",
       "      <td>1387.3</td>\n",
       "      <td>280.009</td>\n",
       "      <td>181.366</td>\n",
       "      <td>976155.985</td>\n",
       "      <td>161.5</td>\n",
       "      <td>13353.214</td>\n",
       "      <td>411.48</td>\n",
       "      <td>182.6</td>\n",
       "      <td>1508.5</td>\n",
       "      <td>1779.323</td>\n",
       "      <td>124.930</td>\n",
       "      <td>3421.19</td>\n",
       "      <td>32.610</td>\n",
       "    </tr>\n",
       "    <tr>\n",
       "      <th>Europe</th>\n",
       "      <td>17342381.0</td>\n",
       "      <td>164650.0</td>\n",
       "      <td>206246.716</td>\n",
       "      <td>395268.0</td>\n",
       "      <td>4302.0</td>\n",
       "      <td>4962.144</td>\n",
       "      <td>1226508.256</td>\n",
       "      <td>13776.268</td>\n",
       "      <td>17058.444</td>\n",
       "      <td>21785.566</td>\n",
       "      <td>403.807</td>\n",
       "      <td>333.288</td>\n",
       "      <td>0.0</td>\n",
       "      <td>0.0</td>\n",
       "      <td>0.0</td>\n",
       "      <td>0.0</td>\n",
       "      <td>0.0</td>\n",
       "      <td>0.0</td>\n",
       "      <td>0.0</td>\n",
       "      <td>0.0</td>\n",
       "      <td>0.0</td>\n",
       "      <td>124107723.0</td>\n",
       "      <td>557108.0</td>\n",
       "      <td>5166.033</td>\n",
       "      <td>29.459</td>\n",
       "      <td>911280.0</td>\n",
       "      <td>42.573</td>\n",
       "      <td>3.211</td>\n",
       "      <td>205.4</td>\n",
       "      <td>814.34</td>\n",
       "      <td>7.481705e+08</td>\n",
       "      <td>26441.422</td>\n",
       "      <td>1682.8</td>\n",
       "      <td>708.785</td>\n",
       "      <td>459.074</td>\n",
       "      <td>1401145.971</td>\n",
       "      <td>27.1</td>\n",
       "      <td>9436.536</td>\n",
       "      <td>288.57</td>\n",
       "      <td>936.1</td>\n",
       "      <td>1423.7</td>\n",
       "      <td>281.862</td>\n",
       "      <td>222.078</td>\n",
       "      <td>3587.40</td>\n",
       "      <td>36.338</td>\n",
       "    </tr>\n",
       "    <tr>\n",
       "      <th>North America</th>\n",
       "      <td>15809571.0</td>\n",
       "      <td>177135.0</td>\n",
       "      <td>179972.430</td>\n",
       "      <td>402700.0</td>\n",
       "      <td>1635.0</td>\n",
       "      <td>2183.572</td>\n",
       "      <td>213686.096</td>\n",
       "      <td>1960.689</td>\n",
       "      <td>1775.306</td>\n",
       "      <td>5011.628</td>\n",
       "      <td>24.669</td>\n",
       "      <td>30.795</td>\n",
       "      <td>0.0</td>\n",
       "      <td>0.0</td>\n",
       "      <td>0.0</td>\n",
       "      <td>0.0</td>\n",
       "      <td>0.0</td>\n",
       "      <td>0.0</td>\n",
       "      <td>0.0</td>\n",
       "      <td>0.0</td>\n",
       "      <td>0.0</td>\n",
       "      <td>11475642.0</td>\n",
       "      <td>63070.0</td>\n",
       "      <td>304.054</td>\n",
       "      <td>1.671</td>\n",
       "      <td>76426.0</td>\n",
       "      <td>2.025</td>\n",
       "      <td>0.076</td>\n",
       "      <td>13.2</td>\n",
       "      <td>332.40</td>\n",
       "      <td>5.876635e+08</td>\n",
       "      <td>4278.681</td>\n",
       "      <td>664.9</td>\n",
       "      <td>185.404</td>\n",
       "      <td>117.551</td>\n",
       "      <td>376773.553</td>\n",
       "      <td>62.9</td>\n",
       "      <td>4402.487</td>\n",
       "      <td>246.86</td>\n",
       "      <td>90.1</td>\n",
       "      <td>267.7</td>\n",
       "      <td>1008.037</td>\n",
       "      <td>53.280</td>\n",
       "      <td>1734.47</td>\n",
       "      <td>17.163</td>\n",
       "    </tr>\n",
       "    <tr>\n",
       "      <th>Oceania</th>\n",
       "      <td>30691.0</td>\n",
       "      <td>28.0</td>\n",
       "      <td>18.714</td>\n",
       "      <td>942.0</td>\n",
       "      <td>0.0</td>\n",
       "      <td>0.143</td>\n",
       "      <td>1737.326</td>\n",
       "      <td>6.705</td>\n",
       "      <td>2.955</td>\n",
       "      <td>43.805</td>\n",
       "      <td>0.000</td>\n",
       "      <td>0.006</td>\n",
       "      <td>0.0</td>\n",
       "      <td>0.0</td>\n",
       "      <td>0.0</td>\n",
       "      <td>0.0</td>\n",
       "      <td>0.0</td>\n",
       "      <td>0.0</td>\n",
       "      <td>0.0</td>\n",
       "      <td>0.0</td>\n",
       "      <td>0.0</td>\n",
       "      <td>11271768.0</td>\n",
       "      <td>24224.0</td>\n",
       "      <td>656.520</td>\n",
       "      <td>0.950</td>\n",
       "      <td>42403.0</td>\n",
       "      <td>2.656</td>\n",
       "      <td>0.001</td>\n",
       "      <td>1000.0</td>\n",
       "      <td>156.47</td>\n",
       "      <td>4.121881e+07</td>\n",
       "      <td>428.843</td>\n",
       "      <td>170.9</td>\n",
       "      <td>48.759</td>\n",
       "      <td>29.938</td>\n",
       "      <td>102207.756</td>\n",
       "      <td>40.2</td>\n",
       "      <td>2774.775</td>\n",
       "      <td>106.52</td>\n",
       "      <td>64.3</td>\n",
       "      <td>151.8</td>\n",
       "      <td>143.601</td>\n",
       "      <td>12.850</td>\n",
       "      <td>514.84</td>\n",
       "      <td>4.998</td>\n",
       "    </tr>\n",
       "    <tr>\n",
       "      <th>South America</th>\n",
       "      <td>11130276.0</td>\n",
       "      <td>38304.0</td>\n",
       "      <td>56985.858</td>\n",
       "      <td>325365.0</td>\n",
       "      <td>841.0</td>\n",
       "      <td>1080.857</td>\n",
       "      <td>201350.050</td>\n",
       "      <td>663.864</td>\n",
       "      <td>901.853</td>\n",
       "      <td>6511.193</td>\n",
       "      <td>19.508</td>\n",
       "      <td>20.588</td>\n",
       "      <td>0.0</td>\n",
       "      <td>0.0</td>\n",
       "      <td>0.0</td>\n",
       "      <td>0.0</td>\n",
       "      <td>0.0</td>\n",
       "      <td>0.0</td>\n",
       "      <td>0.0</td>\n",
       "      <td>0.0</td>\n",
       "      <td>0.0</td>\n",
       "      <td>11453766.0</td>\n",
       "      <td>70717.0</td>\n",
       "      <td>537.951</td>\n",
       "      <td>3.715</td>\n",
       "      <td>74047.0</td>\n",
       "      <td>3.976</td>\n",
       "      <td>0.075</td>\n",
       "      <td>53.8</td>\n",
       "      <td>303.25</td>\n",
       "      <td>4.304576e+08</td>\n",
       "      <td>292.704</td>\n",
       "      <td>362.6</td>\n",
       "      <td>99.327</td>\n",
       "      <td>62.232</td>\n",
       "      <td>166089.423</td>\n",
       "      <td>25.8</td>\n",
       "      <td>2247.887</td>\n",
       "      <td>93.73</td>\n",
       "      <td>98.4</td>\n",
       "      <td>197.3</td>\n",
       "      <td>395.944</td>\n",
       "      <td>24.820</td>\n",
       "      <td>901.09</td>\n",
       "      <td>9.010</td>\n",
       "    </tr>\n",
       "  </tbody>\n",
       "</table>\n",
       "</div>"
      ],
      "text/plain": [
       "               total_cases  new_cases  ...  life_expectancy  human_development_index\n",
       "continent                              ...                                          \n",
       "Africa           2174098.0    10521.0  ...          3532.41                   28.827\n",
       "Asia            16749066.0   115440.0  ...          3421.19                   32.610\n",
       "Europe          17342381.0   164650.0  ...          3587.40                   36.338\n",
       "North America   15809571.0   177135.0  ...          1734.47                   17.163\n",
       "Oceania            30691.0       28.0  ...           514.84                    4.998\n",
       "South America   11130276.0    38304.0  ...           901.09                    9.010\n",
       "\n",
       "[6 rows x 45 columns]"
      ]
     },
     "execution_count": 63,
     "metadata": {
      "tags": []
     },
     "output_type": "execute_result"
    }
   ],
   "source": [
    "per_cont = datos_ayer.groupby('continent').sum()\n",
    "per_cont"
   ]
  },
  {
   "cell_type": "markdown",
   "metadata": {
    "id": "Mow5u6EFXjp3"
   },
   "source": [
    "Ya solo queda representar la gráfica de queso con el **plt.pie()**. Añadimos los colores, o con códigos que nos facilita el maplotlib, o si queremnos jugar con los colores podemos usar cualquier web que nos proporcione códigos RGB y pegarlo."
   ]
  },
  {
   "cell_type": "code",
   "execution_count": null,
   "metadata": {
    "executionInfo": {
     "elapsed": 12550,
     "status": "aborted",
     "timestamp": 1607804108439,
     "user": {
      "displayName": "Sergio Díaz González",
      "photoUrl": "https://lh3.googleusercontent.com/a-/AOh14GjH7Zktgr3uD34RSxgsa-w8hVqB4gj5e5lKtsu9=s64",
      "userId": "02816479088502848749"
     },
     "user_tz": 0
    },
    "id": "ZmMSLJajXjp3"
   },
   "outputs": [],
   "source": [
    "# Gráficas de queso\n",
    "import matplotlib.pyplot as plt\n",
    "import matplotlib as mpl\n",
    "mpl.rcParams['font.size'] = 30.0\n",
    "\n",
    "values = per_cont.total_cases\n",
    "colors = ['r', 'g', 'b', 'm', 'c','#B3AA19']\n",
    "labels = per_cont.index\n",
    "plt.pie(values, colors= colors, labels=labels)\n",
    "fig = plt.gcf()\n",
    "fig.set_size_inches(15,15) # Para cambiar el tamaño\n",
    "\n",
    "plt.title('Reparto de casos totales en el mundo')\n",
    "plt.show()\n",
    "fig.savefig(\"reparto_queso.png\") # Calidad resolucion"
   ]
  },
  {
   "cell_type": "markdown",
   "metadata": {
    "id": "HXNT_13rEj7d"
   },
   "source": [
    "### Ejercicio 4 \n",
    "\n",
    "Ahora hacer una gráfica de queso para los casos sólo de America del Sur."
   ]
  },
  {
   "cell_type": "code",
   "execution_count": 66,
   "metadata": {
    "colab": {
     "base_uri": "https://localhost:8080/",
     "height": 1000
    },
    "executionInfo": {
     "elapsed": 1263,
     "status": "ok",
     "timestamp": 1607804285102,
     "user": {
      "displayName": "Sergio Díaz González",
      "photoUrl": "https://lh3.googleusercontent.com/a-/AOh14GjH7Zktgr3uD34RSxgsa-w8hVqB4gj5e5lKtsu9=s64",
      "userId": "02816479088502848749"
     },
     "user_tz": 0
    },
    "id": "57GiuWf0eb7f",
    "outputId": "e87a7ab2-9a51-46a1-cfb7-25ac67dd46e0"
   },
   "outputs": [
    {
     "name": "stdout",
     "output_type": "stream",
     "text": [
      "      iso_code      continent  ... life_expectancy human_development_index\n",
      "1878       ARG  South America  ...           76.67                   0.825\n",
      "7201       BOL  South America  ...           71.51                   0.693\n",
      "7514       BRA  South America  ...           75.88                   0.759\n",
      "10018      CHL  South America  ...           80.18                   0.843\n",
      "11897      COL  South America  ...           77.29                   0.747\n",
      "15966      ECU  South America  ...           77.01                   0.752\n",
      "22539      GUY  South America  ...           69.91                   0.654\n",
      "42361      PER  South America  ...           76.74                   0.750\n",
      "43926      PRY  South America  ...           74.25                   0.702\n",
      "49562      SUR  South America  ...           71.68                   0.720\n",
      "55536      URY  South America  ...           77.91                   0.804\n",
      "57102      VEN  South America  ...           72.06                   0.761\n",
      "\n",
      "[12 rows x 50 columns]\n",
      "12\n"
     ]
    },
    {
     "data": {
      "image/png": "[encoded data removed]",
      "text/plain": [
       "<Figure size 1080x1080 with 1 Axes>"
      ]
     },
     "metadata": {
      "tags": []
     },
     "output_type": "display_data"
    }
   ],
   "source": [
    "# Resolver\n",
    "# Plantearnos como seleccionar países de Ámerica del Sur\n",
    "# Gráficas de queso\n",
    "import matplotlib.pyplot as plt\n",
    "import matplotlib as mpl\n",
    "mpl.rcParams['font.size'] = 30.0\n",
    "\n",
    "\n",
    "cond_dia = datos['date'].dt.day == 30\n",
    "cond_mes = datos['date'].dt.month == 11\n",
    "cond_año = datos['date'].dt.year == 2020\n",
    "datos_ayer = datos[(cond_dia) & (cond_mes) & (cond_año)]\n",
    "\n",
    "datos_sur = datos_ayer[datos_ayer['continent']=='South America']\n",
    "\n",
    "\n",
    "\n",
    "values = datos_sur.total_cases\n",
    "print(len(datos_sur.total_cases))\n",
    "colors = ['r', 'g', 'b', 'm', 'c','#B3AA19','r', 'g', 'b', 'm', 'c','#B3AA19']\n",
    "print(len(colors))\n",
    "\n",
    "labels = datos_sur['location']\n",
    "plt.pie(values, colors= colors, labels=labels)\n",
    "fig = plt.gcf()\n",
    "fig.set_size_inches(15,15) # Para cambiar el tamaño\n",
    "\n",
    "plt.title('Reparto de casos totales en sudámerica')\n",
    "plt.show()\n",
    "fig.savefig(\"reparto_queso.png\") # Calidad resolucion\n"
   ]
  },
  {
   "cell_type": "markdown",
   "metadata": {
    "id": "Y1Eo70MtXjp3"
   },
   "source": [
    "Ahora vamos a hacer más grande la representación y que sólo sea un anillo."
   ]
  },
  {
   "cell_type": "code",
   "execution_count": null,
   "metadata": {
    "executionInfo": {
     "elapsed": 12529,
     "status": "aborted",
     "timestamp": 1607804108441,
     "user": {
      "displayName": "Sergio Díaz González",
      "photoUrl": "https://lh3.googleusercontent.com/a-/AOh14GjH7Zktgr3uD34RSxgsa-w8hVqB4gj5e5lKtsu9=s64",
      "userId": "02816479088502848749"
     },
     "user_tz": 0
    },
    "id": "5K4IQ22-Xjp3"
   },
   "outputs": [],
   "source": [
    "# Gráficas de queso en forma de anillo\n",
    "import matplotlib.pyplot as plt\n",
    "import matplotlib as mpl\n",
    "mpl.rcParams['font.size'] = 30.0\n",
    "\n",
    "values = per_cont.total_cases\n",
    "colors = ['r', 'g', 'b', 'm', 'c','#B3AA19']\n",
    "labels = per_cont.index\n",
    "plt.pie(values, colors= colors, labels=labels)\n",
    "\n",
    "centre_circle = plt.Circle((0,0),0.70,fc='white') # Generamos un circulo blanco\n",
    "fig = plt.gcf()\n",
    "fig.set_size_inches(15,15) # Para cambiar el tamaño\n",
    "fig.gca().add_artist(centre_circle) # Introducimos el cícrulo en el medio\n",
    "\n",
    "\n",
    "plt.title('Reparto de casos totales en el mundo')\n",
    "plt.show()\n",
    "fig.savefig(\"reparto_anillo.png\") # Calidad resolucion"
   ]
  },
  {
   "cell_type": "markdown",
   "metadata": {
    "id": "H_Qd-yl86DF-"
   },
   "source": [
    "## Gráfica puntos"
   ]
  },
  {
   "cell_type": "markdown",
   "metadata": {
    "id": "LbVkPymlHJva"
   },
   "source": [
    "Lo mismo, pero ahora vamos a usar los datos en concreto de muertes por millon de habitantes y casos por millon de habitantes. Tener claro las columnas a buscar, acuérdense que para ello podemos imprimirlas."
   ]
  },
  {
   "cell_type": "code",
   "execution_count": null,
   "metadata": {
    "executionInfo": {
     "elapsed": 12519,
     "status": "aborted",
     "timestamp": 1607804108442,
     "user": {
      "displayName": "Sergio Díaz González",
      "photoUrl": "https://lh3.googleusercontent.com/a-/AOh14GjH7Zktgr3uD34RSxgsa-w8hVqB4gj5e5lKtsu9=s64",
      "userId": "02816479088502848749"
     },
     "user_tz": 0
    },
    "id": "fpXja8Zy6Nam"
   },
   "outputs": [],
   "source": [
    "datos_ayer.columns.values"
   ]
  },
  {
   "cell_type": "markdown",
   "metadata": {
    "id": "idHBVbYmepVW"
   },
   "source": [
    "Ahora vamos a seleccionar varios países como vimos anteriormente y, por ejemplo, el mes de octubre de 2020"
   ]
  },
  {
   "cell_type": "code",
   "execution_count": null,
   "metadata": {
    "executionInfo": {
     "elapsed": 12518,
     "status": "aborted",
     "timestamp": 1607804108443,
     "user": {
      "displayName": "Sergio Díaz González",
      "photoUrl": "https://lh3.googleusercontent.com/a-/AOh14GjH7Zktgr3uD34RSxgsa-w8hVqB4gj5e5lKtsu9=s64",
      "userId": "02816479088502848749"
     },
     "user_tz": 0
    },
    "id": "qv16yMHL-EcV"
   },
   "outputs": [],
   "source": [
    "cond_mes = datos['date'].dt.month == 10\n",
    "cond_año = datos['date'].dt.year == 2020\n",
    "datos_intervalo = datos[(cond_mes) & (cond_año)]\n",
    "\n",
    "datos_int_italia = datos_intervalo[datos_intervalo['location'] == 'Italy']\n",
    "datos_int_alemania = datos_intervalo[datos_intervalo['location'] == 'Germany']\n",
    "datos_int_francia = datos_intervalo[datos_intervalo['location'] == 'France']\n",
    "datos_int_reinoUnido = datos_intervalo[datos_intervalo['location'] == 'United Kingdom']\n",
    "datos_int_españa = datos_intervalo[datos_intervalo['location'] == 'Spain']\n"
   ]
  },
  {
   "cell_type": "markdown",
   "metadata": {
    "id": "eI-pbbriewO2"
   },
   "source": [
    "Generamos el código de igual forma que antes pero ahora vamos a usar el método **.scatter()** para las gráficas. Antes siempre hacíamos un **plt.plot()** por ejemplo, pero como ax es un objeto que sale del mismo padre tampoco pasa nada si donde añadimos los valores a la gráfica con **ax.scatter()**"
   ]
  },
  {
   "cell_type": "code",
   "execution_count": null,
   "metadata": {
    "executionInfo": {
     "elapsed": 12509,
     "status": "aborted",
     "timestamp": 1607804108444,
     "user": {
      "displayName": "Sergio Díaz González",
      "photoUrl": "https://lh3.googleusercontent.com/a-/AOh14GjH7Zktgr3uD34RSxgsa-w8hVqB4gj5e5lKtsu9=s64",
      "userId": "02816479088502848749"
     },
     "user_tz": 0
    },
    "id": "Th4hO0st7fM2"
   },
   "outputs": [],
   "source": [
    "# Librería matplotlib que vamos a utilizar para representar graficamente\n",
    "import matplotlib.pyplot as plt\n",
    "import matplotlib as mpl\n",
    "\n",
    "mpl.rcParams['font.size'] = 30.0\n",
    "\n",
    "\n",
    "cas_mill_es = datos_int_españa['total_cases_per_million']\n",
    "test_mil_es = datos_int_españa['total_deaths_per_million']\n",
    "\n",
    "cas_mill_uk = datos_int_reinoUnido['total_cases_per_million']\n",
    "test_mil_uk = datos_int_reinoUnido['total_deaths_per_million']\n",
    "\n",
    "cas_mill_it = datos_int_italia['total_cases_per_million']\n",
    "test_mil_it = datos_int_italia['total_deaths_per_million']\n",
    "\n",
    "cas_mill_ger = datos_int_alemania['total_cases_per_million']\n",
    "test_mil_ger = datos_int_alemania['total_deaths_per_million']\n",
    "\n",
    "cas_mill_fr = datos_int_francia['total_cases_per_million']\n",
    "test_mil_fr = datos_int_francia['total_deaths_per_million']\n",
    "\n",
    "\n",
    "fig = plt.figure()\n",
    "ax = fig.add_axes([1, 1, 2, 2]) # main axes\n",
    "\n",
    "ax.set_xlabel('Casos por millón') # nombre eje x \n",
    "ax.set_ylabel('Muertes por millón') # nombre eje y\n",
    "ax.set_title('Total casos por millon entre muertes por millon') # nombre gráfica\n",
    "\n",
    "\n",
    "ax.scatter(cas_mill_es, test_mil_es, lw=3,label = \"España\")\n",
    "ax.scatter(cas_mill_ger, test_mil_ger, lw=3,label = \"Alemania\")\n",
    "ax.scatter(cas_mill_it, test_mil_it, lw=3,label = \"Italia\")\n",
    "ax.scatter(cas_mill_fr, test_mil_fr, lw=3,label = \"Francia\")\n",
    "ax.scatter(cas_mill_uk, test_mil_uk, label = \"Reino Unido\")\n",
    "plt.legend()\n",
    "fig.savefig(\"muertes_casos.png\") # Calidad resolucion\n",
    "\n",
    "plt.show()\n"
   ]
  },
  {
   "cell_type": "markdown",
   "metadata": {
    "id": "5fjFNhNjFNNV"
   },
   "source": [
    "### Ejercicio 5 \n",
    "Queremos lo mismo pero queremos ver la evolución de casos totales con punto de junio, julio y agosto"
   ]
  },
  {
   "cell_type": "code",
   "execution_count": null,
   "metadata": {
    "executionInfo": {
     "elapsed": 12507,
     "status": "aborted",
     "timestamp": 1607804108445,
     "user": {
      "displayName": "Sergio Díaz González",
      "photoUrl": "https://lh3.googleusercontent.com/a-/AOh14GjH7Zktgr3uD34RSxgsa-w8hVqB4gj5e5lKtsu9=s64",
      "userId": "02816479088502848749"
     },
     "user_tz": 0
    },
    "id": "3LaWT9HYfbW_"
   },
   "outputs": [],
   "source": [
    "# Resolver"
   ]
  },
  {
   "cell_type": "markdown",
   "metadata": {
    "id": "JW3mol0KXn6g"
   },
   "source": [
    "## Plotly \n",
    "\n",
    "Ahora vamos a ver un ejemplo de una gráfica con Plotly para ver como funcionan. Recuerden que hay muchísimas librerías para la visualización de datos. Escoger una u otra ya es más decisión personal, en algunas sí encuentras diferencias, y sobre todo informarse, más porque lo que ahora mismo es lo mejor no signfica que sea mañana, y aunque las gráficas puedan ser más visuales luego entra la dificultad o no de programarlas, si la empresa continua desarrollando la librería sacando nuevas versiones mejorándola, etc., que te harán tomar una decisión.\n",
    "\n",
    "Plotly en este caso nos va a facilitar, por ejemplo, no tener que definir los tamaño, pues se ajusta automáticamente, e igualmente podemos manipularla. Vamos a graficar los datos totales que usamos antes, en este caso para España e Italia.\n",
    "\n",
    "Por un lado definimos los valores que vamos a mostrar con el **go.Scatter()**. Luego definimos la gráfica a usar dentro con el argumento *mode* que está en su interior. Si repetimos ese bloque, el de las trazas, podemos meter más países. Luego por ultimo en data, metemos cada traza en una lista que es lo que se pasará al **iplot()** que mostrará."
   ]
  },
  {
   "cell_type": "code",
   "execution_count": null,
   "metadata": {
    "executionInfo": {
     "elapsed": 12497,
     "status": "aborted",
     "timestamp": 1607804108446,
     "user": {
      "displayName": "Sergio Díaz González",
      "photoUrl": "https://lh3.googleusercontent.com/a-/AOh14GjH7Zktgr3uD34RSxgsa-w8hVqB4gj5e5lKtsu9=s64",
      "userId": "02816479088502848749"
     },
     "user_tz": 0
    },
    "id": "ndhEIPkYYTTd"
   },
   "outputs": [],
   "source": [
    "import plotly.graph_objs as go\n",
    "from plotly.offline import init_notebook_mode, iplot\n",
    "import plotly as ply\n",
    "from plotly import subplots\n",
    "\n",
    "\n",
    "datos_españa = datos[datos['location'] == 'Spain']\n",
    "datos_italia = datos[datos['location'] == 'Italy']\n",
    "datos_reinoUnido = datos[datos['location'] == 'United Kingdom']\n",
    "datos_francia = datos[datos['location'] == 'France']\n",
    "datos_dinamarca = datos[datos['location'] == 'Denmark']\n",
    "\n",
    "\n",
    "x_es = datos_españa['date']\n",
    "y_es = datos_españa['total_cases']\n",
    "\n",
    "x_it = datos_italia['date']\n",
    "y_it = datos_italia['total_cases']\n",
    "\n",
    "x_den = datos_dinamarca['date']\n",
    "y_den = datos_dinamarca['total_cases']\n",
    "\n",
    "\n",
    "\n",
    "# Create traces\n",
    "trace0 = go.Scatter(\n",
    "    x = x_es,\n",
    "    y = y_es,\n",
    "    mode = 'lines',\n",
    "    name = 'Total casos España'\n",
    ")\n",
    "trace1 = go.Scatter(\n",
    "    x = x_it,\n",
    "    y = y_it,\n",
    "    mode = 'lines',\n",
    "    name = 'Total casos Italia'\n",
    ")\n",
    "\n",
    "trace2 = go.Scatter(\n",
    "    x = x_den,\n",
    "    y = y_den,\n",
    "    mode = 'lines',\n",
    "    name = 'Total casos Dinamarca'\n",
    ")\n",
    "\n",
    "data = [trace0, trace1, trace2]\n",
    "\n",
    "iplot(data)"
   ]
  },
  {
   "cell_type": "markdown",
   "metadata": {
    "id": "Vm0EMKG1FZtT"
   },
   "source": [
    "### Ejercicio 6 \n",
    "Añadir a la esta gráfica que acabamos de ver Reino Unido, Francia, Alemnania, Dinamarca y Bélgica"
   ]
  },
  {
   "cell_type": "code",
   "execution_count": null,
   "metadata": {
    "executionInfo": {
     "elapsed": 12495,
     "status": "aborted",
     "timestamp": 1607804108447,
     "user": {
      "displayName": "Sergio Díaz González",
      "photoUrl": "https://lh3.googleusercontent.com/a-/AOh14GjH7Zktgr3uD34RSxgsa-w8hVqB4gj5e5lKtsu9=s64",
      "userId": "02816479088502848749"
     },
     "user_tz": 0
    },
    "id": "llDDDkJWf6Vl"
   },
   "outputs": [],
   "source": [
    "# Resolver"
   ]
  },
  {
   "cell_type": "markdown",
   "metadata": {
    "id": "bjUVTXTKYU3s"
   },
   "source": [
    "# Bot Telegram\n",
    "\n",
    "Ayer vimos que, como salida a este tipo de visualizaciones, se podía publicar gráficas en un cuadro de mando donde observar los resultados juntos para su análisis posterior.\n",
    "\n",
    "Esto va a compañador un planificador de tareas que va actualizando estas gráficas. Básicamente se trata de un servidor que programas para que ejecute tal script a una hora en concreto, de cada día, o cada semana o cada mes. Como ejemplo sin entrar mucho en detalle porque no nos da tiempo material de tirar por ahí **Airflow** ([pincha aquí](https://www.paradigmadigital.com/dev/apache-airflow/) si quieres saber más)."
   ]
  },
  {
   "cell_type": "markdown",
   "metadata": {
    "id": "SXmCEDnxZqBC"
   },
   "source": [
    "### ¿Qué es un bot?\n",
    "En pocas palabras, un bot (aféresis de robot) es un software que sirve para comunicarse con el usuario, imitando un comportamiento humano (aunque a veces sea el de un humano de pocas palabras). Estos programas funcionan dentro de otras aplicaciones y dan información y ayuda al usuario.\n",
    "\n",
    "![bot.jpg](https://drive.google.com/uc?export=view&id=1G5V10OkwPk-8ZV2tLx343ESezxsVFqGg)\n"
   ]
  },
  {
   "cell_type": "markdown",
   "metadata": {
    "id": "sILWcgGzPVjj"
   },
   "source": [
    "### ¿Qué es un bot de telegram?\n",
    "Los bots de Telegram son una serie de aplicaciones de terceros que se ejecutan dentro de la aplicación de mensajería. No necesitas instalarlos ni hacer nada diferente para poder utilizarlos, ya que se integran de manera que se utilizan como si fueran una persona real con la que interactúas. Son multiplataforma, y los puedes usar en la versión de Telegram del sistema operativo que quieras."
   ]
  },
  {
   "cell_type": "markdown",
   "metadata": {
    "id": "Rkf0UCDnPf9d"
   },
   "source": [
    "### Tutorial para hacer un bot en Telegram\n",
    "\n",
    "primeramente vamos a instalar la librería \"Telepot\" para comunicarnos con Telegram. Para ello debemos ejecutar la celda de abajo.\n",
    "\n",
    "Al poner una \"!\" en Colab es como si ejecutaramos una orden en una terminal. Si instalas algo tienes que darte cuenta que cuanto se desconecta el colab se borra la instancia que estabas usando. Cuando vuelvas a abrir el colab tendrás que volver a instalar la librería."
   ]
  },
  {
   "cell_type": "code",
   "execution_count": null,
   "metadata": {
    "executionInfo": {
     "elapsed": 12485,
     "status": "aborted",
     "timestamp": 1607804108448,
     "user": {
      "displayName": "Sergio Díaz González",
      "photoUrl": "https://lh3.googleusercontent.com/a-/AOh14GjH7Zktgr3uD34RSxgsa-w8hVqB4gj5e5lKtsu9=s64",
      "userId": "02816479088502848749"
     },
     "user_tz": 0
    },
    "id": "HB6zo_-uwOeh"
   },
   "outputs": [],
   "source": [
    "!pip install telepot"
   ]
  },
  {
   "cell_type": "markdown",
   "metadata": {
    "id": "caDToRpmfwTt"
   },
   "source": [
    "Abran Telegram. Usen el móvil mismo, pero para facilitar el copiar y pegar les recomendaría que usaran el https://web.telegram.org/\n",
    "\n",
    "Una vez en Telegram web, busquen en el buscado de contactos botFather y entren.\n",
    "\n",
    "![bot_in.jpg](https://drive.google.com/uc?export=view&id=1sEaauxcpbI_ojWUSEa4E3ZClqsjysQt9)\n",
    "\n",
    "Sí, un bot para crear bots. Qué redundante.... \n",
    "\n",
    "![señor_meeseeks.jpg](https://drive.google.com/uc?export=view&id=19lKf9I9btX_0U1DvOW4rQSSRCUqpU8Zf)\n",
    "\n",
    "A continuación le escriben para empezar comunicación.\n",
    "\n",
    "    /start\n",
    "![bot_1.jpg](https://drive.google.com/uc?export=view&id=1o6fm64mC8d-ImsBSm5aj33N3eCnyoKPA)\n",
    "\n",
    "Te dirá que opciones que tienes. Nosotros queremos crear un nuevo bot\n",
    "\n",
    "    /newbot\n",
    "![bot_2.jpg](https://drive.google.com/uc?export=view&id=1bYCBAxct9tA5CHkms2O7RAD7xlbg8swy)\n",
    "\n",
    "Te contestará que le digas como quieres llamar al Bot en sí que te conteste y luego que le pongas un nick al bot que acabas de crear. Atiendan a lo que les dice, el nick tiene que acabar en _bot o Bot.\n",
    "\n",
    "![bot_3.jpg](https://drive.google.com/uc?export=view&id=1eCgipyWGhlNBYo-aU_Aq0KZDd6dyu288)\n",
    "\n",
    "¡Felicidades! Ya tienes tu primer bot de Telegram. Pincha en el enlace al principio para poder hablar con tu bot y además copia el Token, que lo tendrás que pegar en una celda a continuación para poder programarlo.\n",
    "\n",
    "![bot_4.jpg](https://drive.google.com/uc?export=view&id=1vaP-0o3a1nu0foyJ4CtqnQo6f5gVs5Vb)\n",
    "\n",
    "\n"
   ]
  },
  {
   "cell_type": "markdown",
   "metadata": {
    "id": "l0dfPa4PvK6M"
   },
   "source": [
    "Hagan todos los pasos anteriores e introduzcan el token generado, que es lo que va a usar el programa para comunicarse con el Bot \n",
    "\n",
    "¡NO USEN EL MÍO!"
   ]
  },
  {
   "cell_type": "code",
   "execution_count": null,
   "metadata": {
    "executionInfo": {
     "elapsed": 12484,
     "status": "aborted",
     "timestamp": 1607804108449,
     "user": {
      "displayName": "Sergio Díaz González",
      "photoUrl": "https://lh3.googleusercontent.com/a-/AOh14GjH7Zktgr3uD34RSxgsa-w8hVqB4gj5e5lKtsu9=s64",
      "userId": "02816479088502848749"
     },
     "user_tz": 0
    },
    "id": "Ta-nufhmR5b_"
   },
   "outputs": [],
   "source": [
    "# TOKEN = \"1288760533:AAGCJFSYp9b4WjHdFflj4LyZCfYtGIx93eY\" # Este es el mío. No usar\n",
    "TOKEN = \"1422900203:AAEIfBx9k1oUJUxERFDHbgyPOHpB-dS2LvA\" # Peguen el suyo aquí"
   ]
  },
  {
   "cell_type": "markdown",
   "metadata": {
    "id": "Gd2VUcxf1GTY"
   },
   "source": [
    "Bien, ya sín más preámbulos vamos a escribir el bot. En este caso escribiremos un bot que sólo lea el último mensaje que le hemos escrito y lo imprima por aquí cada vez que lo ejecutemos.\n",
    "\n",
    "Vamos a usar funciones que aglutinen el código. Importante al principio inicializar el telepot y pasarle nuestro token para que esté conectado con **telepot.Bot(TOKEN)**\n",
    "\n",
    "Cada función está comentada lo que hace"
   ]
  },
  {
   "cell_type": "code",
   "execution_count": null,
   "metadata": {
    "executionInfo": {
     "elapsed": 12475,
     "status": "aborted",
     "timestamp": 1607804108450,
     "user": {
      "displayName": "Sergio Díaz González",
      "photoUrl": "https://lh3.googleusercontent.com/a-/AOh14GjH7Zktgr3uD34RSxgsa-w8hVqB4gj5e5lKtsu9=s64",
      "userId": "02816479088502848749"
     },
     "user_tz": 0
    },
    "id": "-zDQ4-a6sL_b"
   },
   "outputs": [],
   "source": [
    "\"\"\"\n",
    "    Ejemplo 1 - Leer mensajes que se le envían al bot\n",
    "\"\"\"\n",
    " \n",
    "#Importar librerias\n",
    "import telepot \n",
    " \n",
    "# Creamos el objeto telepot \n",
    "bot = telepot.Bot(TOKEN)\n",
    "\n",
    "def update():\n",
    "    '''\n",
    "      Llamar al metodo getUpdates del bot, utilizando un offset\n",
    "      :return: respuesta\n",
    "    '''\n",
    "    respuesta = bot.getUpdates(offset=0)\n",
    " \n",
    "    #Devolver este respuesta\n",
    "    return respuesta\n",
    " \n",
    " \n",
    "def leer_mensaje():\n",
    "    '''\n",
    "      Lee el mensaje que se le ha enviado al bot\n",
    "    '''\n",
    "    # Obtnemos el último mensaje nada más\n",
    "    mensaje = update()[-1]\n",
    "    #Extraer el texto, nombre de la persona e id del último mensaje recibido\n",
    "    #Recoger la info del mensaje (remitente, id del chat e id del mensaje)\n",
    "    texto = mensaje[\"message\"][\"text\"]\n",
    "\n",
    "    #Devolver toda la informacion\n",
    "    return texto\n",
    " \n",
    "#Llamar a la funcion \"leer_mensaje()\"\n",
    "texto = leer_mensaje()\n",
    "\n",
    "print('Texto', texto)"
   ]
  },
  {
   "cell_type": "markdown",
   "metadata": {
    "id": "Uy5gkC8N1cHO"
   },
   "source": [
    "Ahora, no sólo vamos a leer sino que además vamos a contestar. En concreto a hola y adiós. Añadimos la función enviar mensaje, que va a ejecutar la línea **bot.sendMessage(idchat, texto)** que envía el texto que queramos al chat que hemos creado. "
   ]
  },
  {
   "cell_type": "code",
   "execution_count": null,
   "metadata": {
    "executionInfo": {
     "elapsed": 12473,
     "status": "aborted",
     "timestamp": 1607804108451,
     "user": {
      "displayName": "Sergio Díaz González",
      "photoUrl": "https://lh3.googleusercontent.com/a-/AOh14GjH7Zktgr3uD34RSxgsa-w8hVqB4gj5e5lKtsu9=s64",
      "userId": "02816479088502848749"
     },
     "user_tz": 0
    },
    "id": "jNQEeFvZo4bx"
   },
   "outputs": [],
   "source": [
    "\"\"\"\n",
    "    Ejemplo 2 - Leer mensajes y responer\n",
    "\"\"\"\n",
    " \n",
    "#Importar librerias\n",
    "import json\n",
    "\n",
    "# Creamos el objeto telepot \n",
    "bot = telepot.Bot(TOKEN) \n",
    " \n",
    "def update(offset):\n",
    "    '''\n",
    "      Llamar al metodo getUpdates del bot, utilizando un offset\n",
    "      :param offset: Esto indica el primer mensaje que quieres recibir\n",
    "      :return: respuesta\n",
    "    '''\n",
    "    respuesta = bot.getUpdates(offset=offset)\n",
    " \n",
    "    #Devolver este respuesta\n",
    "    return respuesta\n",
    " \n",
    " \n",
    "def leer_mensaje():\n",
    "    '''\n",
    "      Lee el mensaje que se le ha enviado al bot\n",
    "      :return id_chat: Id del chat\n",
    "      :return persona: nombre\n",
    "    '''\n",
    "    # Obtnemos el último mensaje\n",
    "    mensaje = update(0)[-1]\n",
    "    #Extraer el texto, nombre de la persona e id del último mensaje recibido\n",
    "    #Recoger la info del mensaje (remitente, id del chat e id del mensaje)\n",
    "    texto = mensaje[\"message\"][\"text\"]\n",
    "    persona = mensaje[\"message\"][\"from\"][\"first_name\"]\n",
    "    id_chat = mensaje[\"message\"][\"chat\"][\"id\"]\n",
    "\n",
    "    #Devolver toda la informacion\n",
    "    return texto, id_chat, persona\n",
    " \n",
    "def enviar_mensaje(idchat, texto):\n",
    "    '''\n",
    "      Llamar el metodo sendMessage del bot, \n",
    "      passando foto, el texto y la id del chat\n",
    "      :param idchat: el id del chat, número\n",
    "      :param texto: el texto a enviar\n",
    "    '''\n",
    "    bot.sendMessage(idchat, texto)\n",
    " \n",
    "#Llamar a la funcion \"leer_mensaje()\"\n",
    "texto, idchat, nombre = leer_mensaje()\n",
    "\n",
    "#Generar una respuesta a partir de la informacion del mensaje\n",
    "if \"hola\" in texto.lower():\n",
    "    texto_respuesta = \"¡Buenas \" + nombre + \"!\"\n",
    "    enviar_mensaje(idchat, texto_respuesta)\n",
    "elif (\"adios\" in texto.lower()\n",
    "      or \"adiós\" in texto.lower()):\n",
    "    texto_respuesta = \"Hasta pronto\"\n",
    "    enviar_mensaje(idchat, texto_respuesta)"
   ]
  },
  {
   "cell_type": "markdown",
   "metadata": {
    "id": "guSEGsJ_pcSi"
   },
   "source": [
    "Bien, pues ahora nos venimos arriba y vamos a programar un poco más complejo.\n",
    "\n",
    "Primeramente queremos que esto este todo esperando que le preguntemos, así que vamos a programar un bucle **while** que siempre se va a mantener. Habría más formas, pero está es la más sencilla para el tutorial.\n",
    "\n",
    "Para no estar enviando una petición en cada bucle, sino esperar a que haya algún mensaje nuevo le indicamos el offset y el timeout. Al hacer una conexión con el servidor, si no hay mensajes disponibles, la conexión se mantendrá hasta que llegue alguno (o hasta que se agote el tiempo de espera).\n",
    "\n",
    "Hemos añadido un \"info mensaje\" para saber ciertos datos del mensaje, cosa que antes hacíamos en el propio leer, pero que divido para que se vea más claro.\n",
    "\n",
    "\"responder texto\" coge lo que antes hacíamos por libre y lo mejora con un mensaje para diferentes tipos y enviando la gráfica, sí, las que construimos antes, que le pidamos."
   ]
  },
  {
   "cell_type": "code",
   "execution_count": null,
   "metadata": {
    "executionInfo": {
     "elapsed": 12471,
     "status": "aborted",
     "timestamp": 1607804108452,
     "user": {
      "displayName": "Sergio Díaz González",
      "photoUrl": "https://lh3.googleusercontent.com/a-/AOh14GjH7Zktgr3uD34RSxgsa-w8hVqB4gj5e5lKtsu9=s64",
      "userId": "02816479088502848749"
     },
     "user_tz": 0
    },
    "id": "2opnGo7qRxpo"
   },
   "outputs": [],
   "source": [
    "\"\"\"\n",
    "    Ejemplo 3. Bot desarrollado\n",
    "    Te contesta dependiendo del tipo de mensajes que le mandes y además\n",
    "    te muestra gráficas si se lo pides\n",
    "\"\"\"\n",
    " \n",
    "#Importar librerias\n",
    "import json\n",
    "import telepot\n",
    "\n",
    "#Variables para el Token y la URL del chatbot\n",
    "\n",
    "# Creamos el objeto telepot \n",
    "bot = telepot.Bot(TOKEN)\n",
    "\n",
    " \n",
    "def update(offset):\n",
    "    '''\n",
    "      Llamar al metodo getUpdates del bot, utilizando un offset\n",
    "      :param offset: Esto indica el primer mensaje que quieres recibir\n",
    "      :return: respuesta\n",
    "    '''\n",
    "    respuesta = bot.getUpdates(offset=offset, timeout=100)\n",
    " \n",
    "    #Devolver este respuesta\n",
    "    return respuesta\n",
    " \n",
    "\n",
    "def info_mensaje(mensaje):\n",
    "    '''\n",
    "      Analizar el mensaje y devolver datos\n",
    "      :param mensaje: el mensaje json que nos devuelve Telegram \n",
    "      :return tipo: Tipo de mensaje \n",
    "      :return id_chat: Id del chat\n",
    "      :return persona: nombre\n",
    "      :return id_update: El id del update \n",
    "    '''\n",
    "\n",
    "    #Comprobar el tipo de mensaje\n",
    "    if \"text\" in mensaje[\"message\"]:\n",
    "        tipo = \"texto\"\n",
    "    elif \"sticker\" in mensaje[\"message\"]:\n",
    "        tipo = \"sticker\"\n",
    "    elif \"animation\" in mensaje[\"message\"]:\n",
    "        tipo = \"animacion\" #Nota: los GIF cuentan como animaciones\n",
    "    elif \"photo\" in mensaje[\"message\"]:\n",
    "        tipo = \"foto\"\n",
    "    else:\n",
    "        # Para no hacer mas largo este ejemplo, el resto de tipos entran\n",
    "        # en la categoria \"otro\"\n",
    "        tipo = \"otro\"\n",
    "\n",
    "    #Recoger la info del mensaje (remitente, id del chat e id del mensaje)\n",
    "    persona = mensaje[\"message\"][\"from\"][\"first_name\"]\n",
    "    id_chat = mensaje[\"message\"][\"chat\"][\"id\"]\n",
    "    id_update = mensaje[\"update_id\"]\n",
    "\n",
    "    #Devolver toda la informacion\n",
    "    return tipo, id_chat, persona, id_update\n",
    "\n",
    "\n",
    "def leer_mensaje(mensaje):\n",
    "    '''\n",
    "      Lee el mensaje que se le ha enviado al bot\n",
    "      :param mensaje: En formato json\n",
    "      :return texto: Lo que se escribio en string\n",
    "    '''\n",
    "    #Extraer el texto, nombre de la persona e id del último mensaje recibido\n",
    "    texto = mensaje[\"message\"][\"text\"]\n",
    " \n",
    "    #Devolver las dos id, el nombre y el texto del mensaje\n",
    "    return texto\n",
    "\n",
    "def responder_texto(texto):\n",
    "    '''\n",
    "      Depende del tipo de texto se le responde una cosa u otra\n",
    "      :param texto: Un string\n",
    "      :return texto_respuesta: Lo que se le va a decir\n",
    "      :return imagen: Si se le adjunta imagen. Puede que no haya\n",
    "    '''\n",
    "    if \"hola\" in texto.lower():\n",
    "        texto_respuesta = \"Buenas, \" + nombre\n",
    "    elif (\"adios\" in texto.lower() \n",
    "          or \"adiós\" in texto.lower()):\n",
    "        texto_respuesta = \"Hasta pronto\"\n",
    "    elif \"buuum\" in texto.lower():\n",
    "        texto_respuesta = \"Menudo leñazo\"\n",
    "    elif (\"cómo estás\" in texto.lower()\n",
    "          or \"como estas\" in texto.lower()\n",
    "          or \"qué tal\" in texto.lower()\n",
    "          or \"que tal\" in texto.lower()):\n",
    "        texto_respuesta = \"Soy un bot bro, no tengo sentimientos jajaja\"\n",
    "    else:\n",
    "        texto_respuesta = \"Me has dicho: \\\"\" + texto + \"\\\"\"\n",
    "\n",
    "    if \"por continentes anillo\" in texto.lower():\n",
    "        imagen = \"reparto_anillo.png\"\n",
    "    elif \"por continentes queso\" in texto.lower():\n",
    "        imagen = \"reparto_queso.png\"\n",
    "    elif \"nuevos casos\" in texto.lower():\n",
    "        imagen = \"nuevos_casos_barra.png\"\n",
    "    elif (\"total casos por paises\" in texto.lower() \n",
    "        or \"total casos por países\" in texto.lower()):\n",
    "        imagen = \"total_paises.png\"\n",
    "    elif \"total casos españa\" in texto.lower():\n",
    "        imagen = \"total_es_3.png\"\n",
    "    elif \"muertes por casos\" in texto.lower():\n",
    "        imagen = \"muertes_casos.png\"\n",
    "    else:\n",
    "        imagen = ''\n",
    "\n",
    "    return texto_respuesta, imagen\n",
    "\n",
    "def enviar_mensaje(idchat, texto, imagen=''):\n",
    "    '''\n",
    "      Llamar el metodo sendMessage del bot, \n",
    "      passando foto, el texto y la id del chat\n",
    "      :param idchat: el id del chat, número\n",
    "      :param texto: el texto a enviar\n",
    "      :param imagen: la imagen a enviar. No tiene por qué haber\n",
    "    '''\n",
    "    bot.sendMessage(idchat, texto)\n",
    "    # Por si no se ha cargado una gráfica o se ha reiniciado y no se han\n",
    "    # ejecutado todos los bloques hacemos un try-except. \n",
    "    # En vez de saltar el error si no existe la 'imagen.png'\n",
    "    # continua el programa\n",
    "    try:\n",
    "      if imagen:\n",
    "        bot.sendPhoto(idchat, photo=open(imagen, \"rb\"))\n",
    "    except:\n",
    "      pass\n",
    "\n",
    "#Variable para almacenar la ID del ultimo mensaje procesado\n",
    "ultima_id = 0\n",
    "\n",
    "# Bucle para mantener el proceso constante \n",
    "while(True):\n",
    "    respuesta = update(ultima_id)\n",
    "    for i in respuesta:\n",
    " \n",
    "        #Guardar la informacion del mensaje\n",
    "        tipo, idchat, nombre, id_update = info_mensaje(i)\n",
    "  \n",
    "        #Generar una respuesta dependiendo del tipo de mensaje\n",
    "        if tipo == \"texto\":\n",
    "            texto = leer_mensaje(i)\n",
    "            texto_respuesta, imagen = responder_texto(texto)\n",
    "        elif tipo == \"sticker\":\n",
    "            texto_respuesta = \"jajajajaja\"\n",
    "        elif tipo == \"animacion\":\n",
    "            texto_respuesta = \"Me encanta\"\n",
    "        elif tipo == \"foto\":\n",
    "            texto_respuesta = \"Preciosa la foto\"\n",
    "        elif tipo == \"otro\":\n",
    "            texto_respuesta = \"Ni idea lo que me has mandado en verdad\"\n",
    " \n",
    "        # Si la ID del mensaje es mayor que el ultimo, se guarda la ID + 1\n",
    "        # Necesario para que cada vez no vaya a responder a todos los mensajes\n",
    "        if id_update > (ultima_id-1):\n",
    "            ultima_id = id_update + 1\n",
    " \n",
    "        #Enviar la respuesta\n",
    "        enviar_mensaje(idchat, texto_respuesta, imagen)\n",
    " "
   ]
  },
  {
   "cell_type": "markdown",
   "metadata": {
    "id": "3PS8RzMeFrdo"
   },
   "source": [
    "### Ejercicio 7\n",
    "Añadir más frases:\n",
    "\n",
    "- Que te conteste \"Buenos días\" si tu le dices buenos días\n",
    "- Que al decirle \"Hasta luego\" también te diga adiós "
   ]
  },
  {
   "cell_type": "markdown",
   "metadata": {
    "id": "Lcx4iUFa3W8c"
   },
   "source": [
    ""
   ]
  },
  {
   "cell_type": "code",
   "execution_count": null,
   "metadata": {
    "executionInfo": {
     "elapsed": 12470,
     "status": "aborted",
     "timestamp": 1607804108453,
     "user": {
      "displayName": "Sergio Díaz González",
      "photoUrl": "https://lh3.googleusercontent.com/a-/AOh14GjH7Zktgr3uD34RSxgsa-w8hVqB4gj5e5lKtsu9=s64",
      "userId": "02816479088502848749"
     },
     "user_tz": 0
    },
    "id": "QjLFkWM1RyGe"
   },
   "outputs": [],
   "source": [
    "## Resolver"
   ]
  },
  {
   "cell_type": "markdown",
   "metadata": {
    "id": "p7rYw1jd3cPG"
   },
   "source": [
    "Y aquí acabamos nuestro primer bot que envía gráficas que le preguntemos.\n",
    "\n",
    "![bojack.gif](https://drive.google.com/uc?export=view&id=1VV8W1TpdR8fcuV8aUSIQ3qr6oekWEMmi)\n",
    "\n"
   ]
  }
 ],
 "metadata": {
  "colab": {
   "collapsed_sections": [],
   "name": "curso día 4.ipynb",
   "provenance": []
  },
  "kernelspec": {
   "display_name": "Python 3",
   "language": "python",
   "name": "python3"
  },
  "language_info": {
   "codemirror_mode": {
    "name": "ipython",
    "version": 3
   },
   "file_extension": ".py",
   "mimetype": "text/x-python",
   "name": "python",
   "nbconvert_exporter": "python",
   "pygments_lexer": "ipython3",
   "version": "3.7.7"
  }
 },
 "nbformat": 4,
 "nbformat_minor": 0
}
