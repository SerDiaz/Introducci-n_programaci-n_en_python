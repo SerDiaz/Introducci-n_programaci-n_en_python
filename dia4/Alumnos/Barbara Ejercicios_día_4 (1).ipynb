{
 "cells": [
  {
   "cell_type": "markdown",
   "metadata": {
    "id": "WeM0PkYZODIG"
   },
   "source": [
    "# Ejercicios teóricos\n",
    "######**Nombre:** Bárbara María Cabrera Castro\n",
    "######**Correo:** barbara.cabcas@gmail.com"
   ]
  },
  {
   "cell_type": "markdown",
   "metadata": {
    "id": "Y3HSpGNaOKRf"
   },
   "source": [
    "### Ejercicio 1\n",
    "¿Qué consigues con groupby?"
   ]
  },
  {
   "cell_type": "markdown",
   "metadata": {
    "id": "jpJXnz9k0F-J"
   },
   "source": [
    "Se utiliza para reducir las agrupaciones y simplificarlas en otros más pequeños, por ejemplo, obtener el dato más importante de cada mes en vez de poner todos los datos de todos los meses."
   ]
  },
  {
   "cell_type": "markdown",
   "metadata": {
    "id": "kwB7-WahOZ5-"
   },
   "source": [
    "### Ejercicio 2\n",
    "¿Por qué es importante una buena visualizción?"
   ]
  },
  {
   "cell_type": "markdown",
   "metadata": {
    "id": "jCsQX4FH0SAg"
   },
   "source": [
    "Es una manera de simplificar grandes cantidades de datos para un análisis más rápido y eficiente."
   ]
  },
  {
   "cell_type": "markdown",
   "metadata": {
    "id": "Y-MEscewOc5U"
   },
   "source": [
    "### Ejercicio 3\n",
    "¿Con qué línea de código muestro una gráfica de barras? ¿Y una de queso?"
   ]
  },
  {
   "cell_type": "code",
   "execution_count": null,
   "metadata": {
    "id": "-r0dTPH201Vy"
   },
   "outputs": [],
   "source": [
    "#Una vez importadas las librerías matplotlib.pyplot y matplotlib\n",
    "#Barras\n",
    "plt.bar()\n",
    "#Queso\n",
    "plt.pie()"
   ]
  },
  {
   "cell_type": "markdown",
   "metadata": {
    "id": "FuFmEMWlOmS8"
   },
   "source": [
    "### Ejercicio 4\n",
    "¿Cómo hacer un bot de Telegram? Haz una lista de pasos generales, no quiero que me hables de código. "
   ]
  },
  {
   "cell_type": "markdown",
   "metadata": {
    "id": "0W-JSTX01nvO"
   },
   "source": [
    "Una vez tienes telegram descargado:\n",
    "\n",
    "1º Utilizar botfather para crear un bot pasándole los parámetros de nombre y usuario\n",
    "\n",
    "2º Obtendremos un token con el que modificar el código para que haga lo que esperemos.\n",
    "\n",
    "3º Lo demás ya es todo código"
   ]
  },
  {
   "cell_type": "markdown",
   "metadata": {
    "id": "OaIm3geEOIKB"
   },
   "source": [
    "\n",
    "# Ejercicios prácticos"
   ]
  },
  {
   "cell_type": "markdown",
   "metadata": {
    "id": "B_PH-GrvKRLl"
   },
   "source": [
    "### Ejercicio 8 del día 3\n",
    "\n",
    "Agrupa por media por year, month y esta vez también day. Una vez hecho eso muestra la media de generación eólica para el día 3 de junio de 2015"
   ]
  },
  {
   "cell_type": "code",
   "execution_count": null,
   "metadata": {
    "id": "_JyNSre3KPVZ"
   },
   "outputs": [],
   "source": [
    "## Resolver\n",
    "#Agrupamos\n",
    "media_año_mes_dia = datos.groupby(['month','year','day'], as_index=False).mean()\n",
    "\n",
    "# Sólo datos eólicos\n",
    "media_eol = media_año_mes.loc[:,['eol', 'year', 'month', 'day']]\n",
    "\n",
    "media_eol[(media_eol['day'] == 3) & (media_eol['month'] == 6) & (media_eol['year'] == 2015)]"
   ]
  },
  {
   "cell_type": "markdown",
   "metadata": {
    "id": "aaMDajsvGqer"
   },
   "source": [
    "### Ejercicio 1 \n",
    "Visualizar la evolución no de los casos totales sino de los casos nuevos de España mediante un gráfico de líneas."
   ]
  },
  {
   "cell_type": "code",
   "execution_count": null,
   "metadata": {
    "id": "Z7RjWl2_Gjwj"
   },
   "outputs": [],
   "source": [
    "## Resolver\n",
    "datos_españa = datos[datos['location'] == 'Spain']\n",
    "\n",
    "import matplotlib.pyplot as plt\n",
    "import matplotlib as mpl\n",
    "\n",
    "mpl.rcParams['font.size'] = 30.0\n",
    "\n",
    "x = datos_españa['date']\n",
    "y = datos_españa['new_cases']\n",
    "\n",
    "fig = plt.figure(figsize=(12,14))\n",
    "ax = fig.add_axes([.1, .1, 0.8, 0.8]) # main axes\n",
    "\n",
    "ax.set_xlabel('Fechas') # nombre eje x \n",
    "ax.set_ylabel('Cantidad de casos') # nombre eje y\n",
    "ax.set_title('Nuevos casos') # nombre gráfica\n",
    "\n",
    "ax.set_xticklabels(['feb','mar','abr','may','jun',\n",
    "                    'jul','ago','sep','oct','nov', 'dic'])\n",
    "\n",
    "ax.set_yticks([0,500000,1000000,1500000, 2000000])\n",
    "ax.set_yticklabels(['0','500 mil','1 mill', '1.5 mill', '2 mill'])\n",
    "\n",
    "plt.plot(x, y)\n",
    "plt.show()"
   ]
  },
  {
   "cell_type": "markdown",
   "metadata": {
    "id": "ScdG224XGrA9"
   },
   "source": [
    "### Ejercicio 2 \n",
    "Ahora hacer lo mismo pero para los casos nuevos y no los totales, con todos los países"
   ]
  },
  {
   "cell_type": "code",
   "execution_count": null,
   "metadata": {
    "id": "oHH6gfYyGjyy"
   },
   "outputs": [],
   "source": [
    "## Resolver\n",
    "import matplotlib.pyplot as plt\n",
    "import matplotlib as mpl\n",
    "\n",
    "mpl.rcParams['font.size'] = 30.0\n",
    "#suponiendo que tenemos definidos todos los datos_pais\n",
    "x_es = datos_españa['date']\n",
    "x_it = datos_italia['date']\n",
    "x_ger = datos_alemania['date']\n",
    "x_fr = datos_francia['date']\n",
    "x_uk = datos_reinoUnido['date']\n",
    "\n",
    "y_es = datos_españa['new_cases']\n",
    "y_it = datos_italia['new_cases']\n",
    "y_ger = datos_alemania['new_cases']\n",
    "y_fr = datos_francia['new_cases']\n",
    "y_uk = datos_reinoUnido['new_cases']\n",
    "\n",
    "fig = plt.figure(figsize=(12,14))\n",
    "ax = fig.add_axes([.1, .1, 0.8, 0.8]) # main axes\n",
    "\n",
    "ax.set_xlabel('Fechas') # nombre eje x \n",
    "ax.set_ylabel('Cantidad de casos') # nombre eje y\n",
    "ax.set_title('Nuevos casos') # nombre gráfica\n",
    "\n",
    "ax.set_xticklabels(['feb','mar','abr','may','jun',\n",
    "                    'jul','ago','sep','oct','nov', 'dic'])\n",
    "\n",
    "ax.set_yticks([0,500000,1000000,1500000, 2000000])\n",
    "ax.set_yticklabels(['0','500 mil','1 mill', '1.5 mill', '2 mill'])\n",
    "\n",
    "plt.plot(x_es, y_es, lw=3,label = \"España\")\n",
    "plt.plot(x_ger, y_ger, lw=3,label = \"Alemania\")\n",
    "plt.plot(x_it, y_it, lw=3,label = \"Italia\")\n",
    "plt.plot(x_fr, y_fr, lw=3,label = \"Francia\")\n",
    "plt.plot(x_uk, y_uk, lw=3,label = \"Reino Unido\")\n",
    "plt.legend()\n",
    "\n",
    "plt.show()"
   ]
  },
  {
   "cell_type": "markdown",
   "metadata": {
    "id": "xrJNSZabGrjD"
   },
   "source": [
    "### Ejercicio 3\n",
    "Ahora hacer lo mismo pero para los casos nuevos con una gráfica de barras pero con Estados Unidos en vez de España"
   ]
  },
  {
   "cell_type": "code",
   "execution_count": null,
   "metadata": {
    "id": "hZc7rfhHGj1N"
   },
   "outputs": [],
   "source": [
    "## Resolver\n",
    "datos_EEUU = datos[datos['location'] == 'United States']\n",
    "\n",
    "import matplotlib.pyplot as plt\n",
    "import matplotlib as mpl\n",
    "\n",
    "mpl.rcParams['font.size'] = 30.0\n",
    "\n",
    "x = datos_EEUU['date']\n",
    "y = datos_EEUU['new_cases']\n",
    "\n",
    "fig = plt.figure()\n",
    "ax = fig.add_axes([1, 1, 2, 2]) # main axes\n",
    "\n",
    "ax.set_xlabel('Cantidad') # nombre eje x \n",
    "ax.set_ylabel('Frecuencia') # nombre eje y\n",
    "ax.set_title('Frecuencia de nuevos casos en España') # nombre gráfica\n",
    "\n",
    "ax.set_xticklabels(['feb','mar','abr','may','jun',\n",
    "                    'jul','ago','sep','oct','nov', 'dic'])\n",
    "\n",
    "plt.bar(x, y)\n",
    "plt.show()"
   ]
  },
  {
   "cell_type": "markdown",
   "metadata": {
    "id": "dd06A6QwGsHK"
   },
   "source": [
    "### Ejercicio 4 \n",
    "\n",
    "Ahora hacer una gráfica de queso para los casos totales sólo de America del Sur."
   ]
  },
  {
   "cell_type": "code",
   "execution_count": null,
   "metadata": {
    "id": "k2L4ktHGGj3J"
   },
   "outputs": [],
   "source": [
    "## Resolver\n",
    "import matplotlib.pyplot as plt\n",
    "import matplotlib as mpl\n",
    "mpl.rcParams['font.size'] = 30.0\n",
    "\n",
    "\n",
    "cond_dia = datos['date'].dt.day == 30\n",
    "cond_mes = datos['date'].dt.month == 11\n",
    "cond_año = datos['date'].dt.year == 2020\n",
    "datos_ayer = datos[(cond_dia) & (cond_mes) & (cond_año)]\n",
    "\n",
    "datos_sur = datos_ayer[datos_ayer['continent']=='South America']\n",
    "\n",
    "values = datos_sur.total_cases\n",
    "print(len(datos_sur.total_cases))\n",
    "colors = ['r', 'g', 'b', 'm', 'c','#B3AA19','r', 'g', 'b', 'm', 'c','#B3AA19']\n",
    "print(len(colors))\n",
    "\n",
    "labels = datos_sur['location']\n",
    "plt.pie(values, colors= colors, labels=labels)\n",
    "fig = plt.gcf()\n",
    "fig.set_size_inches(15,15) # Para cambiar el tamaño\n",
    "\n",
    "plt.title('Reparto de casos totales en sudámerica')\n",
    "plt.show()\n",
    "fig.savefig(\"reparto_queso.png\") # Calidad resolucion"
   ]
  },
  {
   "cell_type": "markdown",
   "metadata": {
    "id": "F_z6r9RmGslY"
   },
   "source": [
    "### Ejercicio 5\n",
    "Queremos lo mismo de la gráfica de puntos que vimos pero queremos ver la evolución de casos totales con puntos de junio, julio y agosto"
   ]
  },
  {
   "cell_type": "code",
   "execution_count": null,
   "metadata": {
    "id": "6BcaJLsAGj7o"
   },
   "outputs": [],
   "source": [
    "## Resolver\n",
    "datos_intervalo = datos['date'].dt.month == [6, 7, 8]\n",
    "#datos_intervalo = datos[(cond_mes) & (cond_año)]\n",
    "\n",
    "datos_int_italia = datos_intervalo[datos_intervalo['location'] == 'Italy']\n",
    "datos_int_alemania = datos_intervalo[datos_intervalo['location'] == 'Germany']\n",
    "datos_int_francia = datos_intervalo[datos_intervalo['location'] == 'France']\n",
    "datos_int_reinoUnido = datos_intervalo[datos_intervalo['location'] == 'United Kingdom']\n",
    "datos_int_españa = datos_intervalo[datos_intervalo['location'] == 'Spain']\n",
    "\n",
    "import matplotlib.pyplot as plt\n",
    "import matplotlib as mpl\n",
    "\n",
    "mpl.rcParams['font.size'] = 30.0\n",
    "\n",
    "\n",
    "cas_mill_es = datos_int_españa['total_cases_per_million']\n",
    "test_mil_es = datos_int_españa['total_deaths_per_million']\n",
    "\n",
    "cas_mill_uk = datos_int_reinoUnido['total_cases_per_million']\n",
    "test_mil_uk = datos_int_reinoUnido['total_deaths_per_million']\n",
    "\n",
    "cas_mill_it = datos_int_italia['total_cases_per_million']\n",
    "test_mil_it = datos_int_italia['total_deaths_per_million']\n",
    "\n",
    "cas_mill_ger = datos_int_alemania['total_cases_per_million']\n",
    "test_mil_ger = datos_int_alemania['total_deaths_per_million']\n",
    "\n",
    "cas_mill_fr = datos_int_francia['total_cases_per_million']\n",
    "test_mil_fr = datos_int_francia['total_deaths_per_million']\n",
    "\n",
    "\n",
    "fig = plt.figure()\n",
    "ax = fig.add_axes([1, 1, 2, 2]) # main axes\n",
    "\n",
    "ax.set_xlabel('Casos por millón') # nombre eje x \n",
    "ax.set_ylabel('Muertes por millón') # nombre eje y\n",
    "ax.set_title('Total casos por millon entre muertes por millon') # nombre gráfica\n",
    "\n",
    "\n",
    "ax.scatter(cas_mill_es, test_mil_es, lw=3,label = \"España\")\n",
    "ax.scatter(cas_mill_ger, test_mil_ger, lw=3,label = \"Alemania\")\n",
    "ax.scatter(cas_mill_it, test_mil_it, lw=3,label = \"Italia\")\n",
    "ax.scatter(cas_mill_fr, test_mil_fr, lw=3,label = \"Francia\")\n",
    "ax.scatter(cas_mill_uk, test_mil_uk, label = \"Reino Unido\")\n",
    "plt.legend()\n",
    "fig.savefig(\"muertes_casos.png\") # Calidad resolucion\n",
    "\n",
    "plt.show()\n"
   ]
  },
  {
   "cell_type": "markdown",
   "metadata": {
    "id": "SAaQ9YLBGtBf"
   },
   "source": [
    "### Ejercicio 6 \n",
    "Añadir a la esta gráfica que acabamos de ver de Plotly: Reino Unido, Francia, Alemnania, Dinamarca y Bélgica"
   ]
  },
  {
   "cell_type": "code",
   "execution_count": null,
   "metadata": {
    "id": "Oyxqvg7zGj-N"
   },
   "outputs": [],
   "source": [
    "## Resolver\n",
    "import plotly.graph_objs as go\n",
    "from plotly.offline import init_notebook_mode, iplot\n",
    "import plotly as ply\n",
    "from plotly import subplots\n",
    "\n",
    "\n",
    "datos_españa = datos[datos['location'] == 'Spain']\n",
    "datos_italia = datos[datos['location'] == 'Italy']\n",
    "datos_reinoUnido = datos[datos['location'] == 'United Kingdom']\n",
    "datos_francia = datos[datos['location'] == 'France']\n",
    "datos_dinamarca = datos[datos['location'] == 'Denmark']\n",
    "datos_alemania = datos[datos['location'] == 'Germany']\n",
    "datos_belgica = datos[datos['location'] == 'Belgium']\n",
    "\n",
    "x_es = datos_españa['date']\n",
    "y_es = datos_españa['total_cases']\n",
    "\n",
    "x_it = datos_italia['date']\n",
    "y_it = datos_italia['total_cases']\n",
    "\n",
    "x_den = datos_dinamarca['date']\n",
    "y_den = datos_dinamarca['total_cases']\n",
    "\n",
    "x_uk = datos_reinoUnido['date']\n",
    "y_uk = datos_reinoUnido['total_cases']\n",
    "\n",
    "x_fr = datos_francia['date']\n",
    "y_fr = datos_francia['total_cases']\n",
    "\n",
    "x_ger = datos_alemania['date']\n",
    "y_ger = datos_alemania['total_cases']\n",
    "\n",
    "x_bel = datos_belgica['date']\n",
    "y_bel = datos_belgica['total_cases']\n",
    "\n",
    "# Create traces\n",
    "trace0 = go.Scatter(\n",
    "    x = x_es,\n",
    "    y = y_es,\n",
    "    mode = 'lines',\n",
    "    name = 'Total casos España'\n",
    ")\n",
    "trace1 = go.Scatter(\n",
    "    x = x_it,\n",
    "    y = y_it,\n",
    "    mode = 'lines',\n",
    "    name = 'Total casos Italia'\n",
    ")\n",
    "\n",
    "trace2 = go.Scatter(\n",
    "    x = x_den,\n",
    "    y = y_den,\n",
    "    mode = 'lines',\n",
    "    name = 'Total casos Dinamarca'\n",
    ")\n",
    "trace3 = go.Scatter(\n",
    "    x = x_uk,\n",
    "    y = y_uk,\n",
    "    mode = 'lines',\n",
    "    name = 'Total casos UK'\n",
    ")\n",
    "trace4 = go.Scatter(\n",
    "    x = x_fr,\n",
    "    y = y_fr,\n",
    "    mode = 'lines',\n",
    "    name = 'Total casos Francia'\n",
    ")\n",
    "trace5 = go.Scatter(\n",
    "    x = x_bel,\n",
    "    y = y_bel,\n",
    "    mode = 'lines',\n",
    "    name = 'Total casos Bélgica'\n",
    ")\n",
    "trace6 = go.Scatter(\n",
    "    x = x_ger,\n",
    "    y = y_ger,\n",
    "    mode = 'lines',\n",
    "    name = 'Total casos Germany'\n",
    ")\n",
    "\n",
    "data = [trace0, trace1, trace2, trace3, trace4, trace5, trace6]\n",
    "\n",
    "iplot(data)"
   ]
  }
 ],
 "metadata": {
  "colab": {
   "collapsed_sections": [],
   "name": "Ejercicios día 4.ipynb",
   "provenance": []
  },
  "kernelspec": {
   "display_name": "Python 3",
   "language": "python",
   "name": "python3"
  },
  "language_info": {
   "codemirror_mode": {
    "name": "ipython",
    "version": 3
   },
   "file_extension": ".py",
   "mimetype": "text/x-python",
   "name": "python",
   "nbconvert_exporter": "python",
   "pygments_lexer": "ipython3",
   "version": "3.7.7"
  }
 },
 "nbformat": 4,
 "nbformat_minor": 0
}
