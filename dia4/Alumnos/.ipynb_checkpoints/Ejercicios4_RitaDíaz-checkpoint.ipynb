{
 "cells": [
  {
   "cell_type": "markdown",
   "metadata": {
    "id": "bImmmn29oDV_"
   },
   "source": [
    "**Nombre:** Rita Díaz Santana\n",
    "\n",
    "**Tarea:** Ejercicios Día 4\n",
    "\n",
    "**Correo:** ritadiazsantana@gmail.com  o  alu0100993479@ull.edu.es "
   ]
  },
  {
   "cell_type": "markdown",
   "metadata": {
    "id": "WeM0PkYZODIG"
   },
   "source": [
    "# Ejercicios teóricos"
   ]
  },
  {
   "cell_type": "markdown",
   "metadata": {
    "id": "Y3HSpGNaOKRf"
   },
   "source": [
    "### Ejercicio 1\n",
    "¿Qué consigues con groupby?\n",
    "\n",
    "Simplificar agrupaciones para poder calcular y ver sus medias, máximos... facilmente. "
   ]
  },
  {
   "cell_type": "markdown",
   "metadata": {
    "id": "kwB7-WahOZ5-"
   },
   "source": [
    "### Ejercicio 2\n",
    "¿Por qué es importante una buena visualizción?\n",
    "\n",
    "Porque mediante la visualización de datos comunicamos información o ideas complejas de forma clara, precisa y eficiente, de forma que ayuda a los usuarios a analizar y razonar sobre datos y evidencias."
   ]
  },
  {
   "cell_type": "markdown",
   "metadata": {
    "id": "Y-MEscewOc5U"
   },
   "source": [
    "### Ejercicio 3\n",
    "¿Con qué línea de código muestro una gráfica de barras? ¿Y una de queso?\n",
    "\n",
    "Gráfica de barras: plt.bar()\n",
    "\n",
    "Gráfica de quedo: plt.pie()"
   ]
  },
  {
   "cell_type": "markdown",
   "metadata": {
    "id": "FuFmEMWlOmS8"
   },
   "source": [
    "### Ejercicio 4\n",
    "¿Cómo hacer un bot de Telegram? Haz una lista de pasos generales, no quiero que me hables de código. \n",
    "\n",
    "1. Abrimos Telegram.\n",
    "2. Buscamos en el buscador de contactos botFather y entramos.\n",
    "3. Le escribimos /start para empezar la comunicación.\n",
    "4. Le decimos que queremos crear un nuevo bot con /newbot .\n",
    "5. Ahora tenemos que decir primero el nombre que le queremos poner y después un nick. El nick debe terminar con _bot o Bot.\n",
    "6. Listo. Ya podemos hablar con nuestro bot abriendo el enlace que nos da. "
   ]
  },
  {
   "cell_type": "markdown",
   "metadata": {
    "id": "OaIm3geEOIKB"
   },
   "source": [
    "\n",
    "# Ejercicios prácticos"
   ]
  },
  {
   "cell_type": "markdown",
   "metadata": {
    "id": "B_PH-GrvKRLl"
   },
   "source": [
    "### Ejercicio 8 del día 3\n",
    "\n",
    "Agrupa por media por year, month y esta vez también day. Una vez hecho eso muestra la media de generación eólica para el día 3 de junio de 2015"
   ]
  },
  {
   "cell_type": "markdown",
   "metadata": {
    "id": "TJVSYgRSwU6-"
   },
   "source": [
    "Primera parte"
   ]
  },
  {
   "cell_type": "code",
   "execution_count": null,
   "metadata": {
    "id": "_JyNSre3KPVZ"
   },
   "outputs": [],
   "source": [
    "media_por_dia = datos.groupby('day').mean()\n",
    "media_por_mes = datos.groupby('month').mean()\n",
    "media_por_año = datos.groupby('year').mean()"
   ]
  },
  {
   "cell_type": "markdown",
   "metadata": {
    "id": "YjVm76qpwYZq"
   },
   "source": [
    "Segunda parte"
   ]
  },
  {
   "cell_type": "code",
   "execution_count": null,
   "metadata": {
    "id": "BIEVD0oswbXA"
   },
   "outputs": [],
   "source": [
    "x = datos[(datos['day'] == 3) & (datos['month'] == 6) & (datos['year'] == 2015)]\n",
    "media_3junio2015 = x['eol'].mean()\n",
    "media_3junio2015"
   ]
  },
  {
   "cell_type": "markdown",
   "metadata": {
    "id": "aaMDajsvGqer"
   },
   "source": [
    "### Ejercicio 1 \n",
    "Visualizar la evolución no de los casos totales sino de los casos nuevos de España mediante un gráfico de líneas."
   ]
  },
  {
   "cell_type": "code",
   "execution_count": null,
   "metadata": {
    "id": "Z7RjWl2_Gjwj"
   },
   "outputs": [],
   "source": [
    "## Resolver\n",
    "import matplotlib.pyplot as plt\n",
    "import matplotlib as mpl\n",
    "mpl.rcParams['font.size'] = 20.0\n",
    "\n",
    "x = datos_españa['date']\n",
    "y = datos_españa['new_cases']\n",
    "\n",
    "fig = plt.figure()\n",
    "ax = fig.add_axes([1, 1, 2, 2]) # main axes\n",
    "\n",
    "ax.set_xlabel('Fechas') # nombre eje x \n",
    "ax.set_ylabel('Cantidad de casos') # nombre eje y\n",
    "ax.set_title('Nuevos casos en España') # nombre gráfica\n",
    "\n",
    "ax.set_xticklabels(['feb','mar','abr','may','jun',\n",
    "                    'jul','ago','sep','oct','nov', 'dic'])\n",
    "\n",
    "ax.set_yticks([-10000,0,10000,20000,30000,40000,50000])\n",
    "ax.set_yticklabels(['-10 mil', '0', '10 mil', '20 mil ', '30 mil', '40 mil', '50 mil'])\n",
    "\n",
    "plt.plot(x, y, lw=3)\n",
    "plt.show()\n",
    "fig.savefig(\"total_es_mes.png\")"
   ]
  },
  {
   "cell_type": "markdown",
   "metadata": {
    "id": "ScdG224XGrA9"
   },
   "source": [
    "### Ejercicio 2 \n",
    "Ahora hacer lo mismo pero para los casos nuevos y no los totales, con todos los países"
   ]
  },
  {
   "cell_type": "code",
   "execution_count": null,
   "metadata": {
    "id": "oHH6gfYyGjyy"
   },
   "outputs": [],
   "source": [
    "## Resolver\n",
    "import matplotlib.pyplot as plt\n",
    "import matplotlib as mpl\n",
    "\n",
    "mpl.rcParams['font.size'] = 20.0\n",
    "\n",
    "x_es = datos_españa['date']\n",
    "x_it = datos_italia['date']\n",
    "x_ger = datos_alemania['date']\n",
    "x_fr = datos_francia['date']\n",
    "x_uk = datos_reinoUnido['date']\n",
    "\n",
    "y_es = datos_españa['new_cases']\n",
    "y_it = datos_italia['new_cases']\n",
    "y_ger = datos_alemania['new_cases']\n",
    "y_fr = datos_francia['new_cases']\n",
    "y_uk = datos_reinoUnido['new_cases']\n",
    "\n",
    "fig = plt.figure(figsize=(20,10))\n",
    "ax = fig.add_axes([0.4, 0.4, 0.8, 0.8]) # main axes\n",
    "\n",
    "ax.set_xlabel('Fechas') # nombre eje x \n",
    "ax.set_ylabel('Cantidad de casos') # nombre eje y\n",
    "ax.set_title('Nuevos casos') # nombre gráfica\n",
    "\n",
    "ax.set_xticklabels(['feb','mar','abr','may','jun',\n",
    "                    'jul','ago','sep','oct','nov', 'dic'])\n",
    "\n",
    "ax.set_yticks([-10000,0,20000,40000,60000,80000,100000,120000])\n",
    "ax.set_yticklabels(['-10 mil', '0', '20 mil', '40 mil', '60 mil', '80 mil', '100 mill', '120 mill'])\n",
    "\n",
    "plt.plot(x_es, y_es, lw=3,label = \"España\")\n",
    "plt.plot(x_ger, y_ger, lw=3,label = \"Alemania\")\n",
    "plt.plot(x_it, y_it, lw=3,label = \"Italia\")\n",
    "plt.plot(x_fr, y_fr, lw=3,label = \"Francia\")\n",
    "plt.plot(x_uk, y_uk, lw=3,label = \"Reino Unido\")\n",
    "plt.legend()\n",
    "\n",
    "plt.show()\n",
    "fig.savefig(\"total_paises.png\") # Calidad resolucion"
   ]
  },
  {
   "cell_type": "markdown",
   "metadata": {
    "id": "xrJNSZabGrjD"
   },
   "source": [
    "### Ejercicio 3\n",
    "Ahora hacer lo mismo pero para los casos nuevos con una gráfica de barras pero con Estados Unidos en vez de España"
   ]
  },
  {
   "cell_type": "code",
   "execution_count": null,
   "metadata": {
    "id": "hZc7rfhHGj1N"
   },
   "outputs": [],
   "source": [
    "## Resolver\n",
    "import matplotlib.pyplot as plt\n",
    "import matplotlib as mpl\n",
    "\n",
    "datos_estadosunidos = datos[datos['location'] == 'United States']\n",
    "\n",
    "condicion = datos_estadosunidos.new_cases < 0\n",
    "columna = \"new_cases\"\n",
    "valor_nuevo = 0\n",
    "\n",
    "datos_estadosunidos.loc[condicion, columna] = valor_nuevo\n",
    "\n",
    "mpl.rcParams['font.size'] = 20.0\n",
    "\n",
    "x = datos_estadosunidos['date']\n",
    "y = datos_estadosunidos['new_cases']\n",
    "\n",
    "fig = plt.figure(figsize=(18,20))\n",
    "ax = fig.add_axes([0.1, 0.1, 0.8, 0.8]) # main axes\n",
    "\n",
    "ax.set_xlabel('Cantidad') # nombre eje x \n",
    "ax.set_ylabel('Frecuencia') # nombre eje y\n",
    "ax.set_title('Frecuencia de nuevos casos en Estados Unidos') # nombre gráfica\n",
    "\n",
    "ax.set_xticklabels(['feb','mar','abr','may','jun',\n",
    "                    'jul','ago','sep','oct','nov', 'dic'])\n",
    "\n",
    "plt.bar(x, y)\n",
    "plt.show()\n",
    "fig.savefig(\"nuevos_casos_barra.png\")"
   ]
  },
  {
   "cell_type": "markdown",
   "metadata": {
    "id": "dd06A6QwGsHK"
   },
   "source": [
    "### Ejercicio 4 \n",
    "\n",
    "Ahora hacer una gráfica de queso para los casos totales sólo de America del Sur."
   ]
  },
  {
   "cell_type": "code",
   "execution_count": null,
   "metadata": {
    "id": "k2L4ktHGGj3J"
   },
   "outputs": [],
   "source": [
    "## Resolver\n",
    "datos_suramerica = datos[datos['continent'] == 'South America']\n",
    "\n",
    "cond_dia = datos_suramerica['date'].dt.day == 30\n",
    "cond_mes = datos_suramerica['date'].dt.month == 11\n",
    "cond_año = datos_suramerica['date'].dt.year == 2020\n",
    "datos_ayer = datos_suramerica[(cond_dia) & (cond_mes) & (cond_año)]\n",
    "datos_ayer['date']\n",
    "\n",
    "per_cont = datos_ayer.groupby('location').sum()\n",
    "per_cont\n",
    "\n",
    "import matplotlib.pyplot as plt\n",
    "import matplotlib as mpl\n",
    "mpl.rcParams['font.size'] = 20.0\n",
    "\n",
    "values = per_cont.total_cases\n",
    "colors = ['#FF0000', '#FFFF00', '#0000FF', '#00FF00', '#00FFFF', '#FF00FF', '#C0C0C0', '#000080', '#E9967A', '#FCB70C', '#808000', '#F34A9A']\n",
    "labels = per_cont.index\n",
    "plt.pie(values, colors=colors, labels=labels)\n",
    "fig = plt.gcf()\n",
    "fig.set_size_inches(20,20)\n",
    "\n",
    "plt.title('Reparto de casos totales en Sudamérica')\n",
    "plt.show()\n",
    "fig.savefig(\"reparto_queso.png\")"
   ]
  },
  {
   "cell_type": "markdown",
   "metadata": {
    "id": "F_z6r9RmGslY"
   },
   "source": [
    "### Ejercicio 5\n",
    "Queremos lo mismo de la gráfica de puntos que vimos pero queremos ver la evolución de casos totales con puntos de junio, julio y agosto"
   ]
  },
  {
   "cell_type": "code",
   "execution_count": null,
   "metadata": {
    "id": "6BcaJLsAGj7o"
   },
   "outputs": [],
   "source": [
    "## Resolver\n",
    "No entiendo lo que pide el ejercicio."
   ]
  },
  {
   "cell_type": "markdown",
   "metadata": {
    "id": "SAaQ9YLBGtBf"
   },
   "source": [
    "### Ejercicio 6 \n",
    "Añadir a la esta gráfica que acabamos de ver de Plotly: Reino Unido, Francia, Alemnania, Dinamarca y Bélgica"
   ]
  },
  {
   "cell_type": "code",
   "execution_count": null,
   "metadata": {
    "id": "Oyxqvg7zGj-N"
   },
   "outputs": [],
   "source": [
    "## Resolver\n",
    "import plotly.graph_objs as go\n",
    "from plotly.offline import init_notebook_mode, iplot\n",
    "import plotly as ply\n",
    "from plotly import subplots\n",
    "\n",
    "\n",
    "datos_españa = datos[datos['location'] == 'Spain']\n",
    "datos_italia = datos[datos['location'] == 'Italy']\n",
    "datos_reinoUnido = datos[datos['location'] == 'United Kingdom']\n",
    "datos_francia = datos[datos['location'] == 'France']\n",
    "datos_alemania = datos[datos['location'] == 'Germany']\n",
    "datos_dinamarca = datos[datos['location'] == 'Denmark']\n",
    "datos_belgica = datos[datos['location'] == 'Belgium']\n",
    "\n",
    "\n",
    "x_es = datos_españa['date']\n",
    "y_es = datos_españa['total_cases']\n",
    "\n",
    "x_it = datos_italia['date']\n",
    "y_it = datos_italia['total_cases']\n",
    "\n",
    "x_ru = datos_reinoUnido['date']\n",
    "y_ru = datos_reinoUnido['total_cases']\n",
    "\n",
    "x_fr = datos_francia['date']\n",
    "y_fr = datos_francia['total_cases']\n",
    "\n",
    "x_al = datos_alemania['date']\n",
    "y_al = datos_alemania['total_cases']\n",
    "\n",
    "x_den = datos_dinamarca['date']\n",
    "y_den = datos_dinamarca['total_cases']\n",
    "\n",
    "x_be = datos_belgica['date']\n",
    "y_be = datos_belgica['total_cases']\n",
    "\n",
    "\n",
    "\n",
    "# Create traces\n",
    "trace0 = go.Scatter(\n",
    "    x = x_es,\n",
    "    y = y_es,\n",
    "    mode = 'lines',\n",
    "    name = 'Total casos España'\n",
    ")\n",
    "\n",
    "trace1 = go.Scatter(\n",
    "    x = x_it,\n",
    "    y = y_it,\n",
    "    mode = 'lines',\n",
    "    name = 'Total casos Italia'\n",
    ")\n",
    "\n",
    "trace2 = go.Scatter(\n",
    "    x = x_ru,\n",
    "    y = y_ru,\n",
    "    mode = 'lines',\n",
    "    name = 'Total casos Reino Unido'\n",
    ")\n",
    "\n",
    "trace3 = go.Scatter(\n",
    "    x = x_fr,\n",
    "    y = y_fr,\n",
    "    mode = 'lines',\n",
    "    name = 'Total casos Francia'\n",
    ")\n",
    "\n",
    "trace4 = go.Scatter(\n",
    "    x = x_al,\n",
    "    y = y_al,\n",
    "    mode = 'lines',\n",
    "    name = 'Total casos Alemania'\n",
    ")\n",
    "\n",
    "trace5 = go.Scatter(\n",
    "    x = x_den,\n",
    "    y = y_den,\n",
    "    mode = 'lines',\n",
    "    name = 'Total casos Dinamarca'\n",
    ")\n",
    "\n",
    "trace6 = go.Scatter(\n",
    "    x = x_be,\n",
    "    y = y_be,\n",
    "    mode = 'lines',\n",
    "    name = 'Total casos Bélgica'\n",
    ")\n",
    "\n",
    "data = [trace0, trace1, trace2, trace3, trace4, trace5, trace6]\n",
    "\n",
    "iplot(data)"
   ]
  }
 ],
 "metadata": {
  "colab": {
   "collapsed_sections": [],
   "name": "Ejercicios4_RitaDíaz.ipynb",
   "provenance": []
  },
  "kernelspec": {
   "display_name": "Python 3",
   "language": "python",
   "name": "python3"
  },
  "language_info": {
   "codemirror_mode": {
    "name": "ipython",
    "version": 3
   },
   "file_extension": ".py",
   "mimetype": "text/x-python",
   "name": "python",
   "nbconvert_exporter": "python",
   "pygments_lexer": "ipython3",
   "version": "3.7.7"
  }
 },
 "nbformat": 4,
 "nbformat_minor": 0
}
