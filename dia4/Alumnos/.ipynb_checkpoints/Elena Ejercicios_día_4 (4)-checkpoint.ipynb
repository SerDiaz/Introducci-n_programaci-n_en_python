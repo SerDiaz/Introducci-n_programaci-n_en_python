{
 "cells": [
  {
   "cell_type": "markdown",
   "metadata": {
    "id": "NwDjqqtMVkde"
   },
   "source": [
    "# Nombre: Elena Navarro Plaza\n",
    "\n",
    "*Tarea: Ejercicios clase 4*"
   ]
  },
  {
   "cell_type": "markdown",
   "metadata": {
    "id": "WeM0PkYZODIG"
   },
   "source": [
    "# Ejercicios teóricos"
   ]
  },
  {
   "cell_type": "markdown",
   "metadata": {
    "id": "Y3HSpGNaOKRf"
   },
   "source": [
    "### Ejercicio 1\n",
    "¿Qué consigues con groupby?\n",
    "\n",
    "Agrupar los datos"
   ]
  },
  {
   "cell_type": "markdown",
   "metadata": {
    "id": "kwB7-WahOZ5-"
   },
   "source": [
    "### Ejercicio 2\n",
    "¿Por qué es importante una buena visualizción?\n",
    "\n",
    "Es importante para poder comunicar información de una forma presentable, clara y eficiente, ayudando a los usuarios a analizar los datos y sacar conclusiones sobre ellos."
   ]
  },
  {
   "cell_type": "markdown",
   "metadata": {
    "id": "Y-MEscewOc5U"
   },
   "source": [
    "### Ejercicio 3\n",
    "¿Con qué línea de código muestro una gráfica de barras? ¿Y una de queso?\n",
    "\n",
    "fig = plt.figure()\n",
    "ax = fig.add_axes([1, 1, 2, 2]) \n",
    "\n",
    "fig = plt.gcf()\n",
    "fig.set_size_inches(15,15)"
   ]
  },
  {
   "cell_type": "markdown",
   "metadata": {
    "id": "FuFmEMWlOmS8"
   },
   "source": [
    "### Ejercicio 4\n",
    "¿Cómo hacer un bot de Telegram? Haz una lista de pasos generales, no quiero que me hables de código. \n",
    "\n",
    "Importas la librería \"Telepot\" oara comunicarte con telegram. Una vez en telegram hablas con bot_Father para creae tu propio bot, y gracias al token que éste nos proporciona podemos usar el programa para comunicarnos con el bot y programarlo desde google colab con python"
   ]
  },
  {
   "cell_type": "markdown",
   "metadata": {
    "id": "OaIm3geEOIKB"
   },
   "source": [
    "\n",
    "# Ejercicios prácticos"
   ]
  },
  {
   "cell_type": "markdown",
   "metadata": {
    "id": "B_PH-GrvKRLl"
   },
   "source": [
    "### Ejercicio 8 del día 3\n",
    "\n",
    "Agrupa por media por year, month y esta vez también day. Una vez hecho eso muestra la media de generación eólica para el día 3 de junio de 2015"
   ]
  },
  {
   "cell_type": "code",
   "execution_count": null,
   "metadata": {
    "id": "_JyNSre3KPVZ"
   },
   "outputs": [],
   "source": [
    ""
   ]
  },
  {
   "cell_type": "markdown",
   "metadata": {
    "id": "aaMDajsvGqer"
   },
   "source": [
    "### Ejercicio 1 \n",
    "Visualizar la evolución no de los casos totales sino de los casos nuevos de España mediante un gráfico de líneas."
   ]
  },
  {
   "cell_type": "code",
   "execution_count": null,
   "metadata": {
    "id": "Z7RjWl2_Gjwj"
   },
   "outputs": [],
   "source": [
    "import matplotlib.pyplot as plt\n",
    "import matplotlib as mpl\n",
    "mpl.rcParams['font.size'] = 30.0\n",
    "\n",
    "x = datos_españa['date']\n",
    "y = datos_españa['new_cases']\n",
    "\n",
    "fig = plt.figure()\n",
    "ax = fig.add_axes([1, 1, 2, 2]) \n",
    "\n",
    "ax.set_xlabel('Fechas') \n",
    "ax.set_ylabel('Cantidad de casos') \n",
    "ax.set_title('Total de casos nuevos en España') \n",
    "\n",
    "ax.set_xticklabels(['feb','mar','abr','may','jun',\n",
    "                    'jul','ago','sep','oct','nov', 'dic'])\n",
    "\n",
    "ax.set_yticks([0,500000,1000000,1500000])\n",
    "ax.set_yticklabels(['0','500 mil','1 mill', '1.5 mill'])\n",
    "\n",
    "plt.plot(x, y, lw=3)\n",
    "plt.show()\n",
    "fig.savefig(\"total_es_mes.png\")"
   ]
  },
  {
   "cell_type": "markdown",
   "metadata": {
    "id": "ScdG224XGrA9"
   },
   "source": [
    "### Ejercicio 2 \n",
    "Ahora hacer lo mismo pero para los casos nuevos y no los totales, con todos los países"
   ]
  },
  {
   "cell_type": "code",
   "execution_count": null,
   "metadata": {
    "id": "oHH6gfYyGjyy"
   },
   "outputs": [],
   "source": [
    "import matplotlib.pyplot as plt\n",
    "import matplotlib as mpl\n",
    "\n",
    "mpl.rcParams['font.size'] = 30.0\n",
    "\n",
    "x_es = datos_españa['date']\n",
    "x_it = datos_italia['date']\n",
    "x_ger = datos_alemania['date']\n",
    "x_fr = datos_francia['date']\n",
    "x_uk = datos_reinoUnido['date']\n",
    "\n",
    "y_es = datos_españa['new_cases']\n",
    "y_it = datos_italia['new_cases']\n",
    "y_ger = datos_alemania['new_cases']\n",
    "y_fr = datos_francia['new_cases']\n",
    "y_uk = datos_reinoUnido['new_cases']\n",
    "\n",
    "fig = plt.figure()\n",
    "ax = fig.add_axes([1, 1, 2, 2]) \n",
    "\n",
    "ax.set_xlabel('Fechas')  \n",
    "ax.set_ylabel('Cantidad de casos nuevos') \n",
    "ax.set_title('Total de casos nuevos') \n",
    "\n",
    "ax.set_xticklabels(['feb','mar','abr','may','jun',\n",
    "                    'jul','ago','sep','oct','nov', 'dic'])\n",
    "\n",
    "ax.set_yticks([0,500000,1000000,1500000, 2000000])\n",
    "ax.set_yticklabels(['0','500 mil','1 mill', '1.5 mill', '2 mill'])\n",
    "\n",
    "plt.plot(x_es, y_es, lw=3,label = \"España\")\n",
    "plt.plot(x_ger, y_ger, lw=3,label = \"Alemania\")\n",
    "plt.plot(x_it, y_it, lw=3,label = \"Italia\")\n",
    "plt.plot(x_fr, y_fr, lw=3,label = \"Francia\")\n",
    "plt.plot(x_uk, y_uk, lw=3,label = \"Reino Unido\")\n",
    "plt.legend()\n",
    "\n",
    "plt.show()\n",
    "fig.savefig(\"total_paises.png\")"
   ]
  },
  {
   "cell_type": "markdown",
   "metadata": {
    "id": "xrJNSZabGrjD"
   },
   "source": [
    "### Ejercicio 3\n",
    "Ahora hacer lo mismo pero para los casos nuevos con una gráfica de barras pero con Estados Unidos en vez de España"
   ]
  },
  {
   "cell_type": "code",
   "execution_count": null,
   "metadata": {
    "id": "hZc7rfhHGj1N"
   },
   "outputs": [],
   "source": [
    "datos_estadosUnidos = datos[datos['location'] == 'United States']"
   ]
  },
  {
   "cell_type": "code",
   "execution_count": null,
   "metadata": {
    "id": "2fhcL_qnS8WB"
   },
   "outputs": [],
   "source": [
    "import matplotlib.pyplot as plt\n",
    "import matplotlib as mpl\n",
    "\n",
    "mpl.rcParams['font.size'] = 30.0\n",
    "\n",
    "x = datos_estadosUnidos['date']\n",
    "y = datos_estadosUnidos['new_cases']\n",
    "\n",
    "fig = plt.figure()\n",
    "ax = fig.add_axes([1, 1, 2, 2]) # main axes\n",
    "\n",
    "ax.set_xlabel('Cantidad') # nombre eje x \n",
    "ax.set_ylabel('Frecuencia') # nombre eje y\n",
    "ax.set_title('Frecuencia de nuevos casos en Estados Unidos') # nombre gráfica\n",
    "\n",
    "ax.set_xticklabels(['feb','mar','abr','may','jun',\n",
    "                    'jul','ago','sep','oct','nov', 'dic'])\n",
    "\n",
    "plt.bar(x, y)\n",
    "plt.show()\n",
    "fig.savefig(\"nuevos_casos_barra.png\")"
   ]
  },
  {
   "cell_type": "markdown",
   "metadata": {
    "id": "dd06A6QwGsHK"
   },
   "source": [
    "### Ejercicio 4 \n",
    "\n",
    "Ahora hacer una gráfica de queso para los casos totales sólo de America del Sur."
   ]
  },
  {
   "cell_type": "code",
   "execution_count": null,
   "metadata": {
    "id": "k2L4ktHGGj3J"
   },
   "outputs": [],
   "source": [
    "datos_sudamerica = datos[datos['continent'] == 'South America']"
   ]
  },
  {
   "cell_type": "code",
   "execution_count": null,
   "metadata": {
    "id": "6ZKiJ3iJTIua"
   },
   "outputs": [],
   "source": [
    "import matplotlib.pyplot as plt\n",
    "import matplotlib as mpl\n",
    "mpl.rcParams['font.size'] = 30.0\n",
    "\n",
    "cond_dia = datos['date'].dt.day == 30\n",
    "cond_mes = datos['date'].dt.month == 11\n",
    "cond_año = datos['date'].dt.year == 2020\n",
    "datos_ayer = datos[(cond_dia) & (cond_mes) & (cond_año)]\n",
    "datos_ayer['date']\n",
    "\n",
    "datos_sur = datos_ayer[datos_ayer['continent']=='South America']\n",
    "\n",
    "values = datos_sur.total_cases\n",
    "print(len(datos_sur.total_cases))\n",
    "colors = ['r', 'g', 'b', 'm', 'c','#B3AA19']\n",
    "print(len(colors))\n",
    "labels = datos_sur['location']\n",
    "plt.pie(values, colors= colors, labels=labels)\n",
    "\n",
    "\n",
    "fig = plt.gcf()\n",
    "fig.set_size_inches(15,15)\n",
    "\n",
    "\n",
    "\n",
    "plt.title('Reparto de casos totales en el mundo')\n",
    "plt.show()\n",
    "fig.savefig(\"reparto_anillo.png\") "
   ]
  },
  {
   "cell_type": "markdown",
   "metadata": {
    "id": "F_z6r9RmGslY"
   },
   "source": [
    "### Ejercicio 5\n",
    "Queremos lo mismo de la gráfica de puntos que vimos pero queremos ver la evolución de casos totales con puntos de junio, julio y agosto"
   ]
  },
  {
   "cell_type": "code",
   "execution_count": null,
   "metadata": {
    "id": "6BcaJLsAGj7o"
   },
   "outputs": [],
   "source": [
    "## Resolver"
   ]
  },
  {
   "cell_type": "markdown",
   "metadata": {
    "id": "SAaQ9YLBGtBf"
   },
   "source": [
    "### Ejercicio 6 \n",
    "Añadir a la esta gráfica que acabamos de ver de Plotly: Reino Unido, Francia, Alemnania, Dinamarca y Bélgica"
   ]
  },
  {
   "cell_type": "code",
   "execution_count": null,
   "metadata": {
    "id": "Oyxqvg7zGj-N"
   },
   "outputs": [],
   "source": [
    "import plotly.graph_objs as go\n",
    "from plotly.offline import init_notebook_mode, iplot\n",
    "import plotly as ply\n",
    "from plotly import subplots\n",
    "\n",
    "\n",
    "datos_españa = datos[datos['location'] == 'Spain']\n",
    "datos_italia = datos[datos['location'] == 'Italy']\n",
    "datos_reinoUnido = datos[datos['location'] == 'United Kingdom']\n",
    "datos_francia = datos[datos['location'] == 'France']\n",
    "datos_dinamarca = datos[datos['location'] == 'Denmark']\n",
    "\n",
    "x_es = datos_españa['date']\n",
    "y_es = datos_españa['total_cases']\n",
    "\n",
    "x_it = datos_italia['date']\n",
    "y_it = datos_italia['total_cases']\n",
    "trace0 = go.Scatter(\n",
    "    x = x_es,\n",
    "    y = y_es,\n",
    "    mode = 'lines',\n",
    "    name = 'Total casos España'\n",
    ")\n",
    "trace1 = go.Scatter(\n",
    "    x = x_it,\n",
    "    y = y_it,\n",
    "    mode = 'lines',\n",
    "    name = 'Total casos Italia'\n",
    ")\n",
    "x_uk = datos_reinoUnido['date']\n",
    "y_uk = datos_reinoUnido['total_cases']\n",
    "trace2 = go.Scatter(\n",
    "    x = x_uk,\n",
    "    y = y_uk,\n",
    "    mode = 'lines',\n",
    "    name = 'Total casos Reino Unido'\n",
    ")\n",
    "x_fr = datos_francia['date']\n",
    "y_fr = datos_francia['total_cases']\n",
    "trace3 = go.Scatter(\n",
    "    x = x_fr,\n",
    "    y = y_fr,\n",
    "    mode = 'lines',\n",
    "    name = 'Total casos Francia'\n",
    ")\n",
    "x_dk = datos_dinamarca['date']\n",
    "y_dk = datos_dinamarca['total_cases']\n",
    "trace4 = go.Scatter(\n",
    "    x = x_dk,\n",
    "    y = y_dk,\n",
    "    mode = 'lines',\n",
    "    name = 'Total casos Dinamarca'\n",
    ")\n",
    "\n",
    "data = [trace0, trace1, trace2, trace3, trace4]\n",
    "\n",
    "iplot(data)"
   ]
  }
 ],
 "metadata": {
  "colab": {
   "collapsed_sections": [],
   "name": "Ejercicios día 4.ipynb",
   "provenance": []
  },
  "kernelspec": {
   "display_name": "Python 3",
   "language": "python",
   "name": "python3"
  },
  "language_info": {
   "codemirror_mode": {
    "name": "ipython",
    "version": 3
   },
   "file_extension": ".py",
   "mimetype": "text/x-python",
   "name": "python",
   "nbconvert_exporter": "python",
   "pygments_lexer": "ipython3",
   "version": "3.7.7"
  }
 },
 "nbformat": 4,
 "nbformat_minor": 0
}
