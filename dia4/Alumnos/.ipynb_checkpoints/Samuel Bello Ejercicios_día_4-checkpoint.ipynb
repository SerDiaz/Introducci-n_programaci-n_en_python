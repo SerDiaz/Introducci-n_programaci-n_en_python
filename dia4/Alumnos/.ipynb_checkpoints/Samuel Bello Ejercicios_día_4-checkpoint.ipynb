{
 "cells": [
  {
   "cell_type": "markdown",
   "metadata": {
    "id": "WeM0PkYZODIG"
   },
   "source": [
    "# Ejercicios teóricos dia 4\r\n",
    "Samuel Bello Alonso\r\n",
    "samuelbelloalonso@gmail.com"
   ]
  },
  {
   "cell_type": "markdown",
   "metadata": {
    "id": "Y3HSpGNaOKRf"
   },
   "source": [
    "### Ejercicio 1\n",
    "¿Qué consigues con groupby?\n",
    "Agrupar los datos"
   ]
  },
  {
   "cell_type": "markdown",
   "metadata": {
    "id": "kwB7-WahOZ5-"
   },
   "source": [
    "### Ejercicio 2\n",
    "¿Por qué es importante una buena visualización?\n",
    "Para que sea más fácil analizar los datos."
   ]
  },
  {
   "cell_type": "markdown",
   "metadata": {
    "id": "Y-MEscewOc5U"
   },
   "source": [
    "### Ejercicio 3\n",
    "¿Con qué línea de código muestro una gráfica de barras? fig = plt.figure() ax = fig.add_axes([1, 1, 2, 2])¿Y una de queso? fig = plt.gcf() fig.set_size_inches(15,15)"
   ]
  },
  {
   "cell_type": "markdown",
   "metadata": {
    "id": "FuFmEMWlOmS8"
   },
   "source": [
    "### Ejercicio 4\n",
    "¿Cómo hacer un bot de Telegram? Haz una lista de pasos generales, no quiero que me hables de código. \n",
    "Importas la librería \"Telepot\" oara comunicarte con telegram. Una vez en telegram hablas con bot_Father para creae tu propio bot, y gracias al token que éste nos proporciona podemos usar el programa para comunicarnos con el bot y programarlo desde google colab con python."
   ]
  },
  {
   "cell_type": "markdown",
   "metadata": {
    "id": "OaIm3geEOIKB"
   },
   "source": [
    "\n",
    "# Ejercicios prácticos"
   ]
  },
  {
   "cell_type": "markdown",
   "metadata": {
    "id": "B_PH-GrvKRLl"
   },
   "source": [
    "### Ejercicio 8 del día 3\n",
    "\n",
    "Agrupa por media por year, month y esta vez también day. Una vez hecho eso muestra la media de generación eólica para el día 3 de junio de 2015"
   ]
  },
  {
   "cell_type": "code",
   "execution_count": null,
   "metadata": {
    "id": "_JyNSre3KPVZ"
   },
   "outputs": [],
   "source": [
    "## Resolver"
   ]
  },
  {
   "cell_type": "markdown",
   "metadata": {
    "id": "aaMDajsvGqer"
   },
   "source": [
    "### Ejercicio 1 \n",
    "Visualizar la evolución no de los casos totales sino de los casos nuevos de España mediante un gráfico de líneas."
   ]
  },
  {
   "cell_type": "code",
   "execution_count": null,
   "metadata": {
    "id": "Z7RjWl2_Gjwj"
   },
   "outputs": [],
   "source": [
    "## Resolver\r\n",
    "import matplotlib.pyplot as plt\r\n",
    "import matplotlib as mpl\r\n",
    "mpl.rcParams['font.size'] = 30.0\r\n",
    "\r\n",
    "x = datos_españa['date']\r\n",
    "y = datos_españa['new_cases']\r\n",
    "\r\n",
    "fig = plt.figure()\r\n",
    "ax = fig.add_axes([1, 1, 2, 2]) \r\n",
    "\r\n",
    "ax.set_xlabel('Fechas') \r\n",
    "ax.set_ylabel('Cantidad de casos') \r\n",
    "ax.set_title('Total de casos nuevos en España') \r\n",
    "\r\n",
    "ax.set_xticklabels(['feb','mar','abr','may','jun',\r\n",
    "                    'jul','ago','sep','oct','nov', 'dic'])\r\n",
    "\r\n",
    "ax.set_yticks([0,500000,1000000,1500000])\r\n",
    "ax.set_yticklabels(['0','500 mil','1 mill', '1.5 mill'])\r\n",
    "\r\n",
    "plt.plot(x, y, lw=3)\r\n",
    "plt.show()\r\n",
    "fig.savefig(\"total_es_mes.png\")"
   ]
  },
  {
   "cell_type": "markdown",
   "metadata": {
    "id": "ScdG224XGrA9"
   },
   "source": [
    "### Ejercicio 2 \n",
    "Ahora hacer lo mismo pero para los casos nuevos y no los totales, con todos los países"
   ]
  },
  {
   "cell_type": "code",
   "execution_count": null,
   "metadata": {
    "id": "oHH6gfYyGjyy"
   },
   "outputs": [],
   "source": [
    "## Resolver\r\n",
    "import matplotlib.pyplot as plt\r\n",
    "import matplotlib as mpl\r\n",
    "\r\n",
    "mpl.rcParams['font.size'] = 30.0\r\n",
    "\r\n",
    "x_es = datos_españa['date']\r\n",
    "x_it = datos_italia['date']\r\n",
    "x_ger = datos_alemania['date']\r\n",
    "x_fr = datos_francia['date']\r\n",
    "x_uk = datos_reinoUnido['date']\r\n",
    "\r\n",
    "y_es = datos_españa['new_cases']\r\n",
    "y_it = datos_italia['new_cases']\r\n",
    "y_ger = datos_alemania['new_cases']\r\n",
    "y_fr = datos_francia['new_cases']\r\n",
    "y_uk = datos_reinoUnido['new_cases']\r\n",
    "\r\n",
    "fig = plt.figure()\r\n",
    "ax = fig.add_axes([1, 1, 2, 2]) \r\n",
    "\r\n",
    "ax.set_xlabel('Fechas')  \r\n",
    "ax.set_ylabel('Cantidad de casos nuevos') \r\n",
    "ax.set_title('Total de casos nuevos') \r\n",
    "\r\n",
    "ax.set_xticklabels(['feb','mar','abr','may','jun',\r\n",
    "                    'jul','ago','sep','oct','nov', 'dic'])\r\n",
    "\r\n",
    "ax.set_yticks([0,500000,1000000,1500000, 2000000])\r\n",
    "ax.set_yticklabels(['0','500 mil','1 mill', '1.5 mill', '2 mill'])\r\n",
    "\r\n",
    "plt.plot(x_es, y_es, lw=3,label = \"España\")\r\n",
    "plt.plot(x_ger, y_ger, lw=3,label = \"Alemania\")\r\n",
    "plt.plot(x_it, y_it, lw=3,label = \"Italia\")\r\n",
    "plt.plot(x_fr, y_fr, lw=3,label = \"Francia\")\r\n",
    "plt.plot(x_uk, y_uk, lw=3,label = \"Reino Unido\")\r\n",
    "plt.legend()\r\n",
    "\r\n",
    "plt.show()\r\n",
    "fig.savefig(\"total_paises.png\")"
   ]
  },
  {
   "cell_type": "markdown",
   "metadata": {
    "id": "xrJNSZabGrjD"
   },
   "source": [
    "### Ejercicio 3\n",
    "Ahora hacer lo mismo pero para los casos nuevos con una gráfica de barras pero con Estados Unidos en vez de España"
   ]
  },
  {
   "cell_type": "code",
   "execution_count": null,
   "metadata": {
    "id": "hZc7rfhHGj1N"
   },
   "outputs": [],
   "source": [
    "## Resolver\r\n",
    "datos_estadosUnidos = datos[datos['location'] == 'United States']"
   ]
  },
  {
   "cell_type": "code",
   "execution_count": null,
   "metadata": {
    "id": "bs9oc4ZafE6r"
   },
   "outputs": [],
   "source": [
    "import matplotlib.pyplot as plt\r\n",
    "import matplotlib as mpl\r\n",
    "\r\n",
    "mpl.rcParams['font.size'] = 30.0\r\n",
    "\r\n",
    "x = datos_estadosUnidos['date']\r\n",
    "y = datos_estadosUnidos['new_cases']\r\n",
    "\r\n",
    "fig = plt.figure()\r\n",
    "ax = fig.add_axes([1, 1, 2, 2]) # main axes\r\n",
    "\r\n",
    "ax.set_xlabel('Cantidad') # nombre eje x \r\n",
    "ax.set_ylabel('Frecuencia') # nombre eje y\r\n",
    "ax.set_title('Frecuencia de nuevos casos en Estados Unidos') # nombre gráfica\r\n",
    "\r\n",
    "ax.set_xticklabels(['feb','mar','abr','may','jun',\r\n",
    "                    'jul','ago','sep','oct','nov', 'dic'])\r\n",
    "\r\n",
    "plt.bar(x, y)\r\n",
    "plt.show()\r\n",
    "fig.savefig(\"nuevos_casos_barra.png\")"
   ]
  },
  {
   "cell_type": "markdown",
   "metadata": {
    "id": "dd06A6QwGsHK"
   },
   "source": [
    "### Ejercicio 4 \n",
    "\n",
    "Ahora hacer una gráfica de queso para los casos totales sólo de America del Sur."
   ]
  },
  {
   "cell_type": "code",
   "execution_count": null,
   "metadata": {
    "id": "k2L4ktHGGj3J"
   },
   "outputs": [],
   "source": [
    "## Resolver\r\n",
    "datos_sudamerica = datos[datos['continent'] == 'South America']"
   ]
  },
  {
   "cell_type": "code",
   "execution_count": null,
   "metadata": {
    "id": "_Vo31f_8fMBi"
   },
   "outputs": [],
   "source": [
    "import matplotlib.pyplot as plt\r\n",
    "import matplotlib as mpl\r\n",
    "mpl.rcParams['font.size'] = 30.0\r\n",
    "\r\n",
    "cond_dia = datos['date'].dt.day == 30\r\n",
    "cond_mes = datos['date'].dt.month == 11\r\n",
    "cond_año = datos['date'].dt.year == 2020\r\n",
    "datos_ayer = datos[(cond_dia) & (cond_mes) & (cond_año)]\r\n",
    "datos_ayer['date']\r\n",
    "\r\n",
    "datos_sur = datos_ayer[datos_ayer['continent']=='South America']\r\n",
    "\r\n",
    "values = datos_sur.total_cases\r\n",
    "print(len(datos_sur.total_cases))\r\n",
    "colors = ['r', 'g', 'b', 'm', 'c','#B3AA19']\r\n",
    "print(len(colors))\r\n",
    "labels = datos_sur['location']\r\n",
    "plt.pie(values, colors= colors, labels=labels)\r\n",
    "\r\n",
    "\r\n",
    "fig = plt.gcf()\r\n",
    "fig.set_size_inches(15,15)\r\n",
    "\r\n",
    "\r\n",
    "\r\n",
    "plt.title('Reparto de casos totales en el mundo')\r\n",
    "plt.show()\r\n",
    "fig.savefig(\"reparto_anillo.png\") "
   ]
  },
  {
   "cell_type": "markdown",
   "metadata": {
    "id": "F_z6r9RmGslY"
   },
   "source": [
    "### Ejercicio 5\n",
    "Queremos lo mismo de la gráfica de puntos que vimos pero queremos ver la evolución de casos totales con puntos de junio, julio y agosto"
   ]
  },
  {
   "cell_type": "code",
   "execution_count": null,
   "metadata": {
    "id": "6BcaJLsAGj7o"
   },
   "outputs": [],
   "source": [
    "## Resolver"
   ]
  },
  {
   "cell_type": "markdown",
   "metadata": {
    "id": "SAaQ9YLBGtBf"
   },
   "source": [
    "### Ejercicio 6 \n",
    "Añadir a la esta gráfica que acabamos de ver de Plotly: Reino Unido, Francia, Alemnania, Dinamarca y Bélgica"
   ]
  },
  {
   "cell_type": "code",
   "execution_count": null,
   "metadata": {
    "id": "Oyxqvg7zGj-N"
   },
   "outputs": [],
   "source": [
    "## Resolver\r\n",
    "import plotly.graph_objs as go\r\n",
    "from plotly.offline import init_notebook_mode, iplot\r\n",
    "import plotly as ply\r\n",
    "from plotly import subplots\r\n",
    "\r\n",
    "\r\n",
    "datos_españa = datos[datos['location'] == 'Spain']\r\n",
    "datos_italia = datos[datos['location'] == 'Italy']\r\n",
    "datos_reinoUnido = datos[datos['location'] == 'United Kingdom']\r\n",
    "datos_francia = datos[datos['location'] == 'France']\r\n",
    "datos_dinamarca = datos[datos['location'] == 'Denmark']\r\n",
    "\r\n",
    "x_es = datos_españa['date']\r\n",
    "y_es = datos_españa['total_cases']"
   ]
  }
 ],
 "metadata": {
  "colab": {
   "collapsed_sections": [],
   "name": "Ejercicios día 4.ipynb",
   "provenance": []
  },
  "kernelspec": {
   "display_name": "Python 3",
   "language": "python",
   "name": "python3"
  },
  "language_info": {
   "codemirror_mode": {
    "name": "ipython",
    "version": 3
   },
   "file_extension": ".py",
   "mimetype": "text/x-python",
   "name": "python",
   "nbconvert_exporter": "python",
   "pygments_lexer": "ipython3",
   "version": "3.7.7"
  }
 },
 "nbformat": 4,
 "nbformat_minor": 0
}
