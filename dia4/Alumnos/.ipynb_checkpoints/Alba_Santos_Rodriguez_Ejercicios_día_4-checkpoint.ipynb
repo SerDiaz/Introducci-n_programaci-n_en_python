{
 "cells": [
  {
   "cell_type": "markdown",
   "metadata": {
    "id": "iDjZrEByQV8G"
   },
   "source": [
    "Alba Santos Rodríguez alu0100953657@ull.edu.es"
   ]
  },
  {
   "cell_type": "markdown",
   "metadata": {
    "id": "WeM0PkYZODIG"
   },
   "source": [
    "# Ejercicios teóricos"
   ]
  },
  {
   "cell_type": "markdown",
   "metadata": {
    "id": "Y3HSpGNaOKRf"
   },
   "source": [
    "### Ejercicio 1\n",
    "¿Qué consigues con groupby?\n",
    "\n",
    "\n",
    "Se usa para agrupar los datos de un data frame por la fila que queramos.\n",
    "\n"
   ]
  },
  {
   "cell_type": "markdown",
   "metadata": {
    "id": "kwB7-WahOZ5-"
   },
   "source": [
    "### Ejercicio 2\n",
    "¿Por qué es importante una buena visualizción?\n",
    "\n",
    "Porque facilita el análisis posterior de los datos"
   ]
  },
  {
   "cell_type": "markdown",
   "metadata": {
    "id": "Y-MEscewOc5U"
   },
   "source": [
    "### Ejercicio 3\n",
    "¿Con qué línea de código muestro una gráfica de barras? ¿Y una de queso?\n",
    "\n",
    "plt.bar()\n",
    "plt.pie()"
   ]
  },
  {
   "cell_type": "markdown",
   "metadata": {
    "id": "FuFmEMWlOmS8"
   },
   "source": [
    "### Ejercicio 4\n",
    "¿Cómo hacer un bot de Telegram? Haz una lista de pasos generales, no quiero que me hables de código. \n",
    "\n",
    "Primero instalamos Telegram y creamos una conversación con BotFather, donde escribimos \\start. A continuación le decimos que queremos crear un nuevo bot con \\newbot y le decimos el nombre y el nombre de usuario de nuestro bot. Y a partir de ahí podremos programarlo con el Token que nos da BotFather"
   ]
  },
  {
   "cell_type": "markdown",
   "metadata": {
    "id": "OaIm3geEOIKB"
   },
   "source": [
    "\n",
    "# Ejercicios prácticos"
   ]
  },
  {
   "cell_type": "markdown",
   "metadata": {
    "id": "B_PH-GrvKRLl"
   },
   "source": [
    "### Ejercicio 8 del día 3\n",
    "\n",
    "Agrupa por media por year, month y esta vez también day. Una vez hecho eso muestra la media de generación eólica para el día 3 de junio de 2015"
   ]
  },
  {
   "cell_type": "code",
   "execution_count": null,
   "metadata": {
    "id": "_JyNSre3KPVZ"
   },
   "outputs": [],
   "source": [
    "## Resolver \r\n",
    "\r\n",
    "media_por_año = datos.groupby('year').mean()\r\n",
    "media_por_mes = datos.groupby('month').mean()\r\n",
    "media_por_day = datos.groupby('day').mean()\r\n",
    "\r\n",
    "datos[(datos['day'] == 3)&(datos['month'] == 6)&(datos['year'] == 2015)].mean()\r\n"
   ]
  },
  {
   "cell_type": "markdown",
   "metadata": {
    "id": "aaMDajsvGqer"
   },
   "source": [
    "### Ejercicio 1 \n",
    "Visualizar la evolución no de los casos totales sino de los casos nuevos de España mediante un gráfico de líneas."
   ]
  },
  {
   "cell_type": "code",
   "execution_count": null,
   "metadata": {
    "id": "Z7RjWl2_Gjwj"
   },
   "outputs": [],
   "source": [
    "## Resolver\r\n",
    "\r\n",
    "\r\n",
    "import matplotlib.pyplot as plt\r\n",
    "import matplotlib as mpl\r\n",
    "\r\n",
    "mpl.rcParams['font.size'] = 15.0\r\n",
    "datos_españa = datos[datos['location'] == 'Spain']\r\n",
    "x = datos_españa['date']\r\n",
    "y = datos_españa['new_cases']\r\n",
    "\r\n",
    "fig = plt.figure()\r\n",
    "ax = fig.add_axes([1, 1, 2, 2]) # main axes\r\n",
    "\r\n",
    "ax.set_xlabel('Fechas') # nombre eje x \r\n",
    "ax.set_ylabel('Cantidad de casos') # nombre eje y\r\n",
    "ax.set_title('Nuevos casos en España') # nombre gráfica\r\n",
    "\r\n",
    "ax.set_yticks([0,500000,1000000,1500000])\r\n",
    "ax.set_yticklabels(['0','500 mil','1 mill', '1.5 mill'])\r\n",
    "\r\n",
    "plt.plot(x, y, lw=3)\r\n",
    "plt.show()"
   ]
  },
  {
   "cell_type": "markdown",
   "metadata": {
    "id": "ScdG224XGrA9"
   },
   "source": [
    "### Ejercicio 2 \n",
    "Ahora hacer lo mismo pero para los casos nuevos y no los totales, con todos los países"
   ]
  },
  {
   "cell_type": "code",
   "execution_count": null,
   "metadata": {
    "id": "oHH6gfYyGjyy"
   },
   "outputs": [],
   "source": [
    ""
   ]
  },
  {
   "cell_type": "markdown",
   "metadata": {
    "id": "xrJNSZabGrjD"
   },
   "source": [
    "### Ejercicio 3\n",
    "Ahora hacer lo mismo pero para los casos nuevos con una gráfica de barras pero con Estados Unidos en vez de España"
   ]
  },
  {
   "cell_type": "code",
   "execution_count": null,
   "metadata": {
    "id": "hZc7rfhHGj1N"
   },
   "outputs": [],
   "source": [
    "## Resolver\r\n",
    "\r\n",
    "import matplotlib.pyplot as plt\r\n",
    "import matplotlib as mpl\r\n",
    "\r\n",
    "mpl.rcParams['font.size'] = 30.0\r\n",
    "datos_estadosunidos = datos[datos['location'] == 'United States']\r\n",
    "x = datos_estadosunidos['date']\r\n",
    "y = datos_estadosunidos['new_cases']\r\n",
    "\r\n",
    "fig = plt.figure()\r\n",
    "ax = fig.add_axes([1, 1, 2, 2]) # main axes\r\n",
    "\r\n",
    "ax.set_xlabel('Cantidad') # nombre eje x \r\n",
    "ax.set_ylabel('Frecuencia') # nombre eje y\r\n",
    "ax.set_title('Frecuencia de nuevos casos en Estados Unidos') # nombre gráfica\r\n",
    "\r\n",
    "ax.set_xticklabels(['feb','mar','abr','may','jun',\r\n",
    "                    'jul','ago','sep','oct','nov', 'dic'])\r\n",
    "\r\n",
    "plt.bar(x, y)\r\n",
    "plt.show()"
   ]
  },
  {
   "cell_type": "markdown",
   "metadata": {
    "id": "dd06A6QwGsHK"
   },
   "source": [
    "### Ejercicio 4 \n",
    "\n",
    "Ahora hacer una gráfica de queso para los casos totales sólo de America del Sur."
   ]
  },
  {
   "cell_type": "code",
   "execution_count": null,
   "metadata": {
    "id": "k2L4ktHGGj3J"
   },
   "outputs": [],
   "source": [
    "## Resolver\r\n",
    "import matplotlib.pyplot as plt\r\n",
    "import matplotlib as mpl\r\n",
    "mpl.rcParams['font.size'] = 30.0\r\n",
    "\r\n",
    "\r\n",
    "datos_sur = datos[datos['continent']=='South America']\r\n",
    "\r\n",
    "\r\n",
    "\r\n",
    "values = datos_sur.total_cases\r\n",
    "print(len(datos_sur.total_cases))\r\n",
    "colors = ['r', 'g', 'b', 'm', 'c','#B3AA19','r', 'g', 'b', 'm', 'c','#B3AA19']\r\n",
    "print(len(colors))\r\n",
    "\r\n",
    "labels = datos_sur['location']\r\n",
    "plt.pie(values, colors= colors, labels=labels)\r\n",
    "fig = plt.gcf()\r\n",
    "fig.set_size_inches(15,15) # Para cambiar el tamaño\r\n",
    "\r\n",
    "plt.title('Reparto de casos totales en sudámerica')\r\n",
    "plt.show()\r\n",
    "fig.savefig(\"reparto_queso.png\") # Calidad resolucion\r\n"
   ]
  },
  {
   "cell_type": "markdown",
   "metadata": {
    "id": "F_z6r9RmGslY"
   },
   "source": [
    "### Ejercicio 5\n",
    "Queremos lo mismo de la gráfica de puntos que vimos pero queremos ver la evolución de casos totales con puntos de junio, julio y agosto"
   ]
  },
  {
   "cell_type": "code",
   "execution_count": null,
   "metadata": {
    "id": "6BcaJLsAGj7o"
   },
   "outputs": [],
   "source": [
    "## Resolver\r\n",
    "\r\n"
   ]
  },
  {
   "cell_type": "markdown",
   "metadata": {
    "id": "SAaQ9YLBGtBf"
   },
   "source": [
    "### Ejercicio 6 \n",
    "Añadir a la esta gráfica que acabamos de ver de Plotly: Reino Unido, Francia, Alemnania, Dinamarca y Bélgica"
   ]
  },
  {
   "cell_type": "code",
   "execution_count": null,
   "metadata": {
    "id": "Oyxqvg7zGj-N"
   },
   "outputs": [],
   "source": [
    "## Resolver\r\n",
    "\r\n",
    "import plotly.graph_objs as go\r\n",
    "from plotly.offline import init_notebook_mode, iplot\r\n",
    "import plotly as ply\r\n",
    "from plotly import subplots\r\n",
    "\r\n",
    "\r\n",
    "datos_españa = datos[datos['location'] == 'Spain']\r\n",
    "datos_italia = datos[datos['location'] == 'Italy']\r\n",
    "datos_reinounido = datos[datos['location'] == 'United Kingdom']\r\n",
    "datos_francia = datos[datos['location'] == 'France']\r\n",
    "datos_dinamarca = datos[datos['location'] == 'Denmark']\r\n",
    "datos_alemania =datos[datos['location'] == 'Germany']\r\n",
    "datos_belgica =datos[datos['location'] == 'Belgium']\r\n",
    "\r\n",
    "x_es = datos_españa['date']\r\n",
    "y_es = datos_españa['total_cases']\r\n",
    "\r\n",
    "x_it = datos_italia['date']\r\n",
    "y_it = datos_italia['total_cases']\r\n",
    "\r\n",
    "x_den = datos_dinamarca['date']\r\n",
    "y_den = datos_dinamarca['total_cases']\r\n",
    "\r\n",
    "x_ru = datos_reinounido['date']\r\n",
    "y_ru = datos_reinounido['total_cases']\r\n",
    "\r\n",
    "x_fr = datos_francia['date']\r\n",
    "y_fr = datos_francia['total_cases']\r\n",
    "\r\n",
    "x_al = datos_alemania['date']\r\n",
    "y_al = datos_alemania['total_cases']\r\n",
    "\r\n",
    "x_be = datos_belgica['date']\r\n",
    "y_be = datos_belgica['total_cases']\r\n",
    "\r\n",
    "# Create traces\r\n",
    "trace0 = go.Scatter(\r\n",
    "    x = x_es,\r\n",
    "    y = y_es,\r\n",
    "    mode = 'lines',\r\n",
    "    name = 'Total casos España'\r\n",
    ")\r\n",
    "trace1 = go.Scatter(\r\n",
    "    x = x_it,\r\n",
    "    y = y_it,\r\n",
    "    mode = 'lines',\r\n",
    "    name = 'Total casos Italia'\r\n",
    ")\r\n",
    "\r\n",
    "trace2 = go.Scatter(\r\n",
    "    x = x_den,\r\n",
    "    y = y_den,\r\n",
    "    mode = 'lines',\r\n",
    "    name = 'Total casos Dinamarca'\r\n",
    ")\r\n",
    "\r\n",
    "trace3 = go.Scatter(\r\n",
    "    x = x_ru,\r\n",
    "    y = y_ru,\r\n",
    "    mode = 'lines',\r\n",
    "    name = 'Total casos Reino Unido'\r\n",
    ")\r\n",
    "\r\n",
    "trace4 = go.Scatter(\r\n",
    "    x = x_fr,\r\n",
    "    y = y_fr,\r\n",
    "    mode = 'lines',\r\n",
    "    name = 'Total casos Francia'\r\n",
    ")\r\n",
    "\r\n",
    "trace5 = go.Scatter(\r\n",
    "    x = x_al,\r\n",
    "    y = y_al,\r\n",
    "    mode = 'lines',\r\n",
    "    name = 'Total casos Alemania'\r\n",
    ")\r\n",
    "\r\n",
    "trace6 = go.Scatter(\r\n",
    "    x = x_be,\r\n",
    "    y = y_be,\r\n",
    "    mode = 'lines',\r\n",
    "    name = 'Total casos Bélgica'\r\n",
    ")\r\n",
    "\r\n",
    "\r\n",
    "\r\n",
    "data = [trace0, trace1, trace2, trace3, trace4, trace5, trace6]\r\n",
    "\r\n",
    "iplot(data)"
   ]
  }
 ],
 "metadata": {
  "colab": {
   "collapsed_sections": [],
   "name": "Ejercicios día 4.ipynb",
   "provenance": []
  },
  "kernelspec": {
   "display_name": "Python 3",
   "language": "python",
   "name": "python3"
  },
  "language_info": {
   "codemirror_mode": {
    "name": "ipython",
    "version": 3
   },
   "file_extension": ".py",
   "mimetype": "text/x-python",
   "name": "python",
   "nbconvert_exporter": "python",
   "pygments_lexer": "ipython3",
   "version": "3.7.7"
  }
 },
 "nbformat": 4,
 "nbformat_minor": 0
}
